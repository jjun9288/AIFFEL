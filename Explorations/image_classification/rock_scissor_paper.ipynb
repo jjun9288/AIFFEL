{
 "cells": [
  {
   "cell_type": "markdown",
   "id": "thorough-elements",
   "metadata": {},
   "source": [
    "# TRAIN"
   ]
  },
  {
   "cell_type": "code",
   "execution_count": 1,
   "id": "conventional-ranking",
   "metadata": {},
   "outputs": [],
   "source": [
    "from PIL import Image\n",
    "import os,glob"
   ]
  },
  {
   "cell_type": "code",
   "execution_count": 2,
   "id": "heated-fifty",
   "metadata": {},
   "outputs": [
    {
     "name": "stdout",
     "output_type": "stream",
     "text": [
      "516  images to be resized.\n",
      "516 images resized.\n",
      "가위 이미지 resize 완료\n",
      "------------------------------------------\n",
      "429  images to be resized.\n",
      "429 images resized.\n",
      "주먹 이미지 resize 완료\n",
      "------------------------------------------\n",
      "368  images to be resized.\n",
      "368 images resized.\n",
      "보 이미지 resize 완료\n",
      "------------------------------------------\n"
     ]
    }
   ],
   "source": [
    "# 현재 이미지 사이즈는 224 x 224 이므로 28 x 28 로 바꾸자\n",
    "import os\n",
    "\n",
    "def resize_images(img_path):\n",
    "    images = glob.glob(img_path + \"/*.jpg\")\n",
    "    \n",
    "    print(len(images),\" images to be resized.\")\n",
    "    \n",
    "    #파일마다 모두 28 x 28로 바꾸어 저장한다.\n",
    "    target_size = (28,28)\n",
    "    for img in images:\n",
    "        old_img = Image.open(img)\n",
    "        new_img = old_img.resize(target_size, Image.ANTIALIAS)\n",
    "        new_img.save(img, \"JPEG\")\n",
    "        \n",
    "    print(len(images), \"images resized.\")\n",
    "    \n",
    "image_dir_path = os.getenv(\"HOME\") + \"/aiffel/rock_scissor_paper/train_3/scissor\"\n",
    "resize_images(image_dir_path)\n",
    "print(\"가위 이미지 resize 완료\")\n",
    "print(\"------------------------------------------\")\n",
    "\n",
    "image_dir_path = os.getenv(\"HOME\") + \"/aiffel/rock_scissor_paper/train_3/rock\"\n",
    "resize_images(image_dir_path)\n",
    "print(\"주먹 이미지 resize 완료\")\n",
    "print(\"------------------------------------------\")\n",
    "\n",
    "image_dir_path = os.getenv(\"HOME\") + \"/aiffel/rock_scissor_paper/train_3/paper\"\n",
    "resize_images(image_dir_path)\n",
    "print(\"보 이미지 resize 완료\")\n",
    "print(\"------------------------------------------\")"
   ]
  },
  {
   "cell_type": "code",
   "execution_count": 3,
   "id": "positive-amateur",
   "metadata": {},
   "outputs": [
    {
     "name": "stdout",
     "output_type": "stream",
     "text": [
      "학습데이터 (x_train)의 이미지 갯수는 1313 입니다.\n",
      "x_train shape : (1313, 28, 28, 3)\n",
      "y_train shape : (1313,)\n"
     ]
    }
   ],
   "source": [
    "import numpy as np\n",
    "\n",
    "def load_data(img_path, number_of_data = 1313):     #151은 이미지 갯수. \n",
    "    #가위 : 0, 바위 : 1, 보 : 2\n",
    "    img_size = 28\n",
    "    color = 3\n",
    "    #이미지 데이터와 라벨(가위:0,바위:1,보:2)데이터를 담을 행렬 생성\n",
    "    imgs = np.zeros(number_of_data * img_size * img_size * color, dtype = np.int32).reshape(number_of_data,img_size,img_size,color)\n",
    "    labels = np.zeros(number_of_data, dtype = np.int32)\n",
    "    \n",
    "    idx = 0\n",
    "    for file in glob.iglob(img_path + '/scissor/*.jpg'):\n",
    "        img = np.array(Image.open(file), dtype = np.int32)\n",
    "        imgs[idx,:,:,:] = img    #데이터 영역에 이미지 행렬을 복사\n",
    "        labels[idx] = 0    #가위 : 0\n",
    "        idx += 1\n",
    "        \n",
    "    for file in glob.iglob(img_path + '/rock/*.jpg'):\n",
    "        img = np.array(Image.open(file), dtype = np.int32)\n",
    "        imgs[idx,:,:,:] = img    #데이터 영역에 이미지 행렬을 복사\n",
    "        labels[idx] = 1    #바위 : 1\n",
    "        idx += 1\n",
    "        \n",
    "    for file in glob.iglob(img_path + '/paper/*.jpg'):\n",
    "        img = np.array(Image.open(file), dtype = np.int32)\n",
    "        imgs[idx,:,:,:] = img    #데이터 영역에 이미지 행렬을 복사\n",
    "        labels[idx] = 2    #보 : 2\n",
    "        idx += 1\n",
    "        \n",
    "    print(\"학습데이터 (x_train)의 이미지 갯수는\", idx, \"입니다.\")\n",
    "    return imgs, labels\n",
    "    \n",
    "image_dir_path = os.getenv(\"HOME\") + \"/aiffel/rock_scissor_paper/train_3\"\n",
    "(x_train, y_train) = load_data(image_dir_path)\n",
    "x_train_norm = x_train/255.0\n",
    "\n",
    "print(\"x_train shape : {}\".format(x_train.shape))\n",
    "print(\"y_train shape : {}\".format(y_train.shape))"
   ]
  },
  {
   "cell_type": "code",
   "execution_count": 4,
   "id": "varying-barbados",
   "metadata": {},
   "outputs": [
    {
     "name": "stdout",
     "output_type": "stream",
     "text": [
      "라벨 :  0\n"
     ]
    },
    {
     "data": {
      "image/png": "[encoded data removed]",
      "text/plain": [
       "<Figure size 432x288 with 1 Axes>"
      ]
     },
     "metadata": {
      "needs_background": "light"
     },
     "output_type": "display_data"
    }
   ],
   "source": [
    "import matplotlib.pyplot as plt\n",
    "plt.imshow(x_train[0])\n",
    "print('라벨 : ',y_train[0])"
   ]
  },
  {
   "cell_type": "code",
   "execution_count": 5,
   "id": "hydraulic-niagara",
   "metadata": {},
   "outputs": [],
   "source": [
    "import tensorflow as tf\n",
    "from tensorflow import keras\n",
    "import numpy as np"
   ]
  },
  {
   "cell_type": "code",
   "execution_count": 81,
   "id": "twenty-palace",
   "metadata": {},
   "outputs": [
    {
     "name": "stdout",
     "output_type": "stream",
     "text": [
      "Epoch 1/15\n",
      "42/42 [==============================] - 1s 18ms/step - loss: 34.3342 - accuracy: 0.3436\n",
      "Epoch 2/15\n",
      "42/42 [==============================] - 1s 18ms/step - loss: 0.8215 - accuracy: 0.6227\n",
      "Epoch 3/15\n",
      "42/42 [==============================] - 1s 18ms/step - loss: 0.5427 - accuracy: 0.7698\n",
      "Epoch 4/15\n",
      "42/42 [==============================] - 1s 18ms/step - loss: 0.4171 - accuracy: 0.8130\n",
      "Epoch 5/15\n",
      "42/42 [==============================] - 1s 18ms/step - loss: 0.2871 - accuracy: 0.8987\n",
      "Epoch 6/15\n",
      "42/42 [==============================] - 1s 18ms/step - loss: 0.1836 - accuracy: 0.9280\n",
      "Epoch 7/15\n",
      "42/42 [==============================] - 1s 18ms/step - loss: 0.1628 - accuracy: 0.9326\n",
      "Epoch 8/15\n",
      "42/42 [==============================] - 1s 18ms/step - loss: 0.1233 - accuracy: 0.9522\n",
      "Epoch 9/15\n",
      "42/42 [==============================] - 1s 18ms/step - loss: 0.1284 - accuracy: 0.9691\n",
      "Epoch 10/15\n",
      "42/42 [==============================] - 1s 18ms/step - loss: 0.1102 - accuracy: 0.9602\n",
      "Epoch 11/15\n",
      "42/42 [==============================] - 1s 18ms/step - loss: 0.0869 - accuracy: 0.9728\n",
      "Epoch 12/15\n",
      "42/42 [==============================] - 1s 18ms/step - loss: 0.1284 - accuracy: 0.9557\n",
      "Epoch 13/15\n",
      "42/42 [==============================] - 1s 18ms/step - loss: 0.0892 - accuracy: 0.9809\n",
      "Epoch 14/15\n",
      "42/42 [==============================] - 1s 18ms/step - loss: 0.1748 - accuracy: 0.9499\n",
      "Epoch 15/15\n",
      "42/42 [==============================] - 1s 18ms/step - loss: 0.0845 - accuracy: 0.9648\n",
      "42/42 - 0s - loss: 0.0220 - accuracy: 0.9939\n",
      "train_loss : 0.02195245772600174\n",
      "train_accuracy : 0.99390709400177\n"
     ]
    }
   ],
   "source": [
    "#hyperparameters\n",
    "n_channel_1 = 16\n",
    "n_channel_2 = 32\n",
    "n_channel_3 = 64\n",
    "n_channel_4 = 128\n",
    "epoch = 15\n",
    "\n",
    "model = keras.models.Sequential()\n",
    "#conv layer1\n",
    "model.add(keras.layers.Conv2D(256, (3,3), activation = 'relu', input_shape=(28,28,3)))\n",
    "#pooling layer1\n",
    "model.add(keras.layers.AveragePooling2D(pool_size = 2, strides = 2))\n",
    "#conv laver2\n",
    "model.add(keras.layers.Conv2D(512, (3,3), activation = 'relu'))\n",
    "#pooling layer2\n",
    "model.add(keras.layers.AveragePooling2D(pool_size = 2, strides = 2))\n",
    "model.add(keras.layers.Flatten())\n",
    "#Fully connected layer3\n",
    "model.add(keras.layers.Dense(512, activation = 'relu'))\n",
    "model.add(keras.layers.Dropout(0.5))\n",
    "#Fully connected layer4\n",
    "model.add(keras.layers.Dense(64, activation = 'relu'))\n",
    "model.add(keras.layers.Dropout(0.5))\n",
    "#Fully connected layer5\n",
    "model.add(keras.layers.Dense(3, activation = 'softmax'))\n",
    "\n",
    "model.compile(optimizer = 'adam',\n",
    "             loss = 'sparse_categorical_crossentropy',\n",
    "             metrics = ['accuracy'])\n",
    "# 모델 훈련\n",
    "model.fit(x_train, y_train, epochs = epoch)\n",
    "\n",
    "train_loss, train_accuracy = model.evaluate(x_train, y_train, verbose = 2)\n",
    "print('train_loss : {}'.format(train_loss))\n",
    "print('train_accuracy : {}'.format(train_accuracy))"
   ]
  },
  {
   "cell_type": "code",
   "execution_count": 7,
   "id": "international-discount",
   "metadata": {},
   "outputs": [
    {
     "data": {
      "text/plain": [
       "'\\nimport random\\n\\npredicted_result = model.predict(x_train)    #model 이 추론할 확률값\\npredicted_labels = np.argmax(predicted_result, axis = 1)\\n\\nwrong = []\\nfor i, _ in enumerate(predicted_labels):\\n    if predicted_labels[i] != y_train[i]:\\n        wrong.append(i)\\n\\nsamples = random.choices(population = wrong, k=3)\\n\\nfor n in samples:\\n    print(\"라벨 : \" + str(y_train[n]) + \", 예측결과 : \" + str(predicted_labels[n]))\\n    plt.imshow(x_train[n], cmap = plt.cm.binary)\\n    plt.show()\\n'"
      ]
     },
     "execution_count": 7,
     "metadata": {},
     "output_type": "execute_result"
    }
   ],
   "source": [
    "# 다른 값 예측한 경우에 대하여\n",
    "'''\n",
    "import random\n",
    "\n",
    "predicted_result = model.predict(x_train)    #model 이 추론할 확률값\n",
    "predicted_labels = np.argmax(predicted_result, axis = 1)\n",
    "\n",
    "wrong = []\n",
    "for i, _ in enumerate(predicted_labels):\n",
    "    if predicted_labels[i] != y_train[i]:\n",
    "        wrong.append(i)\n",
    "\n",
    "samples = random.choices(population = wrong, k=3)\n",
    "\n",
    "for n in samples:\n",
    "    print(\"라벨 : \" + str(y_train[n]) + \", 예측결과 : \" + str(predicted_labels[n]))\n",
    "    plt.imshow(x_train[n], cmap = plt.cm.binary)\n",
    "    plt.show()\n",
    "'''"
   ]
  },
  {
   "cell_type": "markdown",
   "id": "failing-nitrogen",
   "metadata": {},
   "source": [
    "# TEST"
   ]
  },
  {
   "cell_type": "code",
   "execution_count": 8,
   "id": "genetic-career",
   "metadata": {},
   "outputs": [
    {
     "name": "stdout",
     "output_type": "stream",
     "text": [
      "100  images to be resized.\n",
      "100 images resized.\n",
      "가위 이미지 resize 완료\n",
      "------------------------------------------\n",
      "100  images to be resized.\n",
      "100 images resized.\n",
      "주먹 이미지 resize 완료\n",
      "------------------------------------------\n",
      "100  images to be resized.\n",
      "100 images resized.\n",
      "보 이미지 resize 완료\n",
      "------------------------------------------\n"
     ]
    }
   ],
   "source": [
    "image_dir_path = os.getenv(\"HOME\") + \"/aiffel/rock_scissor_paper/test/scissor\"\n",
    "resize_images(image_dir_path)\n",
    "print(\"가위 이미지 resize 완료\")\n",
    "print(\"------------------------------------------\")\n",
    "\n",
    "image_dir_path = os.getenv(\"HOME\") + \"/aiffel/rock_scissor_paper/test/rock\"\n",
    "resize_images(image_dir_path)\n",
    "print(\"주먹 이미지 resize 완료\")\n",
    "print(\"------------------------------------------\")\n",
    "\n",
    "image_dir_path = os.getenv(\"HOME\") + \"/aiffel/rock_scissor_paper/test/paper\"\n",
    "resize_images(image_dir_path)\n",
    "print(\"보 이미지 resize 완료\")\n",
    "print(\"------------------------------------------\")"
   ]
  },
  {
   "cell_type": "code",
   "execution_count": 9,
   "id": "meaningful-vampire",
   "metadata": {},
   "outputs": [
    {
     "name": "stdout",
     "output_type": "stream",
     "text": [
      "학습데이터 (x_train)의 이미지 갯수는 300 입니다.\n",
      "x_train shape : (300, 28, 28, 3)\n",
      "y_train shape : (300,)\n"
     ]
    }
   ],
   "source": [
    "def load_data(img_path, number_of_data = 300):      \n",
    "    #가위 : 0, 바위 : 1, 보 : 2\n",
    "    img_size = 28\n",
    "    color = 3\n",
    "    #이미지 데이터와 라벨(가위:0,바위:1,보:2)데이터를 담을 행렬 생성\n",
    "    imgs = np.zeros(number_of_data * img_size * img_size * color, dtype = np.int32).reshape(number_of_data,img_size,img_size,color)\n",
    "    labels = np.zeros(number_of_data, dtype = np.int32)\n",
    "    \n",
    "    idx = 0\n",
    "    for file in glob.iglob(img_path + '/scissor/*.jpg'):\n",
    "        img = np.array(Image.open(file), dtype = np.int32)\n",
    "        imgs[idx,:,:,:] = img    #데이터 영역에 이미지 행렬을 복사\n",
    "        labels[idx] = 0    #가위 : 0\n",
    "        idx += 1\n",
    "        \n",
    "    for file in glob.iglob(img_path + '/rock/*.jpg'):\n",
    "        img = np.array(Image.open(file), dtype = np.int32)\n",
    "        imgs[idx,:,:,:] = img    #데이터 영역에 이미지 행렬을 복사\n",
    "        labels[idx] = 1    #바위 : 1\n",
    "        idx += 1\n",
    "        \n",
    "    for file in glob.iglob(img_path + '/paper/*.jpg'):\n",
    "        img = np.array(Image.open(file), dtype = np.int32)\n",
    "        imgs[idx,:,:,:] = img    #데이터 영역에 이미지 행렬을 복사\n",
    "        labels[idx] = 2    #보 : 2\n",
    "        idx += 1\n",
    "        \n",
    "    print(\"학습데이터 (x_train)의 이미지 갯수는\", idx, \"입니다.\")\n",
    "    return imgs, labels\n",
    "    \n",
    "image_dir_path = os.getenv(\"HOME\") + \"/aiffel/rock_scissor_paper/test\"\n",
    "(x_test, y_test) = load_data(image_dir_path)\n",
    "x_test_norm = x_test/255.0\n",
    "\n",
    "print(\"x_train shape : {}\".format(x_test.shape))\n",
    "print(\"y_train shape : {}\".format(y_test.shape))"
   ]
  },
  {
   "cell_type": "code",
   "execution_count": 10,
   "id": "average-adelaide",
   "metadata": {},
   "outputs": [
    {
     "name": "stdout",
     "output_type": "stream",
     "text": [
      "라벨 :  0\n"
     ]
    },
    {
     "data": {
      "image/png": "[encoded data removed]",
      "text/plain": [
       "<Figure size 432x288 with 1 Axes>"
      ]
     },
     "metadata": {
      "needs_background": "light"
     },
     "output_type": "display_data"
    }
   ],
   "source": [
    "plt.imshow(x_test[0])\n",
    "print('라벨 : ',y_test[0])"
   ]
  },
  {
   "cell_type": "code",
   "execution_count": 82,
   "id": "split-excitement",
   "metadata": {},
   "outputs": [
    {
     "name": "stdout",
     "output_type": "stream",
     "text": [
      "10/10 - 0s - loss: 2.2454 - accuracy: 0.5233\n",
      "test_loss : 2.245431423187256\n",
      "test_accuracy : 0.5233333110809326\n"
     ]
    }
   ],
   "source": [
    "test_loss, test_accuracy = model.evaluate(x_test, y_test, verbose = 2)\n",
    "print('test_loss : {}'.format(test_loss))\n",
    "print('test_accuracy : {}'.format(test_accuracy))"
   ]
  },
  {
   "cell_type": "code",
   "execution_count": null,
   "id": "manual-genetics",
   "metadata": {},
   "outputs": [],
   "source": []
  },
  {
   "cell_type": "code",
   "execution_count": null,
   "id": "ahead-crazy",
   "metadata": {},
   "outputs": [],
   "source": []
  }
 ],
 "metadata": {
  "kernelspec": {
   "display_name": "Python 3",
   "language": "python",
   "name": "python3"
  },
  "language_info": {
   "codemirror_mode": {
    "name": "ipython",
    "version": 3
   },
   "file_extension": ".py",
   "mimetype": "text/x-python",
   "name": "python",
   "nbconvert_exporter": "python",
   "pygments_lexer": "ipython3",
   "version": "3.7.9"
  }
 },
 "nbformat": 4,
 "nbformat_minor": 5
}
