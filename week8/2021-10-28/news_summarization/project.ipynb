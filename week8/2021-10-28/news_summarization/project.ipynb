{
 "cells": [
  {
   "cell_type": "code",
   "execution_count": 1,
   "id": "advanced-football",
   "metadata": {},
   "outputs": [
    {
     "name": "stderr",
     "output_type": "stream",
     "text": [
      "[nltk_data] Downloading package stopwords to /aiffel/nltk_data...\n",
      "[nltk_data]   Unzipping corpora/stopwords.zip.\n"
     ]
    }
   ],
   "source": [
    "import nltk\n",
    "nltk.download('stopwords')\n",
    "\n",
    "import numpy as np\n",
    "import pandas as pd\n",
    "import os\n",
    "import re\n",
    "import matplotlib.pyplot as plt\n",
    "from nltk.corpus import stopwords\n",
    "from bs4 import BeautifulSoup \n",
    "from tensorflow.keras.preprocessing.text import Tokenizer \n",
    "from tensorflow.keras.preprocessing.sequence import pad_sequences\n",
    "import urllib.request"
   ]
  },
  {
   "cell_type": "code",
   "execution_count": 2,
   "id": "assumed-connecticut",
   "metadata": {},
   "outputs": [],
   "source": [
    "import pandas as pd\n",
    "import urllib.request\n",
    "urllib.request.urlretrieve(\"https://raw.githubusercontent.com/sunnysai12345/News_Summary/master/news_summary_more.csv\", filename=\"news_summary_more.csv\")\n",
    "data = pd.read_csv('news_summary_more.csv', encoding='iso-8859-1')"
   ]
  },
  {
   "cell_type": "code",
   "execution_count": 3,
   "id": "tropical-blond",
   "metadata": {},
   "outputs": [
    {
     "data": {
      "text/html": [
       "<div>\n",
       "<style scoped>\n",
       "    .dataframe tbody tr th:only-of-type {\n",
       "        vertical-align: middle;\n",
       "    }\n",
       "\n",
       "    .dataframe tbody tr th {\n",
       "        vertical-align: top;\n",
       "    }\n",
       "\n",
       "    .dataframe thead th {\n",
       "        text-align: right;\n",
       "    }\n",
       "</style>\n",
       "<table border=\"1\" class=\"dataframe\">\n",
       "  <thead>\n",
       "    <tr style=\"text-align: right;\">\n",
       "      <th></th>\n",
       "      <th>headlines</th>\n",
       "      <th>text</th>\n",
       "    </tr>\n",
       "  </thead>\n",
       "  <tbody>\n",
       "    <tr>\n",
       "      <th>42582</th>\n",
       "      <td>Ukrainian war hero MP detained over suspected ...</td>\n",
       "      <td>Ukrainian MP Nadiya Savchenko was stripped of ...</td>\n",
       "    </tr>\n",
       "    <tr>\n",
       "      <th>40519</th>\n",
       "      <td>Ramdev's Patanjali launches new messaging app ...</td>\n",
       "      <td>Yoga guru Ramdev's Patanjali has launched a ne...</td>\n",
       "    </tr>\n",
       "    <tr>\n",
       "      <th>17619</th>\n",
       "      <td>T'gana bus accident victims' kin use husk to p...</td>\n",
       "      <td>Many families who lost members in the Telangan...</td>\n",
       "    </tr>\n",
       "    <tr>\n",
       "      <th>3959</th>\n",
       "      <td>Sensex starts New Year with 186-point rally</td>\n",
       "      <td>Indian equity benchmark Sensex closed 186.24 p...</td>\n",
       "    </tr>\n",
       "    <tr>\n",
       "      <th>80041</th>\n",
       "      <td>Arbaaz Khan trolled after Roger Federer's Wimb...</td>\n",
       "      <td>Actor Arbaaz Khan was trolled on Twitter after...</td>\n",
       "    </tr>\n",
       "    <tr>\n",
       "      <th>118</th>\n",
       "      <td>Delhi consultant accuses SpiceJet MD of cheati...</td>\n",
       "      <td>The Delhi Police has registered an FIR against...</td>\n",
       "    </tr>\n",
       "    <tr>\n",
       "      <th>32572</th>\n",
       "      <td>Kohli to be paid as much as other players at S...</td>\n",
       "      <td>Virat Kohli will be paid \"at par with any stan...</td>\n",
       "    </tr>\n",
       "    <tr>\n",
       "      <th>45962</th>\n",
       "      <td>Dubai Police clears the release of Sridevi's body</td>\n",
       "      <td>Dubai Police has cleared the release of actor ...</td>\n",
       "    </tr>\n",
       "    <tr>\n",
       "      <th>61220</th>\n",
       "      <td>Fear of touching women's chests may be barrier...</td>\n",
       "      <td>A US-based study involving nearly 20,000 cases...</td>\n",
       "    </tr>\n",
       "    <tr>\n",
       "      <th>24214</th>\n",
       "      <td>Man detonates explosive near US embassy in China</td>\n",
       "      <td>A 26-year-old man detonated an explosive devic...</td>\n",
       "    </tr>\n",
       "  </tbody>\n",
       "</table>\n",
       "</div>"
      ],
      "text/plain": [
       "                                               headlines  \\\n",
       "42582  Ukrainian war hero MP detained over suspected ...   \n",
       "40519  Ramdev's Patanjali launches new messaging app ...   \n",
       "17619  T'gana bus accident victims' kin use husk to p...   \n",
       "3959         Sensex starts New Year with 186-point rally   \n",
       "80041  Arbaaz Khan trolled after Roger Federer's Wimb...   \n",
       "118    Delhi consultant accuses SpiceJet MD of cheati...   \n",
       "32572  Kohli to be paid as much as other players at S...   \n",
       "45962  Dubai Police clears the release of Sridevi's body   \n",
       "61220  Fear of touching women's chests may be barrier...   \n",
       "24214   Man detonates explosive near US embassy in China   \n",
       "\n",
       "                                                    text  \n",
       "42582  Ukrainian MP Nadiya Savchenko was stripped of ...  \n",
       "40519  Yoga guru Ramdev's Patanjali has launched a ne...  \n",
       "17619  Many families who lost members in the Telangan...  \n",
       "3959   Indian equity benchmark Sensex closed 186.24 p...  \n",
       "80041  Actor Arbaaz Khan was trolled on Twitter after...  \n",
       "118    The Delhi Police has registered an FIR against...  \n",
       "32572  Virat Kohli will be paid \"at par with any stan...  \n",
       "45962  Dubai Police has cleared the release of actor ...  \n",
       "61220  A US-based study involving nearly 20,000 cases...  \n",
       "24214  A 26-year-old man detonated an explosive devic...  "
      ]
     },
     "execution_count": 3,
     "metadata": {},
     "output_type": "execute_result"
    }
   ],
   "source": [
    "data.sample(10)"
   ]
  },
  {
   "cell_type": "markdown",
   "id": "adjustable-plenty",
   "metadata": {},
   "source": [
    "# 2. 데이터 전처리"
   ]
  },
  {
   "cell_type": "code",
   "execution_count": 4,
   "id": "ecological-insulation",
   "metadata": {},
   "outputs": [
    {
     "name": "stdout",
     "output_type": "stream",
     "text": [
      "headlines의 유니크한 데이터 수 :  98280\n",
      "text의 유니크한 데이터 수 :  98360\n"
     ]
    }
   ],
   "source": [
    "print('headlines의 유니크한 데이터 수 : ', data['headlines'].nunique())\n",
    "print('text의 유니크한 데이터 수 : ', data['text'].nunique())"
   ]
  },
  {
   "cell_type": "code",
   "execution_count": 5,
   "id": "computational-postcard",
   "metadata": {},
   "outputs": [
    {
     "name": "stdout",
     "output_type": "stream",
     "text": [
      "전체 샘플수 : 98360\n"
     ]
    }
   ],
   "source": [
    "data.drop_duplicates(subset = ['text'], inplace = True)\n",
    "print('전체 샘플수 :',(len(data)))"
   ]
  },
  {
   "cell_type": "code",
   "execution_count": 6,
   "id": "cross-halifax",
   "metadata": {},
   "outputs": [
    {
     "name": "stdout",
     "output_type": "stream",
     "text": [
      "headlines    0\n",
      "text         0\n",
      "dtype: int64\n"
     ]
    }
   ],
   "source": [
    "print(data.isnull().sum())"
   ]
  },
  {
   "cell_type": "code",
   "execution_count": 7,
   "id": "amber-edward",
   "metadata": {},
   "outputs": [
    {
     "name": "stdout",
     "output_type": "stream",
     "text": [
      "정규화 사전의 수:  120\n"
     ]
    }
   ],
   "source": [
    "contractions = {\"ain't\": \"is not\", \"aren't\": \"are not\",\"can't\": \"cannot\", \"'cause\": \"because\", \"could've\": \"could have\", \"couldn't\": \"could not\",\n",
    "                           \"didn't\": \"did not\",  \"doesn't\": \"does not\", \"don't\": \"do not\", \"hadn't\": \"had not\", \"hasn't\": \"has not\", \"haven't\": \"have not\",\n",
    "                           \"he'd\": \"he would\",\"he'll\": \"he will\", \"he's\": \"he is\", \"how'd\": \"how did\", \"how'd'y\": \"how do you\", \"how'll\": \"how will\", \"how's\": \"how is\",\n",
    "                           \"I'd\": \"I would\", \"I'd've\": \"I would have\", \"I'll\": \"I will\", \"I'll've\": \"I will have\",\"I'm\": \"I am\", \"I've\": \"I have\", \"i'd\": \"i would\",\n",
    "                           \"i'd've\": \"i would have\", \"i'll\": \"i will\",  \"i'll've\": \"i will have\",\"i'm\": \"i am\", \"i've\": \"i have\", \"isn't\": \"is not\", \"it'd\": \"it would\",\n",
    "                           \"it'd've\": \"it would have\", \"it'll\": \"it will\", \"it'll've\": \"it will have\",\"it's\": \"it is\", \"let's\": \"let us\", \"ma'am\": \"madam\",\n",
    "                           \"mayn't\": \"may not\", \"might've\": \"might have\",\"mightn't\": \"might not\",\"mightn't've\": \"might not have\", \"must've\": \"must have\",\n",
    "                           \"mustn't\": \"must not\", \"mustn't've\": \"must not have\", \"needn't\": \"need not\", \"needn't've\": \"need not have\",\"o'clock\": \"of the clock\",\n",
    "                           \"oughtn't\": \"ought not\", \"oughtn't've\": \"ought not have\", \"shan't\": \"shall not\", \"sha'n't\": \"shall not\", \"shan't've\": \"shall not have\",\n",
    "                           \"she'd\": \"she would\", \"she'd've\": \"she would have\", \"she'll\": \"she will\", \"she'll've\": \"she will have\", \"she's\": \"she is\",\n",
    "                           \"should've\": \"should have\", \"shouldn't\": \"should not\", \"shouldn't've\": \"should not have\", \"so've\": \"so have\",\"so's\": \"so as\",\n",
    "                           \"this's\": \"this is\",\"that'd\": \"that would\", \"that'd've\": \"that would have\", \"that's\": \"that is\", \"there'd\": \"there would\",\n",
    "                           \"there'd've\": \"there would have\", \"there's\": \"there is\", \"here's\": \"here is\",\"they'd\": \"they would\", \"they'd've\": \"they would have\",\n",
    "                           \"they'll\": \"they will\", \"they'll've\": \"they will have\", \"they're\": \"they are\", \"they've\": \"they have\", \"to've\": \"to have\",\n",
    "                           \"wasn't\": \"was not\", \"we'd\": \"we would\", \"we'd've\": \"we would have\", \"we'll\": \"we will\", \"we'll've\": \"we will have\", \"we're\": \"we are\",\n",
    "                           \"we've\": \"we have\", \"weren't\": \"were not\", \"what'll\": \"what will\", \"what'll've\": \"what will have\", \"what're\": \"what are\",\n",
    "                           \"what's\": \"what is\", \"what've\": \"what have\", \"when's\": \"when is\", \"when've\": \"when have\", \"where'd\": \"where did\", \"where's\": \"where is\",\n",
    "                           \"where've\": \"where have\", \"who'll\": \"who will\", \"who'll've\": \"who will have\", \"who's\": \"who is\", \"who've\": \"who have\",\n",
    "                           \"why's\": \"why is\", \"why've\": \"why have\", \"will've\": \"will have\", \"won't\": \"will not\", \"won't've\": \"will not have\",\n",
    "                           \"would've\": \"would have\", \"wouldn't\": \"would not\", \"wouldn't've\": \"would not have\", \"y'all\": \"you all\",\n",
    "                           \"y'all'd\": \"you all would\",\"y'all'd've\": \"you all would have\",\"y'all're\": \"you all are\",\"y'all've\": \"you all have\",\n",
    "                           \"you'd\": \"you would\", \"you'd've\": \"you would have\", \"you'll\": \"you will\", \"you'll've\": \"you will have\",\n",
    "                           \"you're\": \"you are\", \"you've\": \"you have\"}\n",
    "\n",
    "print(\"정규화 사전의 수: \",len(contractions))"
   ]
  },
  {
   "cell_type": "code",
   "execution_count": 8,
   "id": "established-mineral",
   "metadata": {},
   "outputs": [
    {
     "name": "stdout",
     "output_type": "stream",
     "text": [
      "불용어 개수 : 179\n",
      "['i', 'me', 'my', 'myself', 'we', 'our', 'ours', 'ourselves', 'you', \"you're\", \"you've\", \"you'll\", \"you'd\", 'your', 'yours', 'yourself', 'yourselves', 'he', 'him', 'his', 'himself', 'she', \"she's\", 'her', 'hers', 'herself', 'it', \"it's\", 'its', 'itself', 'they', 'them', 'their', 'theirs', 'themselves', 'what', 'which', 'who', 'whom', 'this', 'that', \"that'll\", 'these', 'those', 'am', 'is', 'are', 'was', 'were', 'be', 'been', 'being', 'have', 'has', 'had', 'having', 'do', 'does', 'did', 'doing', 'a', 'an', 'the', 'and', 'but', 'if', 'or', 'because', 'as', 'until', 'while', 'of', 'at', 'by', 'for', 'with', 'about', 'against', 'between', 'into', 'through', 'during', 'before', 'after', 'above', 'below', 'to', 'from', 'up', 'down', 'in', 'out', 'on', 'off', 'over', 'under', 'again', 'further', 'then', 'once', 'here', 'there', 'when', 'where', 'why', 'how', 'all', 'any', 'both', 'each', 'few', 'more', 'most', 'other', 'some', 'such', 'no', 'nor', 'not', 'only', 'own', 'same', 'so', 'than', 'too', 'very', 's', 't', 'can', 'will', 'just', 'don', \"don't\", 'should', \"should've\", 'now', 'd', 'll', 'm', 'o', 're', 've', 'y', 'ain', 'aren', \"aren't\", 'couldn', \"couldn't\", 'didn', \"didn't\", 'doesn', \"doesn't\", 'hadn', \"hadn't\", 'hasn', \"hasn't\", 'haven', \"haven't\", 'isn', \"isn't\", 'ma', 'mightn', \"mightn't\", 'mustn', \"mustn't\", 'needn', \"needn't\", 'shan', \"shan't\", 'shouldn', \"shouldn't\", 'wasn', \"wasn't\", 'weren', \"weren't\", 'won', \"won't\", 'wouldn', \"wouldn't\"]\n"
     ]
    }
   ],
   "source": [
    "print('불용어 개수 :', len(stopwords.words('english') ))\n",
    "print(stopwords.words('english'))"
   ]
  },
  {
   "cell_type": "code",
   "execution_count": 9,
   "id": "coral-grammar",
   "metadata": {},
   "outputs": [],
   "source": [
    "def preprocess_sentence(sentence, remove_stopwords=True):\n",
    "    sentence = sentence.lower()    # 텍스트 소문자화\n",
    "    sentence = BeautifulSoup(sentence, \"lxml\").text   # <> 등 html 태그 제거\n",
    "    sentence = re.sub(r'\\([^)]*\\)', '', sentence) # 괄호로 닫힌 문자열 (~~) 제거\n",
    "    sentence = re.sub('\"\"', '', sentence) # 쌍따옴표 \" 제거\n",
    "    sentence = ' '.join([contractions[t] if t in contractions else t for t in sentence.split(\" \")])  # 약어 정규화\n",
    "    sentence = re.sub(r\"'s\\b\", \"\", sentence)  # 소유격 제거. Her's => Her\n",
    "    sentence = re.sub(\"[^a-zA-Z]\", \" \", sentence)   # 영어 외 문자(숫자, 특수문자 등) 공백으로 변환\n",
    "    sentence = re.sub('[m]{2,}', 'mm', sentence)   # m이 3개 이상이면 2개로 변경 ummmm 이런거\n",
    "    \n",
    "    # 불용어 제거 (in text)\n",
    "    if remove_stopwords:\n",
    "        tokens = ' '.join(word for word in sentence.split() if not word in stopwords.words('english') if len(word) > 1)\n",
    "    \n",
    "    # 불용어 미제거 (in headlines) 제거하면 오히려 어색함\n",
    "    else:\n",
    "        tokens = ' '.join(word for word in sentence.split() if len(word) > 1)\n",
    "    return tokens"
   ]
  },
  {
   "cell_type": "code",
   "execution_count": 10,
   "id": "silent-essex",
   "metadata": {},
   "outputs": [
    {
     "name": "stdout",
     "output_type": "stream",
     "text": [
      "everything bought great infact ordered twice third ordered wasfor mother father\n",
      "great way to start the day\n"
     ]
    }
   ],
   "source": [
    "temp_text = 'Everything I bought was great, infact I ordered twice and the third ordered was<br />for my mother and father.'\n",
    "temp_headline = 'Great way to start (or finish) the day!!!'\n",
    "\n",
    "print(preprocess_sentence(temp_text))\n",
    "print(preprocess_sentence(temp_headline, False))"
   ]
  },
  {
   "cell_type": "code",
   "execution_count": 11,
   "id": "historical-cooking",
   "metadata": {},
   "outputs": [
    {
     "data": {
      "text/plain": [
       "['saurav kant alumnus upgrad iiit pg program machine learning artificial intelligence sr systems engineer infosys almost years work experience program upgrad degree career support helped transition data scientist tech mahindra salary hike upgrad online power learning powered lakh careers',\n",
       " 'kunal shah credit card bill payment platform cred gave users chance win free food swiggy one year pranav kaushik delhi techie bagged reward spending cred coins users get one cred coin per rupee bill paid used avail rewards brands like ixigo bookmyshow ubereats cult fit',\n",
       " 'new zealand defeated india wickets fourth odi hamilton thursday win first match five match odi series india lost international match rohit sharma captaincy consecutive victories dating back march match witnessed india getting seventh lowest total odi cricket history',\n",
       " 'aegon life iterm insurance plan customers enjoy tax benefits premiums paid save taxes plan provides life cover age years also customers options insure critical illnesses disability accidental death benefit rider life cover age years',\n",
       " 'speaking sexual harassment allegations rajkumar hirani sonam kapoor said known hirani many years true metoo movement get derailed metoo movement always believe woman case need reserve judgment added hirani accused assistant worked sanju']"
      ]
     },
     "execution_count": 11,
     "metadata": {},
     "output_type": "execute_result"
    }
   ],
   "source": [
    "clean_text = []\n",
    "\n",
    "# 전체 Text 데이터에 대한 전처리 \n",
    "for s in data['text']:\n",
    "    clean_text.append(preprocess_sentence(s))\n",
    "\n",
    "# 전처리 후 출력\n",
    "clean_text[:5]"
   ]
  },
  {
   "cell_type": "code",
   "execution_count": 12,
   "id": "constitutional-shepherd",
   "metadata": {},
   "outputs": [
    {
     "data": {
      "text/plain": [
       "['upgrad learner switches to career in ml al with salary hike',\n",
       " 'delhi techie wins free food from swiggy for one year on cred',\n",
       " 'new zealand end rohit sharma led india match winning streak',\n",
       " 'aegon life iterm insurance plan helps customers save tax',\n",
       " 'have known hirani for yrs what if metoo claims are not true sonam']"
      ]
     },
     "execution_count": 12,
     "metadata": {},
     "output_type": "execute_result"
    }
   ],
   "source": [
    "clean_headline = []\n",
    "\n",
    "# 전체 Summary 데이터에 대한 전처리 \n",
    "for s in data['headlines']:\n",
    "    clean_headline.append(preprocess_sentence(s, False))\n",
    "\n",
    "clean_headline[:5]"
   ]
  },
  {
   "cell_type": "code",
   "execution_count": 13,
   "id": "recent-barrel",
   "metadata": {},
   "outputs": [],
   "source": [
    "data['text'] = clean_text\n",
    "data['headlines'] = clean_headline\n",
    "\n",
    "# 빈 값을 Null 값으로 변환\n",
    "data.replace('', np.nan, inplace=True)"
   ]
  },
  {
   "cell_type": "code",
   "execution_count": 14,
   "id": "still-explosion",
   "metadata": {},
   "outputs": [
    {
     "data": {
      "text/plain": [
       "headlines    0\n",
       "text         0\n",
       "dtype: int64"
      ]
     },
     "execution_count": 14,
     "metadata": {},
     "output_type": "execute_result"
    }
   ],
   "source": [
    "data.isnull().sum()"
   ]
  },
  {
   "cell_type": "code",
   "execution_count": 15,
   "id": "later-platform",
   "metadata": {},
   "outputs": [
    {
     "name": "stdout",
     "output_type": "stream",
     "text": [
      "텍스트의 최소 길이 : 1\n",
      "텍스트의 최대 길이 : 60\n",
      "텍스트의 평균 길이 : 35.097763318422125\n",
      "요약의 최소 길이 : 1\n",
      "요약의 최대 길이 : 16\n",
      "요약의 평균 길이 : 9.29956283041887\n"
     ]
    },
    {
     "data": {
      "image/png": "[encoded data removed]",
      "text/plain": [
       "<Figure size 432x288 with 2 Axes>"
      ]
     },
     "metadata": {
      "needs_background": "light"
     },
     "output_type": "display_data"
    },
    {
     "data": {
      "image/png": "[encoded data removed]",
      "text/plain": [
       "<Figure size 432x288 with 1 Axes>"
      ]
     },
     "metadata": {
      "needs_background": "light"
     },
     "output_type": "display_data"
    },
    {
     "data": {
      "image/png": "[encoded data removed]",
      "text/plain": [
       "<Figure size 432x288 with 1 Axes>"
      ]
     },
     "metadata": {
      "needs_background": "light"
     },
     "output_type": "display_data"
    }
   ],
   "source": [
    "import matplotlib.pyplot as plt\n",
    "\n",
    "text_len = [len(s.split()) for s in data['text']]\n",
    "headline_len = [len(s.split()) for s in data['headlines']]\n",
    "\n",
    "print('텍스트의 최소 길이 : {}'.format(np.min(text_len)))\n",
    "print('텍스트의 최대 길이 : {}'.format(np.max(text_len)))\n",
    "print('텍스트의 평균 길이 : {}'.format(np.mean(text_len)))\n",
    "print('요약의 최소 길이 : {}'.format(np.min(headline_len)))\n",
    "print('요약의 최대 길이 : {}'.format(np.max(headline_len)))\n",
    "print('요약의 평균 길이 : {}'.format(np.mean(headline_len)))\n",
    "\n",
    "plt.subplot(1,2,1)\n",
    "plt.boxplot(headline_len)\n",
    "plt.title('headline')\n",
    "plt.subplot(1,2,2)\n",
    "plt.boxplot(text_len)\n",
    "plt.title('text')\n",
    "plt.tight_layout()\n",
    "plt.show()\n",
    "\n",
    "plt.title('headline')\n",
    "plt.hist(headline_len, bins = 40)\n",
    "plt.xlabel('length of samples')\n",
    "plt.ylabel('number of samples')\n",
    "plt.show()\n",
    "\n",
    "plt.title('text')\n",
    "plt.hist(text_len, bins = 40)\n",
    "plt.xlabel('length of samples')\n",
    "plt.ylabel('number of samples')\n",
    "plt.show()"
   ]
  },
  {
   "cell_type": "code",
   "execution_count": 16,
   "id": "guilty-albert",
   "metadata": {},
   "outputs": [],
   "source": [
    "text_max_len = 38\n",
    "headline_max_len = 11"
   ]
  },
  {
   "cell_type": "code",
   "execution_count": 17,
   "id": "affiliated-bobby",
   "metadata": {},
   "outputs": [],
   "source": [
    "def below_threshold_len(max_len, nested_list):\n",
    "    cnt = 0\n",
    "    for s in nested_list:\n",
    "        if (len(s.split()) <= max_len):\n",
    "            cnt = cnt + 1\n",
    "    print('전체 샘플 중 길이가 %s 이하인 샘플의 비율: %s'%(max_len, (cnt / len(nested_list))))"
   ]
  },
  {
   "cell_type": "code",
   "execution_count": 18,
   "id": "running-vault",
   "metadata": {},
   "outputs": [
    {
     "name": "stdout",
     "output_type": "stream",
     "text": [
      "전체 샘플 중 길이가 38 이하인 샘플의 비율: 0.8164497763318422\n",
      "전체 샘플 중 길이가 11 이하인 샘플의 비율: 0.9449877999186661\n"
     ]
    }
   ],
   "source": [
    "below_threshold_len(text_max_len, data['text'])\n",
    "below_threshold_len(headline_max_len,  data['headlines'])"
   ]
  },
  {
   "cell_type": "code",
   "execution_count": 19,
   "id": "recovered-persian",
   "metadata": {},
   "outputs": [
    {
     "name": "stdout",
     "output_type": "stream",
     "text": [
      "전체 샘플수 : 75765\n"
     ]
    }
   ],
   "source": [
    "data = data[data['text'].apply(lambda x: len(x.split()) <= text_max_len)]\n",
    "data = data[data['headlines'].apply(lambda x: len(x.split()) <= headline_max_len)]\n",
    "print('전체 샘플수 :',(len(data)))"
   ]
  },
  {
   "cell_type": "code",
   "execution_count": 20,
   "id": "discrete-calcium",
   "metadata": {},
   "outputs": [
    {
     "data": {
      "text/html": [
       "<div>\n",
       "<style scoped>\n",
       "    .dataframe tbody tr th:only-of-type {\n",
       "        vertical-align: middle;\n",
       "    }\n",
       "\n",
       "    .dataframe tbody tr th {\n",
       "        vertical-align: top;\n",
       "    }\n",
       "\n",
       "    .dataframe thead th {\n",
       "        text-align: right;\n",
       "    }\n",
       "</style>\n",
       "<table border=\"1\" class=\"dataframe\">\n",
       "  <thead>\n",
       "    <tr style=\"text-align: right;\">\n",
       "      <th></th>\n",
       "      <th>headlines</th>\n",
       "      <th>text</th>\n",
       "      <th>decoder_input</th>\n",
       "      <th>decoder_target</th>\n",
       "    </tr>\n",
       "  </thead>\n",
       "  <tbody>\n",
       "    <tr>\n",
       "      <th>2</th>\n",
       "      <td>new zealand end rohit sharma led india match w...</td>\n",
       "      <td>new zealand defeated india wickets fourth odi ...</td>\n",
       "      <td>sostoken new zealand end rohit sharma led indi...</td>\n",
       "      <td>new zealand end rohit sharma led india match w...</td>\n",
       "    </tr>\n",
       "    <tr>\n",
       "      <th>3</th>\n",
       "      <td>aegon life iterm insurance plan helps customer...</td>\n",
       "      <td>aegon life iterm insurance plan customers enjo...</td>\n",
       "      <td>sostoken aegon life iterm insurance plan helps...</td>\n",
       "      <td>aegon life iterm insurance plan helps customer...</td>\n",
       "    </tr>\n",
       "    <tr>\n",
       "      <th>5</th>\n",
       "      <td>rahat fateh ali khan denies getting notice for...</td>\n",
       "      <td>pakistani singer rahat fateh ali khan denied r...</td>\n",
       "      <td>sostoken rahat fateh ali khan denies getting n...</td>\n",
       "      <td>rahat fateh ali khan denies getting notice for...</td>\n",
       "    </tr>\n",
       "    <tr>\n",
       "      <th>7</th>\n",
       "      <td>govt directs alok verma to join work day befor...</td>\n",
       "      <td>weeks ex cbi director alok verma told departme...</td>\n",
       "      <td>sostoken govt directs alok verma to join work ...</td>\n",
       "      <td>govt directs alok verma to join work day befor...</td>\n",
       "    </tr>\n",
       "    <tr>\n",
       "      <th>8</th>\n",
       "      <td>called pm modi sir times to satisfy his ego an...</td>\n",
       "      <td>andhra pradesh cm chandrababu naidu said met u...</td>\n",
       "      <td>sostoken called pm modi sir times to satisfy h...</td>\n",
       "      <td>called pm modi sir times to satisfy his ego an...</td>\n",
       "    </tr>\n",
       "  </tbody>\n",
       "</table>\n",
       "</div>"
      ],
      "text/plain": [
       "                                           headlines  \\\n",
       "2  new zealand end rohit sharma led india match w...   \n",
       "3  aegon life iterm insurance plan helps customer...   \n",
       "5  rahat fateh ali khan denies getting notice for...   \n",
       "7  govt directs alok verma to join work day befor...   \n",
       "8  called pm modi sir times to satisfy his ego an...   \n",
       "\n",
       "                                                text  \\\n",
       "2  new zealand defeated india wickets fourth odi ...   \n",
       "3  aegon life iterm insurance plan customers enjo...   \n",
       "5  pakistani singer rahat fateh ali khan denied r...   \n",
       "7  weeks ex cbi director alok verma told departme...   \n",
       "8  andhra pradesh cm chandrababu naidu said met u...   \n",
       "\n",
       "                                       decoder_input  \\\n",
       "2  sostoken new zealand end rohit sharma led indi...   \n",
       "3  sostoken aegon life iterm insurance plan helps...   \n",
       "5  sostoken rahat fateh ali khan denies getting n...   \n",
       "7  sostoken govt directs alok verma to join work ...   \n",
       "8  sostoken called pm modi sir times to satisfy h...   \n",
       "\n",
       "                                      decoder_target  \n",
       "2  new zealand end rohit sharma led india match w...  \n",
       "3  aegon life iterm insurance plan helps customer...  \n",
       "5  rahat fateh ali khan denies getting notice for...  \n",
       "7  govt directs alok verma to join work day befor...  \n",
       "8  called pm modi sir times to satisfy his ego an...  "
      ]
     },
     "execution_count": 20,
     "metadata": {},
     "output_type": "execute_result"
    }
   ],
   "source": [
    "# 요약 데이터에는 시작 토큰과 종료 토큰을 추가.\n",
    "\n",
    "data['decoder_input'] = data['headlines'].apply(lambda x : 'sostoken '+ x)\n",
    "data['decoder_target'] = data['headlines'].apply(lambda x : x + ' eostoken')\n",
    "data.head()"
   ]
  },
  {
   "cell_type": "code",
   "execution_count": 21,
   "id": "headed-nothing",
   "metadata": {},
   "outputs": [],
   "source": [
    "# 인코더의 입력, 디코더의 입력과 레이블을 각각 다시 Numpy 타입으로 저장\n",
    "\n",
    "encoder_input = np.array(data['text']) # 인코더의 입력\n",
    "decoder_input = np.array(data['decoder_input']) # 디코더의 입력\n",
    "decoder_target = np.array(data['decoder_target']) # 디코더의 레이블"
   ]
  },
  {
   "cell_type": "code",
   "execution_count": 22,
   "id": "brief-share",
   "metadata": {},
   "outputs": [
    {
     "name": "stdout",
     "output_type": "stream",
     "text": [
      "[ 6999  9964  7392 ... 39105 35081 73486]\n"
     ]
    }
   ],
   "source": [
    "# 훈련 데이터 테스트 데이터 분리\n",
    "\n",
    "indices = np.arange(encoder_input.shape[0])  # encoder_input과 크기와 형태가 같은 정수 시퀀스 생성\n",
    "np.random.shuffle(indices)                   # 순서를 랜덤하게 섞어줍니다\n",
    "print(indices) # 랜덤한 정수 시퀀스 생성!"
   ]
  },
  {
   "cell_type": "code",
   "execution_count": 23,
   "id": "constant-rendering",
   "metadata": {},
   "outputs": [],
   "source": [
    "encoder_input = encoder_input[indices]\n",
    "decoder_input = decoder_input[indices]\n",
    "decoder_target = decoder_target[indices]"
   ]
  },
  {
   "cell_type": "code",
   "execution_count": 24,
   "id": "organized-korean",
   "metadata": {},
   "outputs": [
    {
     "name": "stdout",
     "output_type": "stream",
     "text": [
      "테스트 데이터의 수 : 15153\n"
     ]
    }
   ],
   "source": [
    "# 8:2로 훈련셋 테스트셋 분리\n",
    "\n",
    "n_of_val = int(len(encoder_input)*0.2)\n",
    "print('테스트 데이터의 수 :', n_of_val)"
   ]
  },
  {
   "cell_type": "code",
   "execution_count": 25,
   "id": "scheduled-crowd",
   "metadata": {},
   "outputs": [
    {
     "name": "stdout",
     "output_type": "stream",
     "text": [
      "훈련 데이터의 개수 :  60612\n",
      "훈련 레이블의 개수 :  60612\n",
      "테스트 데이터의 개수 :  15153\n",
      "테스트 데이터의 개수 :  15153\n"
     ]
    }
   ],
   "source": [
    "# 테스트 데이터의 갯수를 이용해 전체 데이터를 양분해줌\n",
    "\n",
    "encoder_input_train = encoder_input[:-n_of_val] # 뒤로 n_of_val개 빼고 나머지\n",
    "decoder_input_train = decoder_input[:-n_of_val] \n",
    "decoder_target_train = decoder_target[:-n_of_val]\n",
    "\n",
    "encoder_input_test = encoder_input[-n_of_val:] # 앞에 n_of_val개 빼고 나머지\n",
    "decoder_input_test = decoder_input[-n_of_val:]\n",
    "decoder_target_test = decoder_target[-n_of_val:]\n",
    "\n",
    "print('훈련 데이터의 개수 : ', len(encoder_input_train))\n",
    "print('훈련 레이블의 개수 : ', len(decoder_input_train))\n",
    "print('테스트 데이터의 개수 : ', len(encoder_input_test))\n",
    "print('테스트 데이터의 개수 : ', len(decoder_input_test))"
   ]
  },
  {
   "cell_type": "code",
   "execution_count": 26,
   "id": "global-interview",
   "metadata": {},
   "outputs": [],
   "source": [
    "src_tokenizer = Tokenizer()    # 토크나이저 생성 - 입력된 훈련 데이터로부터 단어집합 생성 가능하게 해줌\n",
    "src_tokenizer.fit_on_texts(encoder_input_train)       # 입력된 데이터로부터 단어 집합 생성"
   ]
  },
  {
   "cell_type": "code",
   "execution_count": 27,
   "id": "illegal-belarus",
   "metadata": {},
   "outputs": [
    {
     "name": "stdout",
     "output_type": "stream",
     "text": [
      "단어 집합의 크기 :  60166\n",
      "등장 빈도가 7번 이하인 희귀 단어의 수: 42437\n",
      "단어 집합에서 희귀 단어를 제외시킬 경우의 단어 집합의 크기: 17729\n",
      "단어 집합에서 희귀 단어의 비율: 70.53319150350697\n",
      "전체 등장 빈도에서 희귀 단어 등장 빈도 비율: 4.5354326415424095\n"
     ]
    }
   ],
   "source": [
    "threshold = 8\n",
    "total_count = len(src_tokenizer.word_index)      # 단어의 수\n",
    "rare_count = 0             # 등장 빈도수가 threshold보다 작은 단어의 개수를 count\n",
    "total_freq = 0             # 훈련 데이터의 전체 단어 빈도수 총 합\n",
    "rare_freq = 0              # 등장 빈도수가 threshold보다 작은 단어의 등장 빈도수 총 합\n",
    "\n",
    "# 단어와 빈도수의 쌍(pair)을 key와 value로 받음.\n",
    "for key, value in src_tokenizer.word_counts.items():\n",
    "    total_freq = total_freq + value\n",
    "    \n",
    "    # 단어의 등장 빈도수가 threshold보다 작으면\n",
    "    if (value < threshold) :\n",
    "        rare_count = rare_count + 1\n",
    "        rare_freq = rare_freq + value\n",
    "        \n",
    "print('단어 집합의 크기 : ', total_count)\n",
    "print('등장 빈도가 %s번 이하인 희귀 단어의 수: %s'%(threshold - 1, rare_count))\n",
    "print('단어 집합에서 희귀 단어를 제외시킬 경우의 단어 집합의 크기: %s'%(total_count - rare_count))\n",
    "print(\"단어 집합에서 희귀 단어의 비율:\", (rare_count / total_count)*100)\n",
    "print(\"전체 등장 빈도에서 희귀 단어 등장 빈도 비율:\", (rare_freq / total_freq)*100)"
   ]
  },
  {
   "cell_type": "code",
   "execution_count": 28,
   "id": "hearing-lambda",
   "metadata": {},
   "outputs": [],
   "source": [
    "src_vocab = 17500\n",
    "src_tokenizer = Tokenizer(num_words = src_vocab) # 단어 집합의 크기를 17,000으로 제한\n",
    "src_tokenizer.fit_on_texts(encoder_input_train) # 단어 집합 재생성."
   ]
  },
  {
   "cell_type": "code",
   "execution_count": 29,
   "id": "instant-salmon",
   "metadata": {},
   "outputs": [
    {
     "name": "stdout",
     "output_type": "stream",
     "text": [
      "[[2644, 54, 15, 8380, 7174, 83, 1, 9, 284, 390, 2947, 119, 2537, 40, 117, 40, 4257, 505, 390, 2947, 67, 401, 62, 20, 1201, 117, 40, 364, 6797], [80, 9183, 3760, 925, 162, 1788, 1020, 166, 17, 2161, 1938, 1699, 49, 789, 22, 1508, 290, 2762, 487, 7612, 99, 230, 325, 6117, 4879, 222, 3198, 9183, 3760, 7612, 33, 69, 9183, 3760, 5413, 300, 2], [2197, 361, 2101, 8777, 1973, 16, 511, 3, 16, 574, 3, 113, 3322, 85, 2197, 210, 2816, 8777, 727, 737, 16, 16, 574, 1253, 4144, 3199, 1397, 3, 3, 34, 2]]\n"
     ]
    }
   ],
   "source": [
    "# 텍스트 시퀀스를 정수 시퀀스로 변환\n",
    "encoder_input_train = src_tokenizer.texts_to_sequences(encoder_input_train)\n",
    "encoder_input_test = src_tokenizer.texts_to_sequences(encoder_input_test)\n",
    "\n",
    "# 잘 진행되었는지 샘플 출력\n",
    "print(encoder_input_train[:3])"
   ]
  },
  {
   "cell_type": "code",
   "execution_count": 30,
   "id": "traditional-athletics",
   "metadata": {},
   "outputs": [],
   "source": [
    "# headlines 에도 동일한 작업해주기\n",
    "tar_tokenizer = Tokenizer()\n",
    "tar_tokenizer.fit_on_texts(decoder_input_train)"
   ]
  },
  {
   "cell_type": "code",
   "execution_count": 31,
   "id": "subject-heater",
   "metadata": {},
   "outputs": [
    {
     "name": "stdout",
     "output_type": "stream",
     "text": [
      "단어 집합의 크기 :  27040\n",
      "등장 빈도가 6번 이하인 희귀 단어의 수: 18811\n",
      "단어 집합에서 희귀 단어를 제외시킬 경우의 단어 집합의 크기: 8229\n",
      "단어 집합에서 희귀 단어의 비율: 69.5673076923077\n",
      "전체 등장 빈도에서 희귀 단어 등장 빈도 비율: 6.39129407739865\n"
     ]
    }
   ],
   "source": [
    "\n",
    "threshold = 7\n",
    "total_count = len(tar_tokenizer.word_index)      # 단어의 수\n",
    "rare_count = 0             # 등장 빈도수가 threshold보다 작은 단어의 개수를 count\n",
    "total_freq = 0             # 훈련 데이터의 전체 단어 빈도수 총 합\n",
    "rare_freq = 0              # 등장 빈도수가 threshold보다 작은 단어의 등장 빈도수 총 합\n",
    "\n",
    "# 단어와 빈도수의 쌍(pair)을 key와 value로 받음.\n",
    "for key, value in tar_tokenizer.word_counts.items():\n",
    "    total_freq = total_freq + value\n",
    "    \n",
    "    # 단어의 등장 빈도수가 threshold보다 작으면\n",
    "    if (value < threshold) :\n",
    "        rare_count = rare_count + 1\n",
    "        rare_freq = rare_freq + value\n",
    "        \n",
    "print('단어 집합의 크기 : ', total_count)\n",
    "print('등장 빈도가 %s번 이하인 희귀 단어의 수: %s'%(threshold - 1, rare_count))\n",
    "print('단어 집합에서 희귀 단어를 제외시킬 경우의 단어 집합의 크기: %s'%(total_count - rare_count))\n",
    "print(\"단어 집합에서 희귀 단어의 비율:\", (rare_count / total_count)*100)\n",
    "print(\"전체 등장 빈도에서 희귀 단어 등장 빈도 비율:\", (rare_freq / total_freq)*100)"
   ]
  },
  {
   "cell_type": "code",
   "execution_count": 32,
   "id": "fifty-bridge",
   "metadata": {},
   "outputs": [],
   "source": [
    "tar_vocab = 8000\n",
    "tar_tokenizer = Tokenizer(num_words = tar_vocab) \n",
    "tar_tokenizer.fit_on_texts(decoder_input_train)\n",
    "tar_tokenizer.fit_on_texts(decoder_target_train)"
   ]
  },
  {
   "cell_type": "code",
   "execution_count": 33,
   "id": "adolescent-military",
   "metadata": {},
   "outputs": [
    {
     "name": "stdout",
     "output_type": "stream",
     "text": [
      "input\n",
      "input  [[1, 95, 53, 3406, 5, 4768, 11, 22, 470, 1268, 39], [1, 1813, 1814, 881, 4, 64, 37, 1001, 65, 1075], [1, 1426, 2641, 1497, 3, 29, 4, 1062], [1, 312, 20, 634, 30, 7, 435, 8, 133], [1, 165, 296, 2463, 3090, 292, 2777]]\n",
      "target\n",
      "decoder  [[95, 53, 3406, 5, 4768, 11, 22, 470, 1268, 39, 2], [1813, 1814, 881, 4, 64, 37, 1001, 65, 1075, 2], [1426, 2641, 1497, 3, 29, 4, 1062, 2], [312, 20, 634, 30, 7, 435, 8, 133, 2], [165, 296, 2463, 3090, 292, 2777, 2]]\n"
     ]
    }
   ],
   "source": [
    "# 텍스트 시퀀스를 정수 시퀀스로 변환\n",
    "decoder_input_train = tar_tokenizer.texts_to_sequences(decoder_input_train) \n",
    "decoder_target_train = tar_tokenizer.texts_to_sequences(decoder_target_train)\n",
    "decoder_input_test = tar_tokenizer.texts_to_sequences(decoder_input_test)\n",
    "decoder_target_test = tar_tokenizer.texts_to_sequences(decoder_target_test)\n",
    "\n",
    "#잘 변환되었는지 확인\n",
    "print('input')\n",
    "print('input ',decoder_input_train[:5])\n",
    "print('target')\n",
    "print('decoder ',decoder_target_train[:5])"
   ]
  },
  {
   "cell_type": "code",
   "execution_count": 34,
   "id": "pacific-blame",
   "metadata": {},
   "outputs": [
    {
     "name": "stdout",
     "output_type": "stream",
     "text": [
      "삭제할 훈련 데이터의 개수 : 0\n",
      "삭제할 테스트 데이터의 개수 : 1\n",
      "훈련 데이터의 개수 : 60612\n",
      "훈련 레이블의 개수 : 60612\n",
      "테스트 데이터의 개수 : 15152\n",
      "테스트 레이블의 개수 : 15152\n"
     ]
    },
    {
     "name": "stderr",
     "output_type": "stream",
     "text": [
      "/opt/conda/lib/python3.7/site-packages/numpy/core/_asarray.py:83: VisibleDeprecationWarning: Creating an ndarray from ragged nested sequences (which is a list-or-tuple of lists-or-tuples-or ndarrays with different lengths or shapes) is deprecated. If you meant to do this, you must specify 'dtype=object' when creating the ndarray\n",
      "  return array(a, dtype, copy=False, order=order)\n"
     ]
    }
   ],
   "source": [
    "# headline의 길이가 1인 경우(실제로는 길이가 0)의 인덱스를 저장해보자\n",
    "drop_train = [index for index, sentence in enumerate(decoder_input_train) if len(sentence) == 1]\n",
    "drop_test = [index for index, sentence in enumerate(decoder_input_test) if len(sentence) == 1]\n",
    "\n",
    "print('삭제할 훈련 데이터의 개수 :',len(drop_train))\n",
    "print('삭제할 테스트 데이터의 개수 :',len(drop_test))\n",
    "\n",
    "encoder_input_train = np.delete(encoder_input_train, drop_train, axis=0)\n",
    "decoder_input_train = np.delete(decoder_input_train, drop_train, axis=0)\n",
    "decoder_target_train = np.delete(decoder_target_train, drop_train, axis=0)\n",
    "\n",
    "encoder_input_test = np.delete(encoder_input_test, drop_test, axis=0)\n",
    "decoder_input_test = np.delete(decoder_input_test, drop_test, axis=0)\n",
    "decoder_target_test = np.delete(decoder_target_test, drop_test, axis=0)\n",
    "\n",
    "print('훈련 데이터의 개수 :', len(encoder_input_train))\n",
    "print('훈련 레이블의 개수 :',len(decoder_input_train))\n",
    "print('테스트 데이터의 개수 :',len(encoder_input_test))\n",
    "print('테스트 레이블의 개수 :',len(decoder_input_test))"
   ]
  },
  {
   "cell_type": "code",
   "execution_count": 35,
   "id": "administrative-pittsburgh",
   "metadata": {},
   "outputs": [],
   "source": [
    "# post padding. 뒤의 공간에 숫자 0을 넣어준다\n",
    "# 아까 지정해주었던 최대 길이로 패딩.\n",
    "encoder_input_train = pad_sequences(encoder_input_train, maxlen = text_max_len, padding='post')\n",
    "encoder_input_test = pad_sequences(encoder_input_test, maxlen = text_max_len, padding='post')\n",
    "decoder_input_train = pad_sequences(decoder_input_train, maxlen = headline_max_len, padding='post')\n",
    "decoder_target_train = pad_sequences(decoder_target_train, maxlen = headline_max_len, padding='post')\n",
    "decoder_input_test = pad_sequences(decoder_input_test, maxlen = headline_max_len, padding='post')\n",
    "decoder_target_test = pad_sequences(decoder_target_test, maxlen = headline_max_len, padding='post')"
   ]
  },
  {
   "cell_type": "markdown",
   "id": "boxed-region",
   "metadata": {},
   "source": [
    "# 3. Attention 메커니즘 사용하기"
   ]
  },
  {
   "cell_type": "code",
   "execution_count": 36,
   "id": "operating-ecuador",
   "metadata": {},
   "outputs": [
    {
     "name": "stdout",
     "output_type": "stream",
     "text": [
      "WARNING:tensorflow:Layer lstm will not use cuDNN kernel since it doesn't meet the cuDNN kernel criteria. It will use generic GPU kernel as fallback when running on GPU\n",
      "WARNING:tensorflow:Layer lstm_1 will not use cuDNN kernel since it doesn't meet the cuDNN kernel criteria. It will use generic GPU kernel as fallback when running on GPU\n",
      "WARNING:tensorflow:Layer lstm_2 will not use cuDNN kernel since it doesn't meet the cuDNN kernel criteria. It will use generic GPU kernel as fallback when running on GPU\n"
     ]
    }
   ],
   "source": [
    "from tensorflow.keras.layers import Input, LSTM, Embedding, Dense, Concatenate\n",
    "from tensorflow.keras.models import Model\n",
    "from tensorflow.keras.callbacks import EarlyStopping, ModelCheckpoint\n",
    "\n",
    "# 인코더 설계 시작\n",
    "embedding_dim = 128\n",
    "hidden_size = 256\n",
    "\n",
    "# 인코더\n",
    "encoder_inputs = Input(shape=(text_max_len,))\n",
    "\n",
    "# 인코더의 임베딩 층\n",
    "enc_emb = Embedding(src_vocab, embedding_dim)(encoder_inputs)\n",
    "\n",
    "# 인코더의 LSTM 1\n",
    "encoder_lstm1 = LSTM(hidden_size, return_sequences=True, return_state=True, dropout=0.4, recurrent_dropout = 0.4 )\n",
    "encoder_output1, state_h1, state_c1 = encoder_lstm1(enc_emb) \n",
    "\n",
    "# 인코더의 LSTM 2\n",
    "encoder_lstm2 = LSTM(hidden_size, return_sequences=True, return_state=True, dropout=0.4, recurrent_dropout=0.4)\n",
    "encoder_output2, state_h2, state_c2 = encoder_lstm2(encoder_output1)\n",
    "\n",
    "# 인코더의 LSTM 3\n",
    "encoder_lstm3 = LSTM(hidden_size, return_state=True, return_sequences=True, dropout=0.4, recurrent_dropout=0.4)\n",
    "encoder_outputs, state_h, state_c= encoder_lstm3(encoder_output2)"
   ]
  },
  {
   "cell_type": "code",
   "execution_count": 37,
   "id": "deadly-score",
   "metadata": {},
   "outputs": [
    {
     "name": "stdout",
     "output_type": "stream",
     "text": [
      "WARNING:tensorflow:Layer lstm_3 will not use cuDNN kernel since it doesn't meet the cuDNN kernel criteria. It will use generic GPU kernel as fallback when running on GPU\n"
     ]
    }
   ],
   "source": [
    "# 디코더 설계\n",
    "\n",
    "decoder_inputs = Input(shape=(None,))\n",
    "\n",
    "# 디코더의 임베딩 층\n",
    "dec_emb_layer = Embedding(tar_vocab, embedding_dim)\n",
    "dec_emb = dec_emb_layer(decoder_inputs)\n",
    "\n",
    "# 디코더의 LSTM\n",
    "decoder_lstm = LSTM(hidden_size, return_sequences = True, return_state = True, dropout = 0.4, recurrent_dropout=0.2)\n",
    "decoder_outputs, _, _ = decoder_lstm(dec_emb, initial_state = [state_h, state_c])"
   ]
  },
  {
   "cell_type": "code",
   "execution_count": 38,
   "id": "introductory-standing",
   "metadata": {},
   "outputs": [
    {
     "name": "stdout",
     "output_type": "stream",
     "text": [
      "Model: \"model\"\n",
      "__________________________________________________________________________________________________\n",
      "Layer (type)                    Output Shape         Param #     Connected to                     \n",
      "==================================================================================================\n",
      "input_1 (InputLayer)            [(None, 38)]         0                                            \n",
      "__________________________________________________________________________________________________\n",
      "embedding (Embedding)           (None, 38, 128)      2240000     input_1[0][0]                    \n",
      "__________________________________________________________________________________________________\n",
      "lstm (LSTM)                     [(None, 38, 256), (N 394240      embedding[0][0]                  \n",
      "__________________________________________________________________________________________________\n",
      "input_2 (InputLayer)            [(None, None)]       0                                            \n",
      "__________________________________________________________________________________________________\n",
      "lstm_1 (LSTM)                   [(None, 38, 256), (N 525312      lstm[0][0]                       \n",
      "__________________________________________________________________________________________________\n",
      "embedding_1 (Embedding)         (None, None, 128)    1024000     input_2[0][0]                    \n",
      "__________________________________________________________________________________________________\n",
      "lstm_2 (LSTM)                   [(None, 38, 256), (N 525312      lstm_1[0][0]                     \n",
      "__________________________________________________________________________________________________\n",
      "lstm_3 (LSTM)                   [(None, None, 256),  394240      embedding_1[0][0]                \n",
      "                                                                 lstm_2[0][1]                     \n",
      "                                                                 lstm_2[0][2]                     \n",
      "__________________________________________________________________________________________________\n",
      "dense (Dense)                   (None, None, 8000)   2056000     lstm_3[0][0]                     \n",
      "==================================================================================================\n",
      "Total params: 7,159,104\n",
      "Trainable params: 7,159,104\n",
      "Non-trainable params: 0\n",
      "__________________________________________________________________________________________________\n"
     ]
    }
   ],
   "source": [
    "# 디코더의 출력층\n",
    "decoder_softmax_layer = Dense(tar_vocab, activation = 'softmax')\n",
    "decoder_softmax_outputs = decoder_softmax_layer(decoder_outputs) \n",
    "\n",
    "# 모델 정의\n",
    "model = Model([encoder_inputs, decoder_inputs], decoder_softmax_outputs)\n",
    "model.summary()"
   ]
  },
  {
   "cell_type": "code",
   "execution_count": 39,
   "id": "psychological-discount",
   "metadata": {},
   "outputs": [],
   "source": [
    "# 어텐션 함수 다운로드\n",
    "urllib.request.urlretrieve(\"https://raw.githubusercontent.com/thushv89/attention_keras/master/src/layers/attention.py\", filename=\"attention.py\")\n",
    "from attention import AttentionLayer\n"
   ]
  },
  {
   "cell_type": "code",
   "execution_count": 40,
   "id": "seasonal-exploration",
   "metadata": {},
   "outputs": [
    {
     "name": "stdout",
     "output_type": "stream",
     "text": [
      "Model: \"model_1\"\n",
      "__________________________________________________________________________________________________\n",
      "Layer (type)                    Output Shape         Param #     Connected to                     \n",
      "==================================================================================================\n",
      "input_1 (InputLayer)            [(None, 38)]         0                                            \n",
      "__________________________________________________________________________________________________\n",
      "embedding (Embedding)           (None, 38, 128)      2240000     input_1[0][0]                    \n",
      "__________________________________________________________________________________________________\n",
      "lstm (LSTM)                     [(None, 38, 256), (N 394240      embedding[0][0]                  \n",
      "__________________________________________________________________________________________________\n",
      "input_2 (InputLayer)            [(None, None)]       0                                            \n",
      "__________________________________________________________________________________________________\n",
      "lstm_1 (LSTM)                   [(None, 38, 256), (N 525312      lstm[0][0]                       \n",
      "__________________________________________________________________________________________________\n",
      "embedding_1 (Embedding)         (None, None, 128)    1024000     input_2[0][0]                    \n",
      "__________________________________________________________________________________________________\n",
      "lstm_2 (LSTM)                   [(None, 38, 256), (N 525312      lstm_1[0][0]                     \n",
      "__________________________________________________________________________________________________\n",
      "lstm_3 (LSTM)                   [(None, None, 256),  394240      embedding_1[0][0]                \n",
      "                                                                 lstm_2[0][1]                     \n",
      "                                                                 lstm_2[0][2]                     \n",
      "__________________________________________________________________________________________________\n",
      "attention_layer (AttentionLayer ((None, None, 256),  131328      lstm_2[0][0]                     \n",
      "                                                                 lstm_3[0][0]                     \n",
      "__________________________________________________________________________________________________\n",
      "concat_layer (Concatenate)      (None, None, 512)    0           lstm_3[0][0]                     \n",
      "                                                                 attention_layer[0][0]            \n",
      "__________________________________________________________________________________________________\n",
      "dense_1 (Dense)                 (None, None, 8000)   4104000     concat_layer[0][0]               \n",
      "==================================================================================================\n",
      "Total params: 9,338,432\n",
      "Trainable params: 9,338,432\n",
      "Non-trainable params: 0\n",
      "__________________________________________________________________________________________________\n"
     ]
    }
   ],
   "source": [
    "# 어텐션 층(어텐션 함수)\n",
    "attn_layer = AttentionLayer(name='attention_layer')\n",
    "# 인코더와 디코더의 모든 time step의 hidden state를 어텐션 층에 전달하고 결과를 리턴\n",
    "attn_out, attn_states = attn_layer([encoder_outputs, decoder_outputs])\n",
    "\n",
    "# 어텐션의 결과와 디코더의 hidden state들을 연결\n",
    "decoder_concat_input = Concatenate(axis = -1, name='concat_layer')([decoder_outputs, attn_out])\n",
    "\n",
    "# 디코더의 출력층\n",
    "decoder_softmax_layer = Dense(tar_vocab, activation='softmax')\n",
    "decoder_softmax_outputs = decoder_softmax_layer(decoder_concat_input)\n",
    "\n",
    "# 모델 정의\n",
    "model = Model([encoder_inputs, decoder_inputs], decoder_softmax_outputs)\n",
    "model.summary()\n"
   ]
  },
  {
   "cell_type": "code",
   "execution_count": 41,
   "id": "systematic-lithuania",
   "metadata": {},
   "outputs": [
    {
     "name": "stdout",
     "output_type": "stream",
     "text": [
      "Epoch 1/50\n",
      "237/237 [==============================] - 173s 680ms/step - loss: 6.2494 - val_loss: 5.4645\n",
      "Epoch 2/50\n",
      "237/237 [==============================] - 160s 674ms/step - loss: 5.4318 - val_loss: 5.1045\n",
      "Epoch 3/50\n",
      "237/237 [==============================] - 160s 673ms/step - loss: 5.0587 - val_loss: 4.8455\n",
      "Epoch 4/50\n",
      "237/237 [==============================] - 160s 677ms/step - loss: 4.7626 - val_loss: 4.6343\n",
      "Epoch 5/50\n",
      "237/237 [==============================] - 161s 681ms/step - loss: 4.5207 - val_loss: 4.4697\n",
      "Epoch 6/50\n",
      "237/237 [==============================] - 159s 673ms/step - loss: 4.3280 - val_loss: 4.3516\n",
      "Epoch 7/50\n",
      "237/237 [==============================] - 160s 674ms/step - loss: 4.1509 - val_loss: 4.2720\n",
      "Epoch 8/50\n",
      "237/237 [==============================] - 162s 685ms/step - loss: 4.0003 - val_loss: 4.1924\n",
      "Epoch 9/50\n",
      "237/237 [==============================] - 161s 678ms/step - loss: 3.8735 - val_loss: 4.1187\n",
      "Epoch 10/50\n",
      "237/237 [==============================] - 170s 718ms/step - loss: 3.7526 - val_loss: 4.0596\n",
      "Epoch 11/50\n",
      "237/237 [==============================] - 165s 697ms/step - loss: 3.6499 - val_loss: 4.0150\n",
      "Epoch 12/50\n",
      "237/237 [==============================] - 161s 678ms/step - loss: 3.5513 - val_loss: 3.9759\n",
      "Epoch 13/50\n",
      "237/237 [==============================] - 161s 680ms/step - loss: 3.4748 - val_loss: 3.9483\n",
      "Epoch 14/50\n",
      "237/237 [==============================] - 162s 683ms/step - loss: 3.3908 - val_loss: 3.9212\n",
      "Epoch 15/50\n",
      "237/237 [==============================] - 162s 682ms/step - loss: 3.3119 - val_loss: 3.9074\n",
      "Epoch 16/50\n",
      "237/237 [==============================] - 162s 682ms/step - loss: 3.2487 - val_loss: 3.8908\n",
      "Epoch 17/50\n",
      "237/237 [==============================] - 161s 678ms/step - loss: 3.1820 - val_loss: 3.8789\n",
      "Epoch 18/50\n",
      "237/237 [==============================] - 162s 682ms/step - loss: 3.1259 - val_loss: 3.8673\n",
      "Epoch 19/50\n",
      "237/237 [==============================] - 162s 682ms/step - loss: 3.0639 - val_loss: 3.8534\n",
      "Epoch 20/50\n",
      "237/237 [==============================] - 162s 683ms/step - loss: 3.0120 - val_loss: 3.8439\n",
      "Epoch 21/50\n",
      "237/237 [==============================] - 165s 696ms/step - loss: 2.9670 - val_loss: 3.8383\n",
      "Epoch 22/50\n",
      "237/237 [==============================] - 164s 691ms/step - loss: 2.9188 - val_loss: 3.8269\n",
      "Epoch 23/50\n",
      "237/237 [==============================] - 171s 723ms/step - loss: 2.8706 - val_loss: 3.8310\n",
      "Epoch 24/50\n",
      "237/237 [==============================] - 162s 682ms/step - loss: 2.8273 - val_loss: 3.8399\n",
      "Epoch 00024: early stopping\n"
     ]
    }
   ],
   "source": [
    "model.compile(optimizer='rmsprop', loss='sparse_categorical_crossentropy')\n",
    "es = EarlyStopping(monitor='val_loss', mode='min', verbose=1, patience = 2)\n",
    "history = model.fit(x = [encoder_input_train, decoder_input_train], y = decoder_target_train, \\\n",
    "          validation_data = ([encoder_input_test, decoder_input_test], decoder_target_test),\n",
    "          batch_size = 256, callbacks=[es], epochs = 50)\n"
   ]
  },
  {
   "cell_type": "code",
   "execution_count": 42,
   "id": "handled-glenn",
   "metadata": {},
   "outputs": [
    {
     "data": {
      "image/png": "[encoded data removed]",
      "text/plain": [
       "<Figure size 432x288 with 1 Axes>"
      ]
     },
     "metadata": {
      "needs_background": "light"
     },
     "output_type": "display_data"
    }
   ],
   "source": [
    "# train, test loss \n",
    "plt.plot(history.history['loss'], label='train')\n",
    "plt.plot(history.history['val_loss'], label='test')\n",
    "plt.legend()\n",
    "plt.show()"
   ]
  },
  {
   "cell_type": "code",
   "execution_count": 43,
   "id": "inside-exchange",
   "metadata": {},
   "outputs": [],
   "source": [
    "# 정수 인덱스로 되어있던 텍스트 데이터를 실제 데이터로 복원하기\n",
    "\n",
    "src_index_to_word = src_tokenizer.index_word    # 원문 단어 집합에서 정수 -> 단어를 얻음\n",
    "tar_word_to_index = tar_tokenizer.word_index    # 요약 단어 집합에서 단어 -> 정수를 얻음\n",
    "tar_index_to_word = tar_tokenizer.index_word    # 요약 던어 집합에서 정수 -> 단어를 얻음"
   ]
  },
  {
   "cell_type": "code",
   "execution_count": 44,
   "id": "painted-supervision",
   "metadata": {},
   "outputs": [],
   "source": [
    "# 인퍼런스 단계에서는 인코더 모델과 디코더 모델 분리해서 설계\n",
    "\n",
    "# 인코더 설계\n",
    "encoder_model = Model(inputs=encoder_inputs, outputs=[encoder_outputs, state_h, state_c])\n",
    "\n",
    "# 이전 시점의 상태들을 저장하는 텐서\n",
    "decoder_state_input_h = Input(shape=(hidden_size,))\n",
    "decoder_state_input_c = Input(shape=(hidden_size,))\n",
    "\n",
    "dec_emb2 = dec_emb_layer(decoder_inputs)\n",
    "# 문장의 다음 단어를 예측하기 위해 초기 상태를 이전 시점 상태로 사용. 이는 뒤의 함수 decode_sequence()에 구현\n",
    "# 훈련과정과 달리 LSTM의 리턴하는 은닉 상태와 셀 상태인 state_h, state_c 를 버리지 않음\n",
    "decoder_outputs2, state_h2, state_c2 = decoder_lstm(dec_emb2, initial_state=[decoder_state_input_h, decoder_state_input_c])"
   ]
  },
  {
   "cell_type": "code",
   "execution_count": 45,
   "id": "racial-shareware",
   "metadata": {},
   "outputs": [],
   "source": [
    "# 어텐션 함수\n",
    "decoder_hidden_state_input = Input(shape=(text_max_len, hidden_size))\n",
    "attn_out_inf, attn_states_inf = attn_layer([decoder_hidden_state_input, decoder_outputs2])\n",
    "decoder_inf_concat = Concatenate(axis=-1, name='concat')([decoder_outputs2, attn_out_inf])\n",
    "\n",
    "# 디코더의 출력층\n",
    "decoder_outputs2 = decoder_softmax_layer(decoder_inf_concat)\n",
    "\n",
    "# 최종 디코더 모델\n",
    "decoder_model = Model([decoder_inputs] + [decoder_hidden_state_input,decoder_state_input_h, decoder_state_input_c],\n",
    "    [decoder_outputs2] + [state_h2, state_c2])"
   ]
  },
  {
   "cell_type": "code",
   "execution_count": 46,
   "id": "stunning-domain",
   "metadata": {},
   "outputs": [],
   "source": [
    "def decode_sequence(input_seq):\n",
    "    # 입력으로부터 인코더의 상태를 얻음\n",
    "    e_out, e_h, e_c = encoder_model.predict(input_seq)\n",
    "\n",
    "     # <SOS>에 해당하는 토큰 생성\n",
    "    target_seq = np.zeros((1,1))\n",
    "    target_seq[0, 0] = tar_word_to_index['sostoken']\n",
    "\n",
    "    stop_condition = False\n",
    "    decoded_sentence = ''\n",
    "    while not stop_condition: # stop_condition이 True가 될 때까지 루프 반복\n",
    "\n",
    "        output_tokens, h, c = decoder_model.predict([target_seq] + [e_out, e_h, e_c])\n",
    "        sampled_token_index = np.argmax(output_tokens[0, -1, :])\n",
    "        sampled_token = tar_index_to_word[sampled_token_index]\n",
    "\n",
    "        if(sampled_token!='eostoken'):\n",
    "            decoded_sentence += ' '+sampled_token\n",
    "\n",
    "        #  <eos>에 도달하거나 최대 길이를 넘으면 중단.\n",
    "        if (sampled_token == 'eostoken'  or len(decoded_sentence.split()) >= (headline_max_len-1)):\n",
    "            stop_condition = True\n",
    "\n",
    "        # 길이가 1인 타겟 시퀀스를 업데이트\n",
    "        target_seq = np.zeros((1,1))\n",
    "        target_seq[0, 0] = sampled_token_index\n",
    "\n",
    "        # 상태를 업데이트 합니다.\n",
    "        e_h, e_c = h, c\n",
    "\n",
    "    return decoded_sentence"
   ]
  },
  {
   "cell_type": "code",
   "execution_count": 47,
   "id": "tracked-border",
   "metadata": {},
   "outputs": [],
   "source": [
    "# 4. 실제 결과와 요약문 비교하기 (추상적 요약)"
   ]
  },
  {
   "cell_type": "code",
   "execution_count": 48,
   "id": "unusual-guatemala",
   "metadata": {},
   "outputs": [],
   "source": [
    "# 원문의 정수 시퀀스를 텍스트 시퀀스로 변환\n",
    "def seq2text(input_seq):\n",
    "    temp=''\n",
    "    for i in input_seq:\n",
    "        if(i!=0):\n",
    "            temp = temp + src_index_to_word[i]+' '\n",
    "    return temp\n",
    "\n",
    "# 요약문의 정수 시퀀스를 텍스트 시퀀스로 변환\n",
    "def seq2summary(input_seq):\n",
    "    temp=''\n",
    "    for i in input_seq:\n",
    "        if((i!=0 and i!=tar_word_to_index['sostoken']) and i!=tar_word_to_index['eostoken']):\n",
    "            temp = temp + tar_index_to_word[i] + ' '\n",
    "    return temp"
   ]
  },
  {
   "cell_type": "code",
   "execution_count": 49,
   "id": "different-processing",
   "metadata": {},
   "outputs": [
    {
     "name": "stdout",
     "output_type": "stream",
     "text": [
      "원문 : least seven inmates killed others injured riot prison us south carolina sunday officials said multiple fights broke three housing units prison houses state violent longest serving offenders police officers prison employees injured state department said \n",
      "실제 요약 : inmates killed injured in prison riot in us \n",
      "예측 요약 :  killed in shooting at us headquarters\n",
      "\n",
      "\n",
      "원문 : former uttarakhand chief minister harish rawat friday dared bjp government make compulsory sing national song national anthem thrice day everywhere said trying create division country much concerned turn law \n",
      "실제 요약 : rawat dares bjp to make vande mataram compulsory \n",
      "예측 요약 :  wb cm parrikar calls for not wearing\n",
      "\n",
      "\n",
      "원문 : external affairs ministry told parliament asked united kingdom extradite fugitive billionaire jeweller nirav modi main accused billion pnb scam however specify knew nirav modi united kingdom international police agency interpol last month issued request find arrest nirav modi \n",
      "실제 요약 : india sends extradition plea to uk for fugitive nirav modi \n",
      "예측 요약 :  indian foreign minister asks foreign secretary\n",
      "\n",
      "\n",
      "원문 : general motors accused bankruptcy trust secretly plotting legal prosecutors make pay billion stock part million class action settlement said aggressively protect rights shareholders work hold trust plaintiffs accountable bad faith improper actions \n",
      "실제 요약 : gm says bankruptcy trust secretly to make it pay \n",
      "예측 요약 :  japan issues notice to settle bn dispute\n",
      "\n",
      "\n",
      "원문 : following four wicket haul second india tuesday australian pacer jason asked journalist heard fans finding wwe wrestler john cena reply said understand fair bit bigger yeah take sure \n",
      "실제 요약 : reporter tells australian pacer that he looks like john \n",
      "예측 요약 :  was told to be called me in australia australia\n",
      "\n",
      "\n",
      "원문 : delhi government announced plans grade around government private schools initiative help parents choose school kids based reliable information schools infrastructure teaching learning facilities safety among others evaluation process begin august awarded announced children day \n",
      "실제 요약 : delhi schools to be on infrastructure \n",
      "예측 요약 :  delhi to get education to parents for schools\n",
      "\n",
      "\n",
      "원문 : first delhi international airport limited asked airlines cancel domestic flights scheduled pm january january indira gandhi international airport according reports may lead cancellation domestic flights day republic day parade \n",
      "실제 요약 : over flights to be cancelled before jan in delhi \n",
      "예측 요약 :  airport to be in delhi airport for st time\n",
      "\n",
      "\n",
      "원문 : stampede elphinstone road railway station foot overbridge led death people due anyone fault unfortunate incident mumbai police said investigation duty railway police officials present station joint commissioner police bharti said \n",
      "실제 요약 : elphinstone station stampede is nobody fault maha police \n",
      "예측 요약 :  mumbai express derails in mumbai\n",
      "\n",
      "\n",
      "원문 : india second largest airline jet airways thursday reported year year decline standalone net profit crore september quarter due lower higher fuel prices company posted revenue crore quarter expenses aircraft fuel increased crore quarter company said \n",
      "실제 요약 : jet airways profit to crore in sept quarter \n",
      "예측 요약 :  indigo profit rises to crore in june quarter\n",
      "\n",
      "\n",
      "원문 : offered open embassy jerusalem israel recognises country declared independence serbia offer comes amid israel pm benjamin netanyahu requests countries recognise jerusalem israel capital move embassies city us guatemala nations moved embassies jerusalem \n",
      "실제 요약 : will open jerusalem embassy if israel recognises us \n",
      "예측 요약 :  israel embassy to jerusalem israel embassy in israel\n",
      "\n",
      "\n",
      "원문 : video shows time lapse meteor shower lit night sky mountains china occurs annually late april earth passes tail comet meteor showers created pieces astronomical body break enter earth atmosphere parallel course \n",
      "실제 요약 : video meteor shower over china night sky \n",
      "예측 요약 :  video shows earth in china sea\n",
      "\n",
      "\n",
      "원문 : hollywood actor chris pratt said four year old son jack likes spiderman star lord superhero character portrayed guardians galaxy know fully understands makes star lord great star lord really added chris explained son super powers \n",
      "실제 요약 : my son likes not star lord chris \n",
      "예측 요약 :  chris chris son shares his look on his father\n",
      "\n",
      "\n",
      "원문 : television actress alleged casting director raja bajaj forcibly applied cream breasts give proper shape assisted shoot added tried remove clothes claiming could teach tantrik vidya become successful said filed police complaint \n",
      "실제 요약 : casting director cream on my breasts \n",
      "예측 요약 :  have sorry for shaming singer\n",
      "\n",
      "\n",
      "원문 : regarded father indian space program vikram sarabhai founded isro also launch india first satellite result dr sarabhai dialogue nasa satellite television experiment launched bringing cable television rural india padma vibhushan awardee passed away december \n",
      "실제 요약 : isro founder vikram sarabhai had brought cable tv to india \n",
      "예측 요약 :  china named most powerful satellite\n",
      "\n",
      "\n",
      "원문 : researchers newcastle university demonstrated smartphone passwords pins stolen way devices held typing information researchers achieved accuracy guess digit pins first attempt accuracy five tries hack makes use sensors like built smartphones \n",
      "실제 요약 : researchers successfully password by way phone is held \n",
      "예측 요약 :  mit researchers develop device to detect cancer\n",
      "\n",
      "\n",
      "원문 : speaking inauguration programme uttar pradesh union minister nitin gadkari promised clean river ganga december year earlier august gadkari said projects programme worth crore nearing completion added projects undertaken private sector organisations \n",
      "실제 요약 : we promise to clean of river ganga before dec gadkari \n",
      "예측 요약 :  ganga to be built in ganga districts\n",
      "\n",
      "\n",
      "원문 : centre austrian capital vienna added unesco list world heritage sites danger upcoming skyscraper metre high building feature hotel apartments world heritage committee said undermine area historic value vienna february convince committee drop list \n",
      "실제 요약 : unesco world heritage status threatened by skyscraper \n",
      "예측 요약 :  india to be world most cities in china\n",
      "\n",
      "\n",
      "원문 : akshay kumar revealed liquid diet shooting film shoot water allowed added akshay said allowed eat putting body intact made according size \n",
      "실제 요약 : was on diet while shooting for akshay kumar \n",
      "예측 요약 :  was told to shoot akshay on sets about padmavati\n",
      "\n",
      "\n",
      "원문 : former india captain ms dhoni said successor virat kohli close legend virat best happy way batted everywhere last years brilliant taking team forward want leader said skipper became top ranked test batsman \n",
      "실제 요약 : virat is the best almost legend dhoni after kohli ranks \n",
      "예측 요약 :  kohli kohli is the greatest player of the world cup\n",
      "\n",
      "\n",
      "원문 : ahead launch spacex powerful rocket falcon heavy elon musk said would consider win rocket pad test mission want set expectations perfection musk added rocket spacex claims world powerful set launch tonight \n",
      "실제 요약 : will consider it win if falcon heavy just clears pad musk \n",
      "예측 요약 :  spacex rocket launch spacex rocket\n",
      "\n",
      "\n",
      "원문 : delhi daredevils wicketkeeper batsman rishabh pant slammed number sixes indian premier league emerging player season award year old slammed first hundred indian season ended tournament league stage highest run getter pant player smash plus boundaries season \n",
      "실제 요약 : yr old who hit most in ipl named player \n",
      "예측 요약 :  rishabh pant slams rishabh pant for ipl ton\n",
      "\n",
      "\n",
      "원문 : australia test captain tim paine wife shared video instagram carrying baby home trying needy baby wonder rishabh pant free today jokingly wrote earlier shared picture pant carrying one babies caption best \n",
      "실제 요약 : wonder if pant free for paine wife while \n",
      "예측 요약 :  australian footballer wife wife with baby\n",
      "\n",
      "\n",
      "원문 : body year old girl found bushes stray dogs feeding jhajjar district haryana wednesday morning police said family members accused uncle say years old raping murdering girl uncle gone missing time back \n",
      "실제 요약 : year old girl body found minor uncle accused of rape \n",
      "예측 요약 :  girl found in moving room after eating patient\n",
      "\n",
      "\n",
      "원문 : navi mumbai police official website reportedly hacked last week around twenty minutes persons later traced turkey data secured think accused hacked website fun police official said seem evil intentions official added \n",
      "실제 요약 : turkish nationals hack navi mumbai police website for fun \n",
      "예측 요약 :  mumbai police police to live on fb\n",
      "\n",
      "\n",
      "원문 : titanic actors leonardo dicaprio kate auctioning dinner two leonardo dicaprio foundation fourth annual gala wednesday charity dinner among auction items available bidders event take place france non profit organisation raised crore charity auction last year \n",
      "실제 요약 : titanic stars leonardo kate auction dinner date for charity \n",
      "예측 요약 :  kylie jenner to be named after years\n",
      "\n",
      "\n",
      "원문 : day monsoon session parliament tdp met various political parties seek support confidence motion bjp led nda government centre however party reportedly receive support motion tdp trying pass confidence motion government since pulled nda march \n",
      "실제 요약 : tdp seeks support for no trust motion against nda government \n",
      "예측 요약 :  opposition to form govt in lok sabha polls\n",
      "\n",
      "\n",
      "원문 : th president us john kennedy assassinated november motorcade travelling dallas texas vice president johnson sworn country th president day lee harvey shot killed days later could go trial \n",
      "실제 요약 : us prez john was years ago \n",
      "예측 요약 :  george george to be named after president\n",
      "\n",
      "\n",
      "원문 : slamming congress terming gst singh tax union home minister rajnath singh saturday asked party chose support tax regime parliament meanwhile congress vice president rahul gandhi asserted gst requires reforms adding party warned government consequences wrong implementation gst \n",
      "실제 요약 : why did cong support singh tax in parliament singh \n",
      "예측 요약 :  budget rahul on budget rahul on budget\n",
      "\n",
      "\n",
      "원문 : following india loss first two tests england indian spinner harbhajan singh said indian cricketer hardik pandya called rounder got many runs nd captain seem confidence bowling harbhajan said pandya scored runs picked three wickets test series far \n",
      "실제 요약 : remove the all rounder tag from hardik pandya harbhajan \n",
      "예측 요약 :  ashwin hardik pandya hardik pandya\n",
      "\n",
      "\n",
      "원문 : protesters part yellow vest movement marching across france rise fuel taxes tens thousands protesters blocked roads government buildings shopping centres fuel across country past days yellow vest movement began social media mostly includes working class people \n",
      "실제 요약 : yellow vest protesters march against fuel tax hike in france \n",
      "예측 요약 :  protesters protest against delhi prez over liquor ban\n",
      "\n",
      "\n",
      "원문 : markets regulator sebi filed contempt petition sahara group supreme court alleging company obstructing auction aamby valley resort town supreme court ordered auction began august reserve price crore notably two potential bidders believed shown initial interest property \n",
      "실제 요약 : sahara auction of aamby valley sebi to sc \n",
      "예측 요약 :  sahara moves court against sahara aamby valley\n",
      "\n",
      "\n",
      "원문 : australian woman lucky escape third time year escaped islamic state attack barcelona thursday julia monaco survived terrorist attacks paris london earlier year genuinely experience one minute shopping next running get away windows barcelona tweeted \n",
      "실제 요약 : woman escapes barcelona terror attack after london paris \n",
      "예측 요약 :  australia tourist killed in isis attack\n",
      "\n",
      "\n",
      "원문 : united airlines pilot flew san francisco hand delivered wedding engagement rings lost passenger us airport rings found gate agent gave pilot scheduled fly san francisco rings delivered passenger along personalised note pilot \n",
      "실제 요약 : woman loses wedding ring at airport pilot flies it to her \n",
      "예측 요약 :  flight returns to fly off plane for hours\n",
      "\n",
      "\n",
      "원문 : total lakh ganesh idols immersed bengaluru lakes day ganpati kicked across india according government data ganesh idols made paris immersed various lakes across city saturday despite karnataka state pollution control board ban immersion pop idols \n",
      "실제 요약 : over lakh ganesh idols in luru lakes in day \n",
      "예측 요약 :  bengaluru to get its first ganesh\n",
      "\n",
      "\n",
      "원문 : afghan wicketkeeper opener mohammad shahzad smashed runs balls help rajputs chase run target overs minutes league wednesday year old smashed eight sixes six fours unbeaten knock shahzad knock included zero dot balls highest score \n",
      "실제 요약 : slams sixes scores as team chases in overs \n",
      "예측 요약 :  afghanistan captain becomes st batsman to score runs in\n",
      "\n",
      "\n",
      "원문 : becoming first indian win gold medal bwf world tour finals shuttler pv sindhu said words first win year really proud think year ended beautiful note sindhu added sindhu thanked coaches support staff \n",
      "실제 요약 : have no words really proud sindhu on world tour finals gold \n",
      "예측 요약 :  india beat india to win gold medals at cwg\n",
      "\n",
      "\n",
      "원문 : chief executive secretary confirmed reports icse class results declared may true cannot give dates working evaluation work ends announce result dates said \n",
      "실제 요약 : icse results not to be declared on may official \n",
      "예측 요약 :  there is no question paper in exams than cbse chief\n",
      "\n",
      "\n",
      "원문 : uttar pradesh haj committee secretary rp singh removed post tuesday decision paint green white exterior wall lucknow haj house saffron colour committee wall white day painting saffron state government issued seven point notice seeking clarification committee decision \n",
      "실제 요약 : up haj committee secy sacked for painting haj house saffron \n",
      "예측 요약 :  up minister orders to avoid rescue dogs\n",
      "\n",
      "\n",
      "원문 : global card payments giant mastercard tuesday said storing new indian payments transaction data locally technology centre pune rbi mandated payments operators store payments data india regulator could supervisory access mastercard specify whether copy data still stored abroad \n",
      "실제 요약 : says it is india payments data \n",
      "예측 요약 :  govt asks to stop payment of payment of payment\n",
      "\n",
      "\n",
      "원문 : addressing nation mann ki baat pm narendra modi sunday said year budget waste wealth waste energy using villages requested farmers think animal waste source income garbage also praised chhattisgarh garbage festival aimed encourage creative use garbage \n",
      "실제 요약 : our on waste to wealth and waste to energy pm \n",
      "예측 요약 :  pm modi inaugurates plastic water powered by fuel prices\n",
      "\n",
      "\n",
      "원문 : least cows killed hit shatabdi express near delhi wednesday incident took place evening herd cows crossing tracks railway spokesperson said driver applied emergency brakes accident could averted train full speed \n",
      "실제 요약 : cows killed as speeding train runs over them in delhi \n",
      "예측 요약 :  killed injured in road accident in noida\n",
      "\n",
      "\n",
      "원문 : us senate thursday voted favour appointing us president donald trump nominee intelligence agency cia director appointment became first woman lead spy agency appointment faced opposition amid role torture terror suspects \n",
      "실제 요약 : cia st female director appointment confirmed by senate \n",
      "예측 요약 :  us state secy trump sued for trump over\n",
      "\n",
      "\n",
      "원문 : delhi cm arvind kejriwal announced government decision install cctvs classes government schools parent given access see child class basis phone tweeted kejriwal comes rape five year old girl delhi school murder seven year old gurugram school \n",
      "실제 요약 : delhi schools to have cctvs in all classes cm kejriwal \n",
      "예측 요약 :  delhi govt to get mandatory for aadhaar mandatory for\n",
      "\n",
      "\n",
      "원문 : referring controversy sanjay leela bhansali padmaavat cbfc chief prasoon joshi said one voice called voice demeaning said disappointed headlines like cuts come give air things disrespect us media needs \n",
      "실제 요약 : no one voice should be called prasoon on padmaavat \n",
      "예측 요약 :  padmaavat is not an padmavati issue\n",
      "\n",
      "\n",
      "원문 : communist run cuba recognise right private property new constitution state media said cuba banned private property rule allowed sale property current cuban constitution recognises state cooperative farmer personal joint venture property \n",
      "실제 요약 : country cuba to recognise private property \n",
      "예측 요약 :  denmark to ban on sale of\n",
      "\n",
      "\n",
      "원문 : television actor karan slammed serial pehredaar piya ki shows year old boy marrying adult woman said bodyguard wrote facebook post sell name content gives honestly one watching added better \n",
      "실제 요약 : tv actor slams serial on year old boy marrying adult woman \n",
      "예측 요약 :  cannot be boy who is my woman tweets user\n",
      "\n",
      "\n",
      "원문 : germany sunday celebrated first sex marriage law legalising union came effect karl bodo aged became germany first married gay couple notably germany allowed sex couples register partnerships become rd country world allow sex marriages \n",
      "실제 요약 : germany celebrates its first same sex marriage \n",
      "예측 요약 :  canada couple marriage marriage same sex marriage\n",
      "\n",
      "\n",
      "원문 : white american mma fighter died getting knocked first bout year kentucky saturday year old collapsed backstage referee stopped fight second round white fight administered backstage pronounced dead taken hospital \n",
      "실제 요약 : mma fighter dies after getting knocked out in bout \n",
      "예측 요약 :  year old dies after being hit by by\n",
      "\n",
      "\n",
      "원문 : republican party india announced agitation demanding loan waiver crore people scheduled castes tribes starting july loans granted state run corporations self employment purposes like farmers even people socially backward classes position pay party leader ramdas athawale said \n",
      "실제 요약 : party of india to seek cr loan waiver for \n",
      "예측 요약 :  centre to pay crore loan to farmers loan waiver\n",
      "\n",
      "\n",
      "원문 : woman partner filed police complaint accusing singer physical assault molestation party hotel dehradun man alleged tried take advantage partner confronted assaulted however filed counter complaint alleging two party attacked \n",
      "실제 요약 : woman accuses singer of molestation assaulting partner \n",
      "예측 요약 :  woman files fir against sexual harassment case\n",
      "\n",
      "\n"
     ]
    }
   ],
   "source": [
    "for i in range(50, 100):\n",
    "    print(\"원문 :\", seq2text(encoder_input_test[i]))\n",
    "    print(\"실제 요약 :\", seq2summary(decoder_input_test[i]))\n",
    "    print(\"예측 요약 :\", decode_sequence(encoder_input_test[i].reshape(1, text_max_len)))\n",
    "    print(\"\\n\")"
   ]
  },
  {
   "cell_type": "code",
   "execution_count": 50,
   "id": "dressed-evans",
   "metadata": {},
   "outputs": [
    {
     "name": "stdout",
     "output_type": "stream",
     "text": [
      "원문 : discussing beti bachao beti padhao campaign function national human rights commission prime minister narendra modi friday said meaning life breathing honour equally important referring banned practice added narrow minded people considered girl child unwanted killed \n",
      "실제 요약 : meaning of life honour pm modi on beti bachao \n",
      "예측 요약 :  pm modi calls for those who asked to pm modi\n"
     ]
    }
   ],
   "source": [
    "print(\"원문 :\", seq2text(encoder_input_test[100]))\n",
    "print(\"실제 요약 :\", seq2summary(decoder_input_test[100]))\n",
    "print(\"예측 요약 :\", decode_sequence(encoder_input_test[100].reshape(1, text_max_len)))"
   ]
  },
  {
   "cell_type": "code",
   "execution_count": 51,
   "id": "linear-kuwait",
   "metadata": {},
   "outputs": [],
   "source": [
    "# 5. Summa 를 이용해서 추출적 요약해보기"
   ]
  },
  {
   "cell_type": "code",
   "execution_count": 52,
   "id": "rotary-apple",
   "metadata": {},
   "outputs": [],
   "source": [
    "import requests\n",
    "from summa.summarizer import summarize"
   ]
  },
  {
   "cell_type": "code",
   "execution_count": 53,
   "id": "protective-house",
   "metadata": {},
   "outputs": [],
   "source": [
    "urllib.request.urlretrieve(\"https://raw.githubusercontent.com/sunnysai12345/News_Summary/master/news_summary_more.csv\", filename=\"news_summary_more.csv\")\n",
    "data = pd.read_csv('news_summary_more.csv', encoding='iso-8859-1')\n"
   ]
  },
  {
   "cell_type": "code",
   "execution_count": 54,
   "id": "intellectual-carry",
   "metadata": {},
   "outputs": [
    {
     "data": {
      "text/plain": [
       "\"Saurav Kant, an alumnus of upGrad and IIIT-B's PG Program in Machine learning and Artificial Intelligence, was a Sr Systems Engineer at Infosys with almost 5 years of work experience. The program and upGrad's 360-degree career support helped him transition to a Data Scientist at Tech Mahindra with 90% salary hike. upGrad's Online Power Learning has powered 3 lakh+ careers.\""
      ]
     },
     "execution_count": 54,
     "metadata": {},
     "output_type": "execute_result"
    }
   ],
   "source": [
    "text = data['text']\n",
    "text[0]"
   ]
  },
  {
   "cell_type": "code",
   "execution_count": 55,
   "id": "rough-dispatch",
   "metadata": {},
   "outputs": [
    {
     "name": "stdout",
     "output_type": "stream",
     "text": [
      "Summary:\n",
      "upGrad's Online Power Learning has powered 3 lakh+ careers.\n"
     ]
    }
   ],
   "source": [
    "print('Summary:')\n",
    "print(summarize(text[0], words=5))"
   ]
  },
  {
   "cell_type": "code",
   "execution_count": 56,
   "id": "treated-motel",
   "metadata": {},
   "outputs": [
    {
     "name": "stdout",
     "output_type": "stream",
     "text": [
      "Summary:\n",
      "[\"upGrad's Online Power Learning has powered 3 lakh+ careers.\"]\n"
     ]
    }
   ],
   "source": [
    "# 리스트로 출력결과 받기\n",
    "print('Summary:')\n",
    "print(summarize(text[0], ratio=0.4, split=True))"
   ]
  },
  {
   "cell_type": "code",
   "execution_count": 57,
   "id": "thermal-harris",
   "metadata": {},
   "outputs": [],
   "source": [
    "headlines = []\n",
    "for i in range(len(text)):\n",
    "    headline = summarize(text[i], ratio=0.4)\n",
    "    headlines.append(headline)"
   ]
  },
  {
   "cell_type": "code",
   "execution_count": 58,
   "id": "collected-cycle",
   "metadata": {},
   "outputs": [
    {
     "data": {
      "text/plain": [
       "[\"upGrad's Online Power Learning has powered 3 lakh+ careers.\",\n",
       " 'Users get one CRED coin per rupee of bill paid, which can be used to avail rewards from brands like Ixigo, BookMyShow, UberEats, Cult.Fit and more.',\n",
       " 'The match witnessed India getting all out for 92, their seventh lowest total in ODI cricket history.',\n",
       " 'Also, customers have options to insure against Critical Illnesses, Disability and Accidental Death Benefit Rider with a life cover up to the age of 80 years.',\n",
       " 'Speaking about the sexual harassment allegations against Rajkumar Hirani, Sonam Kapoor said, \"I\\'ve known Hirani for many years...What if it\\'s not true, the [#MeToo] movement will get derailed.\" \"In the #MeToo movement, I always believe a woman.']"
      ]
     },
     "execution_count": 58,
     "metadata": {},
     "output_type": "execute_result"
    }
   ],
   "source": [
    "headlines[:5]"
   ]
  },
  {
   "cell_type": "code",
   "execution_count": 59,
   "id": "early-custody",
   "metadata": {},
   "outputs": [
    {
     "name": "stdout",
     "output_type": "stream",
     "text": [
      "원문 : Saurav Kant, an alumnus of upGrad and IIIT-B's PG Program in Machine learning and Artificial Intelligence, was a Sr Systems Engineer at Infosys with almost 5 years of work experience. The program and upGrad's 360-degree career support helped him transition to a Data Scientist at Tech Mahindra with 90% salary hike. upGrad's Online Power Learning has powered 3 lakh+ careers.\n",
      "실제 헤드라인 : upGrad learner switches to career in ML & Al with 90% salary hike\n",
      "예측 헤드라인 : upGrad's Online Power Learning has powered 3 lakh+ careers.\n",
      "\n",
      "\n",
      "원문 : Kunal Shah's credit card bill payment platform, CRED, gave users a chance to win free food from Swiggy for one year. Pranav Kaushik, a Delhi techie, bagged this reward after spending 2000 CRED coins. Users get one CRED coin per rupee of bill paid, which can be used to avail rewards from brands like Ixigo, BookMyShow, UberEats, Cult.Fit and more.\n",
      "실제 헤드라인 : Delhi techie wins free food from Swiggy for one year on CRED\n",
      "예측 헤드라인 : Users get one CRED coin per rupee of bill paid, which can be used to avail rewards from brands like Ixigo, BookMyShow, UberEats, Cult.Fit and more.\n",
      "\n",
      "\n",
      "원문 : New Zealand defeated India by 8 wickets in the fourth ODI at Hamilton on Thursday to win their first match of the five-match ODI series. India lost an international match under Rohit Sharma's captaincy after 12 consecutive victories dating back to March 2018. The match witnessed India getting all out for 92, their seventh lowest total in ODI cricket history.\n",
      "실제 헤드라인 : New Zealand end Rohit Sharma-led India's 12-match winning streak\n",
      "예측 헤드라인 : The match witnessed India getting all out for 92, their seventh lowest total in ODI cricket history.\n",
      "\n",
      "\n",
      "원문 : With Aegon Life iTerm Insurance plan, customers can enjoy tax benefits on your premiums paid and save up to Ã¢ÂÂ¹46,800^ on taxes. The plan provides life cover up to the age of 100 years. Also, customers have options to insure against Critical Illnesses, Disability and Accidental Death Benefit Rider with a life cover up to the age of 80 years.\n",
      "실제 헤드라인 : Aegon life iTerm insurance plan helps customers save tax\n",
      "예측 헤드라인 : Also, customers have options to insure against Critical Illnesses, Disability and Accidental Death Benefit Rider with a life cover up to the age of 80 years.\n",
      "\n",
      "\n",
      "원문 : Speaking about the sexual harassment allegations against Rajkumar Hirani, Sonam Kapoor said, \"I've known Hirani for many years...What if it's not true, the [#MeToo] movement will get derailed.\" \"In the #MeToo movement, I always believe a woman. But in this case, we need to reserve our judgment,\" she added. Hirani has been accused by an assistant who worked in 'Sanju'.\n",
      "실제 헤드라인 : Have known Hirani for yrs, what if MeToo claims are not true: Sonam\n",
      "예측 헤드라인 : Speaking about the sexual harassment allegations against Rajkumar Hirani, Sonam Kapoor said, \"I've known Hirani for many years...What if it's not true, the [#MeToo] movement will get derailed.\" \"In the #MeToo movement, I always believe a woman.\n",
      "\n",
      "\n",
      "원문 : Pakistani singer Rahat Fateh Ali Khan has denied receiving any notice from the Enforcement Directorate over allegedly smuggling foreign currency out of India. \"It would have been better if the authorities would have served the notice first if any and then publicised this,\" reads a press release issued on behalf of Rahat. The statement further called the allegation \"bizarre\".\n",
      "실제 헤드라인 : Rahat Fateh Ali Khan denies getting notice for smuggling currency\n",
      "예측 헤드라인 : Pakistani singer Rahat Fateh Ali Khan has denied receiving any notice from the Enforcement Directorate over allegedly smuggling foreign currency out of India.\n",
      "\n",
      "\n",
      "원문 : India recorded their lowest ODI total in New Zealand after getting all out for 92 runs in 30.5 overs in the fourth ODI at Hamilton on Thursday. Seven of India's batsmen were dismissed for single-digit scores, while their number ten batsman Yuzvendra Chahal top-scored with 18*(37). India's previous lowest ODI total in New Zealand was 108.\n",
      "실제 헤드라인 : India get all out for 92, their lowest ODI total in New Zealand\n",
      "예측 헤드라인 : India's previous lowest ODI total in New Zealand was 108.\n",
      "\n",
      "\n",
      "원문 : Weeks after ex-CBI Director Alok Verma told the Department of Personnel and Training to consider him retired, the Home Ministry asked him to join work on the last day of his fixed tenure as Director on Thursday. The ministry directed him to immediately join as DG, Fire Services, the post he was transferred to after his removal as CBI chief.\n",
      "실제 헤드라인 : Govt directs Alok Verma to join work 1 day before his retirement\n",
      "예측 헤드라인 : \n",
      "\n",
      "\n",
      "원문 : Andhra Pradesh CM N Chandrababu Naidu has said, \"When I met then US President Bill Clinton, I addressed him as Mr Clinton, not as 'sir'. (PM Narendra) Modi is my junior in politics...I addressed him as sir 10 times.\" \"I did this...to satisfy his ego in the hope that he will do justice to the state,\" he added.\n",
      "실제 헤드라인 : Called PM Modi 'sir' 10 times to satisfy his ego: Andhra CM\n",
      "예측 헤드라인 : \n",
      "\n",
      "\n",
      "원문 : Congress candidate Shafia Zubair won the Ramgarh Assembly seat in Rajasthan, by defeating BJP's Sukhwant Singh with a margin of 12,228 votes in the bypoll. With this victory, Congress has taken its total to 100 seats in the 200-member assembly. The election to the Ramgarh seat was delayed due to the death of sitting MLA and BSP candidate Laxman Singh.\n",
      "실제 헤드라인 : Cong wins Ramgarh bypoll in Rajasthan, takes total to 100 seats\n",
      "예측 헤드라인 : Congress candidate Shafia Zubair won the Ramgarh Assembly seat in Rajasthan, by defeating BJP's Sukhwant Singh with a margin of 12,228 votes in the bypoll.\n",
      "\n",
      "\n"
     ]
    }
   ],
   "source": [
    "for i in range(10):\n",
    "    print(\"원문 :\", data['text'][i])\n",
    "    print(\"실제 헤드라인 :\", data['headlines'][i])\n",
    "    print(\"예측 헤드라인 :\", headlines[i])\n",
    "    print(\"\\n\")"
   ]
  }
 ],
 "metadata": {
  "kernelspec": {
   "display_name": "Python 3",
   "language": "python",
   "name": "python3"
  },
  "language_info": {
   "codemirror_mode": {
    "name": "ipython",
    "version": 3
   },
   "file_extension": ".py",
   "mimetype": "text/x-python",
   "name": "python",
   "nbconvert_exporter": "python",
   "pygments_lexer": "ipython3",
   "version": "3.7.9"
  }
 },
 "nbformat": 4,
 "nbformat_minor": 5
}
