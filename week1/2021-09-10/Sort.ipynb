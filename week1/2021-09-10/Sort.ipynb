{
 "cells": [
  {
   "cell_type": "markdown",
   "id": "65eb0702",
   "metadata": {},
   "source": [
    "# Sort 에 대한 간단한 study (코딩의 기술 better way 14)\n",
    "\n",
    "\n",
    "### Sort 란?\n",
    "- List 내장 타입에 있는 메서드이다. 기본적으로 sort 는 리스트의 내용을 원소 타입에 따른 순서를 사용해 오름차순으로 정렬한다."
   ]
  },
  {
   "cell_type": "code",
   "execution_count": 1,
   "id": "33bc8599",
   "metadata": {},
   "outputs": [
    {
     "name": "stdout",
     "output_type": "stream",
     "text": [
      "[3, 19, 20, 91]\n"
     ]
    }
   ],
   "source": [
    "num = [3, 91, 19, 20]\n",
    "num.sort()\n",
    "print(num)"
   ]
  },
  {
   "cell_type": "markdown",
   "id": "dab5826b",
   "metadata": {},
   "source": [
    "### Sort 의 parameters\n",
    "\n",
    "##### list.sort(key= ~, reverse= ~)\n",
    "\n",
    "-Sort 에는 두 개의 parameter 가 있다.\n",
    "\n",
    "1. reverse : 기본 값은 False로 오름차순으로 정렬한다. reverse = True 로 입력하여 내림차순으로 정렬할 수 있다."
   ]
  },
  {
   "cell_type": "code",
   "execution_count": 2,
   "id": "d471963b",
   "metadata": {},
   "outputs": [
    {
     "name": "stdout",
     "output_type": "stream",
     "text": [
      "[91, 20, 19, 3]\n"
     ]
    }
   ],
   "source": [
    "num.sort(reverse= True)\n",
    "print(num)"
   ]
  },
  {
   "cell_type": "markdown",
   "id": "666dfc38",
   "metadata": {},
   "source": [
    "2. key : sort 함수를 key 값을 기준으로 정렬한다. key 는 함수여야 한다."
   ]
  },
  {
   "cell_type": "code",
   "execution_count": 4,
   "id": "d5144b71",
   "metadata": {},
   "outputs": [
    {
     "name": "stdout",
     "output_type": "stream",
     "text": [
      "[7, 3, 39, 54]\n"
     ]
    }
   ],
   "source": [
    "def func(x):\n",
    "    return x % 7              #7로 나눈 나머지에 대해 오름차순 정렬\n",
    "\n",
    "l = [3, 7, 54, 39]\n",
    "l.sort(key = func)\n",
    "print(l)"
   ]
  },
  {
   "cell_type": "markdown",
   "id": "e943a4bb",
   "metadata": {},
   "source": [
    "lambda 활용도 가능"
   ]
  },
  {
   "cell_type": "code",
   "execution_count": 6,
   "id": "11444c88",
   "metadata": {},
   "outputs": [
    {
     "name": "stdout",
     "output_type": "stream",
     "text": [
      "['New York', 'Paris', 'home', 'work']\n",
      "['home', 'New York', 'Paris', 'work']\n"
     ]
    }
   ],
   "source": [
    "places = ['home' ,'work', 'New York', 'Paris']\n",
    "\n",
    "#대소문자 구분\n",
    "places.sort()\n",
    "print(places)\n",
    "\n",
    "#대소문자 무시\n",
    "places.sort(key= lambda x: x.lower())\n",
    "print(places)"
   ]
  },
  {
   "cell_type": "code",
   "execution_count": 9,
   "id": "ac6a102f",
   "metadata": {},
   "outputs": [
    {
     "name": "stdout",
     "output_type": "stream",
     "text": [
      "['윤준영', '윤준준영영', '윤윤준준영영', '윤준영준영윤영준']\n"
     ]
    }
   ],
   "source": [
    "my_list = ['윤준영준영윤영준', '윤준영', '윤윤준준영영', '윤준준영영']\n",
    "my_list.sort(key= lambda x: len(x))\n",
    "print(my_list)"
   ]
  },
  {
   "cell_type": "markdown",
   "id": "c0d7d9bd",
   "metadata": {},
   "source": [
    "여러 자료형을 혼합해서 정렬 가능"
   ]
  },
  {
   "cell_type": "code",
   "execution_count": 11,
   "id": "d6d28c9d",
   "metadata": {},
   "outputs": [
    {
     "name": "stdout",
     "output_type": "stream",
     "text": [
      "[('드릴', 4), ('연마기', 4), ('원형 톱', 5), ('착암기', 40)]\n"
     ]
    }
   ],
   "source": [
    "tools = [\n",
    "    ('연마기', 4),\n",
    "    ('원형 톱', 5),\n",
    "    ('착암기', 40),\n",
    "    ('드릴', 4),\n",
    "]\n",
    "\n",
    "tools.sort(key= lambda x : (x[1],x[0]))\n",
    "print(tools)"
   ]
  },
  {
   "cell_type": "markdown",
   "id": "e044f2ec",
   "metadata": {},
   "source": [
    "(-)부호 또한 사용 가능하지만, 모든 타입에 사용할 수는 없다."
   ]
  },
  {
   "cell_type": "code",
   "execution_count": 13,
   "id": "f16b8b85",
   "metadata": {},
   "outputs": [
    {
     "name": "stdout",
     "output_type": "stream",
     "text": [
      "[('착암기', 40), ('원형 톱', 5), ('드릴', 4), ('연마기', 4)]\n"
     ]
    }
   ],
   "source": [
    "tools.sort(key= lambda x : (-x[1], x[0]))\n",
    "print(tools)"
   ]
  }
 ],
 "metadata": {
  "kernelspec": {
   "display_name": "Python 3",
   "language": "python",
   "name": "python3"
  },
  "language_info": {
   "codemirror_mode": {
    "name": "ipython",
    "version": 3
   },
   "file_extension": ".py",
   "mimetype": "text/x-python",
   "name": "python",
   "nbconvert_exporter": "python",
   "pygments_lexer": "ipython3",
   "version": "3.8.8"
  }
 },
 "nbformat": 4,
 "nbformat_minor": 5
}
