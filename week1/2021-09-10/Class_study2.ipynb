{
 "cells": [
  {
   "cell_type": "markdown",
   "id": "79cfc6e2",
   "metadata": {},
   "source": [
    "# 클래스 핵심 개념\n",
    "1. 멤버변수\n",
    "2. 생성자\n",
    "3. 메소드\n",
    "4. 멤버 접근 연산자\n",
    "5. 인스턴스\n",
    "6. 멤버변수의 속성 (private, public)"
   ]
  },
  {
   "cell_type": "code",
   "execution_count": 1,
   "id": "9b59d3df",
   "metadata": {},
   "outputs": [],
   "source": [
    "class Student:\n",
    "    \n",
    "    def __init__(self,ID, name):\n",
    "        \n",
    "        self.__id = ID\n",
    "        self.__name = name\n",
    "        \n",
    "    def set_id(self, ID):\n",
    "        \n",
    "        self.__id = ID\n",
    "        \n",
    "    def set_name(self, name):\n",
    "        \n",
    "        self.__name = name\n",
    "    \n",
    "    def get_id(self):\n",
    "        \n",
    "        return self.__id\n",
    "    \n",
    "    def get_name(self):\n",
    "        \n",
    "        return self.__name\n",
    "    "
   ]
  },
  {
   "cell_type": "code",
   "execution_count": 10,
   "id": "0a07307c",
   "metadata": {},
   "outputs": [
    {
     "name": "stdout",
     "output_type": "stream",
     "text": [
      "윤준영 1111\n",
      "윤천둥 1121\n"
     ]
    }
   ],
   "source": [
    "me = Student(1111, '윤준영')\n",
    "other = Student(1121, '윤천둥')\n",
    "print(me.get_name(), me.get_id())\n",
    "print(other.get_name(), other.get_id())"
   ]
  },
  {
   "cell_type": "markdown",
   "id": "8027ad07",
   "metadata": {},
   "source": [
    "### Magic method"
   ]
  },
  {
   "cell_type": "code",
   "execution_count": 34,
   "id": "137a36f2",
   "metadata": {},
   "outputs": [],
   "source": [
    "class Student:\n",
    "    \n",
    "    def __init__(self,ID, name):\n",
    "        \n",
    "        self.__id = ID\n",
    "        self.__name = name\n",
    "        \n",
    "    def set_id(self, ID):          # Setter는 결국 값을 변경하고 싶을 때 쓸 수 있다는 것!\n",
    "        \n",
    "        self.__id = ID\n",
    "        \n",
    "    def set_name(self, name):\n",
    "        \n",
    "        self.__name = name\n",
    "    \n",
    "    def get_id(self):\n",
    "        \n",
    "        return self.__id\n",
    "    \n",
    "    def get_name(self):\n",
    "        \n",
    "        return self.__name\n",
    "    \n",
    "    def __str__(self):\n",
    "        msg = f\"id:{self.__id}, name:{self.__name}\"\n",
    "        return msg\n",
    "    \n",
    "    def __eq__(self, other):\n",
    "        if self.__id == other.__id and self.__name == other.__name :\n",
    "            return True\n",
    "        return False"
   ]
  },
  {
   "cell_type": "code",
   "execution_count": 22,
   "id": "e0e2966d",
   "metadata": {},
   "outputs": [
    {
     "name": "stdout",
     "output_type": "stream",
     "text": [
      "id:1111, name:윤준영\n",
      "id:1121, name:윤천둥\n",
      "False\n",
      "True\n"
     ]
    }
   ],
   "source": [
    "me = Student(1111, '윤준영')\n",
    "other = Student(1121, '윤천둥')\n",
    "me2 = Student(1111, '윤준영')\n",
    "print(me)\n",
    "print(other)\n",
    "print(me == other)\n",
    "print(me == me2)"
   ]
  },
  {
   "cell_type": "markdown",
   "id": "c62e0239",
   "metadata": {},
   "source": [
    "## 상속\n",
    "\n",
    "- 상속을 하는 이유 : 코드를 재활용하기 위해\n",
    "- 상속 방법 : 클래스의 인자에 부모 클래스를 넣는다."
   ]
  },
  {
   "cell_type": "code",
   "execution_count": 28,
   "id": "d0f43450",
   "metadata": {},
   "outputs": [],
   "source": [
    "class Graduates(Student):                \n",
    "    \n",
    "    def __init__(self, ID, name, year):\n",
    "        self.__graduateYear = year    #year는 없으므로 생성\n",
    "        super().__init__(ID, name)    #Student의 모든 메서드를 가져와서 사용할 수 있게 해준다!\n",
    "        \n",
    "    def __str__(self):\n",
    "        msg = super().__str__() + f\", 졸업년도:{self.__graduateYear}\"\n",
    "        return msg"
   ]
  },
  {
   "cell_type": "code",
   "execution_count": 29,
   "id": "a2db973b",
   "metadata": {},
   "outputs": [
    {
     "name": "stdout",
     "output_type": "stream",
     "text": [
      "id:2015, name:윤준영, 졸업년도:2021\n"
     ]
    }
   ],
   "source": [
    "yoon = Graduates(2015, '윤준영', 2021)\n",
    "print(yoon)"
   ]
  },
  {
   "cell_type": "markdown",
   "id": "3e962993",
   "metadata": {},
   "source": [
    "#### Example\n",
    "\n",
    "- x,y 좌표를 저장하는 클래스를 만들어보라"
   ]
  },
  {
   "cell_type": "code",
   "execution_count": 66,
   "id": "fced941c",
   "metadata": {},
   "outputs": [],
   "source": [
    "class Point2D:\n",
    "    \n",
    "    def __init__(self, x, y):\n",
    "        \n",
    "        self.__x = x\n",
    "        self.__y = y\n",
    "    \n",
    "    def set_coord(self,x,y):\n",
    "        \n",
    "        self.__x = x\n",
    "        self.__y = y\n",
    "    \n",
    "    def get_coord(self):\n",
    "        \n",
    "        return (self.__x, self.__y)\n",
    "    \n",
    "    def __str__(self):\n",
    "        \n",
    "        msg = (f\"현재 나의 좌표 : {self.__x}, {self.__y}\")\n",
    "        return msg\n",
    "    \n",
    "    def __add__(self, other):\n",
    "        return((self.__x + other.__x), (self.__y + other.__y))\n"
   ]
  },
  {
   "cell_type": "code",
   "execution_count": 67,
   "id": "cdfc596a",
   "metadata": {},
   "outputs": [
    {
     "name": "stdout",
     "output_type": "stream",
     "text": [
      "현재 나의 좌표 : 5, 2\n",
      "현재 나의 좌표 : 5, 2\n",
      "(3, 4)\n"
     ]
    }
   ],
   "source": [
    "pt1 = Point2D(1,-1)\n",
    "print(pt)\n",
    "pt.set_coord(5,2)\n",
    "print(pt)\n",
    "pt2 = Point2D(2,5)\n",
    "print(pt1 + pt2)"
   ]
  },
  {
   "cell_type": "markdown",
   "id": "18be8d67",
   "metadata": {},
   "source": [
    "- Point2D 클래스를 상속 받아서 Point3D 클래스를 만들어보라"
   ]
  },
  {
   "cell_type": "code",
   "execution_count": 52,
   "id": "d2ad99d5",
   "metadata": {},
   "outputs": [],
   "source": [
    "class Point3D(Point2D):\n",
    "    \n",
    "    def __init__(self, x, y, z):\n",
    "        \n",
    "        self.__z = z\n",
    "        super().__init__(x, y)\n",
    "        \n",
    "    def __str__(self):\n",
    "        msg = super().__str__() + (f\", {self.__z}\")\n",
    "        return msg\n",
    "        "
   ]
  },
  {
   "cell_type": "code",
   "execution_count": 53,
   "id": "f4476ca6",
   "metadata": {},
   "outputs": [
    {
     "name": "stdout",
     "output_type": "stream",
     "text": [
      "현재 나의 좌표 : 1, 3, 5\n"
     ]
    }
   ],
   "source": [
    "pts = Point3D(1,3,5)\n",
    "print(pts)"
   ]
  },
  {
   "cell_type": "code",
   "execution_count": null,
   "id": "5bd8e3d5",
   "metadata": {},
   "outputs": [],
   "source": []
  }
 ],
 "metadata": {
  "kernelspec": {
   "display_name": "Python 3",
   "language": "python",
   "name": "python3"
  },
  "language_info": {
   "codemirror_mode": {
    "name": "ipython",
    "version": 3
   },
   "file_extension": ".py",
   "mimetype": "text/x-python",
   "name": "python",
   "nbconvert_exporter": "python",
   "pygments_lexer": "ipython3",
   "version": "3.8.8"
  }
 },
 "nbformat": 4,
 "nbformat_minor": 5
}
