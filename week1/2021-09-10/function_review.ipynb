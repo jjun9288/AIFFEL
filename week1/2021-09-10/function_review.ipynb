{
 "cells": [
  {
   "cell_type": "markdown",
   "id": "8e4e41a4",
   "metadata": {},
   "source": [
    "# 함수와 변수   \n",
    "\n",
    "### f(x) = y   \n",
    "여기서 f는 함수, x는 input, y는 output.   \n",
    "x를 인자, 즉 argument 라고 부르자.   \n",
    "\n",
    "-여기서 잠깐, argument 와 parameter 의 차이는 뭘까?  \n",
    "\n",
    "parameter는 함수를 정의할 때 외부로부터 받아들이는 값, 예를 들자면\n",
    "f(x,y) 에서 x,y 가 parameter!   \n",
    "argument는 함수를 호출할 때 사용하는 일련의 값, 예를 들어 위에서 호출한   \n",
    "f(x,y)를 이용하여 f(3,4)! 여기서 3,4가 argument!   \n",
    "즉 parameter 의 값으로 argument 3,4 를 대입했다고 할 수 있다."
   ]
  },
  {
   "cell_type": "code",
   "execution_count": 8,
   "id": "429ba58b",
   "metadata": {},
   "outputs": [
    {
     "name": "stdout",
     "output_type": "stream",
     "text": [
      "helloworld\n"
     ]
    }
   ],
   "source": [
    "print('hello' + 'world')"
   ]
  },
  {
   "cell_type": "code",
   "execution_count": 9,
   "id": "f80429f5",
   "metadata": {},
   "outputs": [
    {
     "ename": "TypeError",
     "evalue": "unsupported operand type(s) for -: 'str' and 'str'",
     "output_type": "error",
     "traceback": [
      "\u001b[1;31m---------------------------------------------------------------------------\u001b[0m",
      "\u001b[1;31mTypeError\u001b[0m                                 Traceback (most recent call last)",
      "\u001b[1;32m<ipython-input-9-9b244bdae0e3>\u001b[0m in \u001b[0;36m<module>\u001b[1;34m\u001b[0m\n\u001b[1;32m----> 1\u001b[1;33m \u001b[0mprint\u001b[0m\u001b[1;33m(\u001b[0m\u001b[1;34m'hello'\u001b[0m \u001b[1;33m-\u001b[0m \u001b[1;34m'world'\u001b[0m\u001b[1;33m)\u001b[0m\u001b[1;33m\u001b[0m\u001b[1;33m\u001b[0m\u001b[0m\n\u001b[0m",
      "\u001b[1;31mTypeError\u001b[0m: unsupported operand type(s) for -: 'str' and 'str'"
     ]
    }
   ],
   "source": [
    "print('hello' - 'world')"
   ]
  },
  {
   "cell_type": "markdown",
   "id": "3c0e3238",
   "metadata": {},
   "source": [
    "- str은 (-) 연산은 지원하지 않는다는 것을 알아두자."
   ]
  },
  {
   "cell_type": "markdown",
   "id": "9b2ed9fc",
   "metadata": {},
   "source": [
    "#####  함수 내에서 선언한 변수를 '함수의 속마음', 밖에서 선언한 변수를 '방송' 이라고 생각하자!"
   ]
  },
  {
   "cell_type": "code",
   "execution_count": 13,
   "id": "551329d8",
   "metadata": {},
   "outputs": [
    {
     "name": "stdout",
     "output_type": "stream",
     "text": [
      "준영\n",
      "영준\n"
     ]
    }
   ],
   "source": [
    "name = '준영'    #전역 스코프 (Global scope)\n",
    "\n",
    "def say_name():\n",
    "    print(name)\n",
    "    \n",
    "say_name()\n",
    "\n",
    "name = '영준'\n",
    "\n",
    "say_name()"
   ]
  },
  {
   "cell_type": "code",
   "execution_count": 14,
   "id": "f927ca70",
   "metadata": {},
   "outputs": [
    {
     "name": "stdout",
     "output_type": "stream",
     "text": [
      "준영\n"
     ]
    }
   ],
   "source": [
    "name = '준영'\n",
    "\n",
    "def change_name():\n",
    "    name = '영준'    #지역 스코프 (Local scope)\n",
    "    \n",
    "change_name()\n",
    "\n",
    "say_name()"
   ]
  },
  {
   "cell_type": "code",
   "execution_count": 18,
   "id": "3225fca7",
   "metadata": {},
   "outputs": [
    {
     "name": "stdout",
     "output_type": "stream",
     "text": [
      "hi somebody\n",
      "hi 준영\n"
     ]
    }
   ],
   "source": [
    "def hi_somebody(name = 'somebody'):\n",
    "    print('hi ' + name)\n",
    "    \n",
    "hi_somebody()\n",
    "hi_somebody('준영')"
   ]
  },
  {
   "cell_type": "markdown",
   "id": "5bc07fe8",
   "metadata": {},
   "source": [
    "- 입력값이 주어지면 그 입력값을, 없으면 somebody를!"
   ]
  },
  {
   "cell_type": "code",
   "execution_count": 19,
   "id": "c1815e98",
   "metadata": {},
   "outputs": [
    {
     "name": "stdout",
     "output_type": "stream",
     "text": [
      "준영, nobody 안녕!\n"
     ]
    }
   ],
   "source": [
    "def say_hi_couple_default(name1, name2='nobody'):\n",
    "    print(name1 + ', ' + name2 + ' 안녕!')\n",
    "\n",
    "say_hi_couple_default('준영')\n"
   ]
  },
  {
   "cell_type": "code",
   "execution_count": 20,
   "id": "a9f4a1e5",
   "metadata": {},
   "outputs": [
    {
     "ename": "SyntaxError",
     "evalue": "non-default argument follows default argument (<ipython-input-20-66c6af130219>, line 1)",
     "output_type": "error",
     "traceback": [
      "\u001b[1;36m  File \u001b[1;32m\"<ipython-input-20-66c6af130219>\"\u001b[1;36m, line \u001b[1;32m1\u001b[0m\n\u001b[1;33m    def say_hi_couple_default_wrong(name1='nobody', name2):\u001b[0m\n\u001b[1;37m                                    ^\u001b[0m\n\u001b[1;31mSyntaxError\u001b[0m\u001b[1;31m:\u001b[0m non-default argument follows default argument\n"
     ]
    }
   ],
   "source": [
    "def say_hi_couple_default_wrong(name1='nobody', name2):\n",
    "    print(name1 + ', ' + name2 + ' 안녕!')\n",
    "\n",
    "say_hi_couple_default('준영')"
   ]
  },
  {
   "cell_type": "markdown",
   "id": "95fe7faf",
   "metadata": {},
   "source": [
    "- 이처럼 기본값이 있는 argument 뒤에 기본값이 없는 argument가 오면 에러가 난다.\n",
    "이 하나의 argument를 name1으로 봐야할 지, name2로 봐야할 지 모르기 때문!"
   ]
  },
  {
   "cell_type": "code",
   "execution_count": 24,
   "id": "55b306a2",
   "metadata": {},
   "outputs": [
    {
     "name": "stdout",
     "output_type": "stream",
     "text": [
      "3\n"
     ]
    },
    {
     "ename": "TypeError",
     "evalue": "unsupported operand type(s) for +: 'NoneType' and 'int'",
     "output_type": "error",
     "traceback": [
      "\u001b[1;31m---------------------------------------------------------------------------\u001b[0m",
      "\u001b[1;31mTypeError\u001b[0m                                 Traceback (most recent call last)",
      "\u001b[1;32m<ipython-input-24-4100085fafac>\u001b[0m in \u001b[0;36m<module>\u001b[1;34m\u001b[0m\n\u001b[0;32m      2\u001b[0m     \u001b[0mprint\u001b[0m\u001b[1;33m(\u001b[0m\u001b[0mnum1\u001b[0m \u001b[1;33m+\u001b[0m \u001b[0mnum2\u001b[0m\u001b[1;33m)\u001b[0m\u001b[1;33m\u001b[0m\u001b[1;33m\u001b[0m\u001b[0m\n\u001b[0;32m      3\u001b[0m \u001b[1;33m\u001b[0m\u001b[0m\n\u001b[1;32m----> 4\u001b[1;33m \u001b[0mprint\u001b[0m\u001b[1;33m(\u001b[0m\u001b[0madd\u001b[0m\u001b[1;33m(\u001b[0m\u001b[1;36m1\u001b[0m\u001b[1;33m,\u001b[0m\u001b[1;36m2\u001b[0m\u001b[1;33m)\u001b[0m\u001b[1;33m+\u001b[0m\u001b[1;36m3\u001b[0m\u001b[1;33m)\u001b[0m\u001b[1;33m\u001b[0m\u001b[1;33m\u001b[0m\u001b[0m\n\u001b[0m",
      "\u001b[1;31mTypeError\u001b[0m: unsupported operand type(s) for +: 'NoneType' and 'int'"
     ]
    }
   ],
   "source": [
    "def add(num1, num2):\n",
    "    print(num1 + num2)\n",
    "\n",
    "print(add(1,2)+3)"
   ]
  },
  {
   "cell_type": "code",
   "execution_count": 25,
   "id": "1f8e036b",
   "metadata": {},
   "outputs": [
    {
     "name": "stdout",
     "output_type": "stream",
     "text": [
      "6\n"
     ]
    }
   ],
   "source": [
    "def add(num1, num2):\n",
    "    return num1+num2\n",
    "\n",
    "print(add(1,2)+3)"
   ]
  },
  {
   "cell_type": "markdown",
   "id": "7b1acd9b",
   "metadata": {},
   "source": [
    "- 위 두 예시를 보면 return 과 print의 차이를 알 수 있을 것 같다."
   ]
  },
  {
   "cell_type": "markdown",
   "id": "bca937f2",
   "metadata": {},
   "source": [
    "#### ex) Fibonachicken   \n",
    "\n",
    "\n",
    "https://fibonachicken.herokuapp.com/"
   ]
  },
  {
   "cell_type": "code",
   "execution_count": 26,
   "id": "39b89d90",
   "metadata": {},
   "outputs": [
    {
     "name": "stdout",
     "output_type": "stream",
     "text": [
      "3\n"
     ]
    }
   ],
   "source": [
    "def FibonaChicken(n):\n",
    "    if n <= 2:\n",
    "        return 1\n",
    "    return FibonaChicken(n-2) + FibonaChicken(n-3)\n",
    "\n",
    "print(FibonaChicken(5))"
   ]
  },
  {
   "cell_type": "markdown",
   "id": "df48ef10",
   "metadata": {},
   "source": [
    "-숫자가 커지면, 컴퓨터가 힘들어 할 것 같으니 메모리에 넣어놓자!"
   ]
  },
  {
   "cell_type": "code",
   "execution_count": 27,
   "id": "9aae5957",
   "metadata": {},
   "outputs": [
    {
     "data": {
      "text/plain": [
       "225851433717"
      ]
     },
     "execution_count": 27,
     "metadata": {},
     "output_type": "execute_result"
    }
   ],
   "source": [
    "memory = {1: 1, 2: 1}\n",
    "\n",
    "def fibonacci(n):\n",
    "    if n in memory:\n",
    "        num = memory[n]\n",
    "    else:\n",
    "        num = fibonacci(n-1) + fibonacci(n-2)\n",
    "        memory[n] = num\n",
    "    return num\n",
    "\n",
    "fibonacci(56)"
   ]
  },
  {
   "cell_type": "markdown",
   "id": "a01eab7d",
   "metadata": {},
   "source": [
    "- 이렇게 중간값을 기억해놓고 바로 읽어서 쓰는 방식으로 시간을 줄이는 기법을 메모이제이션(memoization) 이라고 한다!"
   ]
  },
  {
   "cell_type": "code",
   "execution_count": null,
   "id": "9d77a66f",
   "metadata": {},
   "outputs": [],
   "source": []
  }
 ],
 "metadata": {
  "kernelspec": {
   "display_name": "Python 3",
   "language": "python",
   "name": "python3"
  },
  "language_info": {
   "codemirror_mode": {
    "name": "ipython",
    "version": 3
   },
   "file_extension": ".py",
   "mimetype": "text/x-python",
   "name": "python",
   "nbconvert_exporter": "python",
   "pygments_lexer": "ipython3",
   "version": "3.8.8"
  }
 },
 "nbformat": 4,
 "nbformat_minor": 5
}
