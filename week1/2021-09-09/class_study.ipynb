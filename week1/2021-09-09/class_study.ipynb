{
 "cells": [
  {
   "cell_type": "markdown",
   "id": "f7f91992",
   "metadata": {},
   "source": [
    "# CLASS\n",
    "\n",
    "클래스란? : 틀이라고 생각하자. 틀을 만들어 반복을 줄이고, 더 파생시커 다른 기능을 추가할 때 사용할 수 있다.\n",
    "\n",
    "-멤버변수   \n",
    "-생성자   \n",
    "-메소드   \n",
    "-멤버접근 연산자   \n",
    "-인스턴스   "
   ]
  },
  {
   "cell_type": "code",
   "execution_count": 11,
   "id": "0a2bbcdf",
   "metadata": {},
   "outputs": [],
   "source": [
    "class Student:\n",
    "\n",
    "    num = 201502166\n",
    "    name = 'Jun Yoon'"
   ]
  },
  {
   "cell_type": "code",
   "execution_count": 12,
   "id": "5585a311",
   "metadata": {},
   "outputs": [
    {
     "name": "stdout",
     "output_type": "stream",
     "text": [
      "201502166\n",
      "Jun Yoon\n"
     ]
    }
   ],
   "source": [
    "student = Student()\n",
    "print(student.num)\n",
    "print(student.name)"
   ]
  },
  {
   "cell_type": "code",
   "execution_count": 14,
   "id": "e8222828",
   "metadata": {},
   "outputs": [],
   "source": [
    "class Student:\n",
    "    # 멤버변수\n",
    "    num = None\n",
    "    name = None\n",
    "    \n",
    "    # 생성자\n",
    "    def __init__(self,_id, name):    #클래스 내부의 함수라는 것을 표현하기 위해 self를 쓴다!\n",
    "        self.num = _id\n",
    "        self.name = name"
   ]
  },
  {
   "cell_type": "code",
   "execution_count": 17,
   "id": "79fd8e82",
   "metadata": {},
   "outputs": [
    {
     "name": "stdout",
     "output_type": "stream",
     "text": [
      "201502166\n",
      "True\n",
      "False\n"
     ]
    }
   ],
   "source": [
    "stu = Student(201502166, 'Jun Yoon')\n",
    "print(stu.num)\n",
    "# stu 를 Student의 인스턴스 라고 한다. 클래스를 통해서 생성되는 오브젝트를 인스턴스 라고 한다!\n",
    "\n",
    "#쉽게 생각하여 붕어빵 틀을 Student, 붕어빵을 stu\n",
    "\n",
    "a=3\n",
    "print(isinstance(stu,Student))\n",
    "print(isinstance(a,Student))\n"
   ]
  },
  {
   "cell_type": "code",
   "execution_count": 23,
   "id": "2a43b41b",
   "metadata": {},
   "outputs": [],
   "source": [
    "class Student:\n",
    "    # 멤버변수 : 클래스의 내부 변수\n",
    "    num = None\n",
    "    name = None\n",
    "    __age = None    #private\n",
    "    \n",
    "    # 생성자 : 객체가 생성될 때 최초로 호출되는 함수. 멤버 변수 초기화할 때 주로 사용\n",
    "    def __init__(self,_id, name, age):    #클래스 내부의 함수라는 것을 표현하기 위해 self를 쓴다!\n",
    "        self.num = _id\n",
    "        self.name = name\n",
    "        self.__age = age\n",
    "        \n",
    "    #메소드 : 클래스 내부의 함수\n",
    "    def set_id(self, _id):\n",
    "        self._id = _id\n",
    "        \n",
    "    def get_name(self):\n",
    "        return self.name\n",
    "    \n",
    "    def get_age(self):\n",
    "        return self.__age\n",
    "    \n",
    "#Setter Getter을 왜 쓰느냐? : private에 접근하기 위해! 결국에는 은닉화를 위해 private을 쓰고, 이에 접근하기 위해 Setter와 Getter가 있다.\n",
    "        \n",
    "        "
   ]
  },
  {
   "cell_type": "code",
   "execution_count": 24,
   "id": "df177649",
   "metadata": {},
   "outputs": [],
   "source": [
    "stu = Student(2015, 'Jun', 27)"
   ]
  },
  {
   "cell_type": "markdown",
   "id": "81a9b2bc",
   "metadata": {},
   "source": [
    "### 실습 ) 주인의 이름, 비밀번호가 일치해야 열리는 도어락   \n",
    "\n",
    "-조건문을 이용해서 함수를 호출하면 문이 열리는 지 안 열리는 지 True / False로 반환하게 할 것"
   ]
  },
  {
   "cell_type": "code",
   "execution_count": 40,
   "id": "9e3cc9a3",
   "metadata": {},
   "outputs": [],
   "source": [
    "class DoorLock:\n",
    "    def __init__(self,name,pw):\n",
    "        self.name = name\n",
    "        self.pw = pw\n",
    "    \n",
    "    def open_door(self,name,pw):\n",
    "        if(name == self.name and pw == self.pw):\n",
    "            return True\n",
    "        return False\n",
    "        \n",
    "    "
   ]
  },
  {
   "cell_type": "code",
   "execution_count": 45,
   "id": "361dacff",
   "metadata": {},
   "outputs": [
    {
     "name": "stdout",
     "output_type": "stream",
     "text": [
      "False\n",
      "False\n",
      "True\n"
     ]
    }
   ],
   "source": [
    "door = DoorLock('윤준영', '1234')\n",
    "print(door.open_door('윤준영', '0000'))\n",
    "print(door.open_door('홍길동', '1234'))\n",
    "print(door.open_door('윤준영', '1234'))"
   ]
  },
  {
   "cell_type": "code",
   "execution_count": null,
   "id": "81a8ef22",
   "metadata": {},
   "outputs": [],
   "source": []
  }
 ],
 "metadata": {
  "kernelspec": {
   "display_name": "Python 3",
   "language": "python",
   "name": "python3"
  },
  "language_info": {
   "codemirror_mode": {
    "name": "ipython",
    "version": 3
   },
   "file_extension": ".py",
   "mimetype": "text/x-python",
   "name": "python",
   "nbconvert_exporter": "python",
   "pygments_lexer": "ipython3",
   "version": "3.8.8"
  }
 },
 "nbformat": 4,
 "nbformat_minor": 5
}
