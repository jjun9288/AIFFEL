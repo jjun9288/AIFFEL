{
 "cells": [
  {
   "cell_type": "code",
   "execution_count": 1,
   "id": "b9669245",
   "metadata": {},
   "outputs": [],
   "source": [
    "import numpy as np"
   ]
  },
  {
   "cell_type": "markdown",
   "id": "77461c52",
   "metadata": {},
   "source": [
    "#### NumPy\n",
    "\n",
    "- 반복문을 작성할 필요 없이 전체 데이터 배열에 대해 빠른 연산을 제공\n",
    "- 다양한 표준 수학 함수 제공"
   ]
  },
  {
   "cell_type": "markdown",
   "id": "92156789",
   "metadata": {},
   "source": [
    "1) ndarray 만들기"
   ]
  },
  {
   "cell_type": "code",
   "execution_count": 3,
   "id": "6822a5f3",
   "metadata": {},
   "outputs": [
    {
     "name": "stdout",
     "output_type": "stream",
     "text": [
      "[0 1 2 3 4] <class 'numpy.ndarray'>\n",
      "[0 1 2 3 4] <class 'numpy.ndarray'>\n"
     ]
    }
   ],
   "source": [
    "A = np.arange(5)\n",
    "B = np.array([0,1,2,3,4])\n",
    "\n",
    "print(A, type(A))\n",
    "print(B, type(B))"
   ]
  },
  {
   "cell_type": "markdown",
   "id": "29c0cb98",
   "metadata": {},
   "source": [
    "2) 크기 (size, shape, ndim)\n",
    "- ndarray.size\n",
    "- ndarray.shape\n",
    "- ndarray.ndim\n",
    "- reshape()"
   ]
  },
  {
   "cell_type": "code",
   "execution_count": 10,
   "id": "8a8f63ee",
   "metadata": {},
   "outputs": [
    {
     "name": "stdout",
     "output_type": "stream",
     "text": [
      "(10,)\n",
      "1\n",
      "10\n",
      "\n",
      "(2, 5)\n",
      "2\n",
      "10\n"
     ]
    }
   ],
   "source": [
    "A = np.arange(10)\n",
    "print(A.shape)\n",
    "print(A.ndim)\n",
    "print(A.size)\n",
    "\n",
    "print()\n",
    "\n",
    "A = A.reshape(2,5)\n",
    "print(A.shape)\n",
    "print(A.ndim)\n",
    "print(A.size)\n"
   ]
  },
  {
   "cell_type": "markdown",
   "id": "96fe5d68",
   "metadata": {},
   "source": [
    "3) 특수행렬\n",
    "\n",
    "- 단위행렬\n",
    "- 0행렬\n",
    "- 1행렬"
   ]
  },
  {
   "cell_type": "code",
   "execution_count": 14,
   "id": "629cc135",
   "metadata": {},
   "outputs": [
    {
     "data": {
      "text/plain": [
       "array([[1., 0., 0.],\n",
       "       [0., 1., 0.],\n",
       "       [0., 0., 1.]])"
      ]
     },
     "execution_count": 14,
     "metadata": {},
     "output_type": "execute_result"
    }
   ],
   "source": [
    "np.eye(3)"
   ]
  },
  {
   "cell_type": "code",
   "execution_count": 12,
   "id": "b7991bc3",
   "metadata": {},
   "outputs": [
    {
     "data": {
      "text/plain": [
       "array([[0., 0., 0.],\n",
       "       [0., 0., 0.]])"
      ]
     },
     "execution_count": 12,
     "metadata": {},
     "output_type": "execute_result"
    }
   ],
   "source": [
    "np.zeros([2,3])"
   ]
  },
  {
   "cell_type": "code",
   "execution_count": 13,
   "id": "72b72150",
   "metadata": {},
   "outputs": [
    {
     "data": {
      "text/plain": [
       "array([[1., 1., 1.],\n",
       "       [1., 1., 1.]])"
      ]
     },
     "execution_count": 13,
     "metadata": {},
     "output_type": "execute_result"
    }
   ],
   "source": [
    "np.ones([2,3])"
   ]
  },
  {
   "cell_type": "markdown",
   "id": "5377c175",
   "metadata": {},
   "source": [
    "4) 브로드캐스트"
   ]
  },
  {
   "cell_type": "code",
   "execution_count": 17,
   "id": "37d51fed",
   "metadata": {},
   "outputs": [
    {
     "name": "stdout",
     "output_type": "stream",
     "text": [
      "[1, 2, 3, 4]\n",
      "[4 6]\n"
     ]
    }
   ],
   "source": [
    "print([1,2] + [3,4])\n",
    "print(np.array([1,2]) + np.array([3,4]))"
   ]
  },
  {
   "cell_type": "code",
   "execution_count": 22,
   "id": "71130cd3",
   "metadata": {},
   "outputs": [
    {
     "data": {
      "text/plain": [
       "array([[0, 1, 2],\n",
       "       [3, 4, 5],\n",
       "       [6, 7, 8]])"
      ]
     },
     "execution_count": 22,
     "metadata": {},
     "output_type": "execute_result"
    }
   ],
   "source": [
    "A = np.arange(9).reshape(3,3)\n",
    "A"
   ]
  },
  {
   "cell_type": "code",
   "execution_count": 23,
   "id": "2328dcfb",
   "metadata": {},
   "outputs": [
    {
     "data": {
      "text/plain": [
       "array([1, 2, 3])"
      ]
     },
     "execution_count": 23,
     "metadata": {},
     "output_type": "execute_result"
    }
   ],
   "source": [
    "B = np.array([1,2,3])\n",
    "B"
   ]
  },
  {
   "cell_type": "code",
   "execution_count": 24,
   "id": "bdbdb14a",
   "metadata": {},
   "outputs": [
    {
     "data": {
      "text/plain": [
       "array([[ 1,  3,  5],\n",
       "       [ 4,  6,  8],\n",
       "       [ 7,  9, 11]])"
      ]
     },
     "execution_count": 24,
     "metadata": {},
     "output_type": "execute_result"
    }
   ],
   "source": [
    "A+B"
   ]
  },
  {
   "cell_type": "code",
   "execution_count": 25,
   "id": "f7ce2ea6",
   "metadata": {},
   "outputs": [
    {
     "data": {
      "text/plain": [
       "array([[1],\n",
       "       [2],\n",
       "       [3]])"
      ]
     },
     "execution_count": 25,
     "metadata": {},
     "output_type": "execute_result"
    }
   ],
   "source": [
    "C = np.array([[1],[2],[3]])\n",
    "C"
   ]
  },
  {
   "cell_type": "code",
   "execution_count": 26,
   "id": "1f3edaf4",
   "metadata": {},
   "outputs": [
    {
     "data": {
      "text/plain": [
       "array([[ 1,  2,  3],\n",
       "       [ 5,  6,  7],\n",
       "       [ 9, 10, 11]])"
      ]
     },
     "execution_count": 26,
     "metadata": {},
     "output_type": "execute_result"
    }
   ],
   "source": [
    "A+C"
   ]
  },
  {
   "cell_type": "markdown",
   "id": "492d716f",
   "metadata": {},
   "source": [
    "- 3X3 에 1X2 를 더하는 것은 허용되지 않는다."
   ]
  },
  {
   "cell_type": "code",
   "execution_count": 27,
   "id": "3719db5c",
   "metadata": {},
   "outputs": [
    {
     "ename": "ValueError",
     "evalue": "operands could not be broadcast together with shapes (3,3) (2,) ",
     "output_type": "error",
     "traceback": [
      "\u001b[1;31m---------------------------------------------------------------------------\u001b[0m",
      "\u001b[1;31mValueError\u001b[0m                                Traceback (most recent call last)",
      "\u001b[1;32m<ipython-input-27-60f32e3fcb6a>\u001b[0m in \u001b[0;36m<module>\u001b[1;34m\u001b[0m\n\u001b[0;32m      1\u001b[0m \u001b[0mD\u001b[0m \u001b[1;33m=\u001b[0m \u001b[0mnp\u001b[0m\u001b[1;33m.\u001b[0m\u001b[0marray\u001b[0m\u001b[1;33m(\u001b[0m\u001b[1;33m[\u001b[0m\u001b[1;36m1\u001b[0m\u001b[1;33m,\u001b[0m\u001b[1;36m2\u001b[0m\u001b[1;33m]\u001b[0m\u001b[1;33m)\u001b[0m\u001b[1;33m\u001b[0m\u001b[1;33m\u001b[0m\u001b[0m\n\u001b[1;32m----> 2\u001b[1;33m \u001b[0mA\u001b[0m \u001b[1;33m+\u001b[0m \u001b[0mD\u001b[0m\u001b[1;33m\u001b[0m\u001b[1;33m\u001b[0m\u001b[0m\n\u001b[0m",
      "\u001b[1;31mValueError\u001b[0m: operands could not be broadcast together with shapes (3,3) (2,) "
     ]
    }
   ],
   "source": [
    "D = np.array([1,2])\n",
    "A + D"
   ]
  },
  {
   "attachments": {
    "image.png": {
     "image/png": "[encoded data removed]"
    }
   },
   "cell_type": "markdown",
   "id": "8c486ac3",
   "metadata": {},
   "source": [
    "5) Slicing and Indexing\n",
    "\n",
    "![image.png](attachment:image.png)"
   ]
  },
  {
   "cell_type": "markdown",
   "id": "4b427ae7",
   "metadata": {},
   "source": [
    "6) random\n",
    "\n",
    "- np.random.random() : 0 에서 1 사이의 실수형 난수 하나 생성\n",
    "- np.random.randint(0,10) : 0 에서 9 사이 1개의 정수형 난수 하나 생성\n",
    "- np.random.choice( [ 0, 1, 2, 3, 4 ] ) : 리스트에 주어진 값 중 하나를 선택 \n",
    "- np.random.permutation(10) : 원소의 순서를 임의로 뒤바꾸어 줌 \n",
    "- np.random.normal() : 정규분포\n",
    "- np.random.uniform() : 균등분포"
   ]
  },
  {
   "cell_type": "markdown",
   "id": "30ed5b63",
   "metadata": {},
   "source": [
    "7) 전치행렬"
   ]
  },
  {
   "cell_type": "code",
   "execution_count": 29,
   "id": "fc3a3aab",
   "metadata": {},
   "outputs": [
    {
     "name": "stdout",
     "output_type": "stream",
     "text": [
      "[[[ 0  1  2  3]\n",
      "  [ 4  5  6  7]\n",
      "  [ 8  9 10 11]]\n",
      "\n",
      " [[12 13 14 15]\n",
      "  [16 17 18 19]\n",
      "  [20 21 22 23]]]\n",
      "\n",
      "[[[ 0 12]\n",
      "  [ 4 16]\n",
      "  [ 8 20]]\n",
      "\n",
      " [[ 1 13]\n",
      "  [ 5 17]\n",
      "  [ 9 21]]\n",
      "\n",
      " [[ 2 14]\n",
      "  [ 6 18]\n",
      "  [10 22]]\n",
      "\n",
      " [[ 3 15]\n",
      "  [ 7 19]\n",
      "  [11 23]]]\n",
      "\n",
      "(4, 3, 2)\n"
     ]
    }
   ],
   "source": [
    "A = np.arange(24).reshape(2,3,4)\n",
    "print(A)\n",
    "\n",
    "print()\n",
    "\n",
    "print(A.T)\n",
    "\n",
    "print()\n",
    "\n",
    "print(A.T.shape)"
   ]
  },
  {
   "cell_type": "code",
   "execution_count": 30,
   "id": "e48ed2a8",
   "metadata": {},
   "outputs": [
    {
     "name": "stdout",
     "output_type": "stream",
     "text": [
      "[[[ 0  4  8]\n",
      "  [12 16 20]]\n",
      "\n",
      " [[ 1  5  9]\n",
      "  [13 17 21]]\n",
      "\n",
      " [[ 2  6 10]\n",
      "  [14 18 22]]\n",
      "\n",
      " [[ 3  7 11]\n",
      "  [15 19 23]]]\n",
      "(4, 2, 3)\n"
     ]
    }
   ],
   "source": [
    "B = np.transpose(A, (2,0,1))\n",
    "# B는 A의 3, 1, 2번째 축을 자신의 1, 2, 3번째 축으로 가진 행렬\n",
    "\n",
    "print(B)\n",
    "\n",
    "print(B.shape)"
   ]
  },
  {
   "cell_type": "markdown",
   "id": "e0065641",
   "metadata": {},
   "source": [
    "8) 합, 평균, 중앙, 표준편차, 분산"
   ]
  },
  {
   "cell_type": "code",
   "execution_count": 32,
   "id": "bb61150b",
   "metadata": {},
   "outputs": [
    {
     "name": "stdout",
     "output_type": "stream",
     "text": [
      "28\n",
      "4.0\n",
      "4.0\n",
      "2.0\n",
      "4.0\n"
     ]
    }
   ],
   "source": [
    "num = np.array([1,2,3,4,5,6,7])\n",
    "print(num.sum())\n",
    "print(num.mean())\n",
    "print(np.median(num))\n",
    "print(num.std())\n",
    "print(num.var())"
   ]
  },
  {
   "cell_type": "code",
   "execution_count": null,
   "id": "956398c9",
   "metadata": {},
   "outputs": [],
   "source": []
  }
 ],
 "metadata": {
  "kernelspec": {
   "display_name": "Python 3",
   "language": "python",
   "name": "python3"
  },
  "language_info": {
   "codemirror_mode": {
    "name": "ipython",
    "version": 3
   },
   "file_extension": ".py",
   "mimetype": "text/x-python",
   "name": "python",
   "nbconvert_exporter": "python",
   "pygments_lexer": "ipython3",
   "version": "3.8.8"
  }
 },
 "nbformat": 4,
 "nbformat_minor": 5
}
