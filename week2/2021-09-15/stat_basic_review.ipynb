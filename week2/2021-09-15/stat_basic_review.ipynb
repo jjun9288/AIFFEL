{
 "cells": [
  {
   "cell_type": "markdown",
   "id": "feb6ede2",
   "metadata": {},
   "source": [
    "### 랜덤변수 & 확률"
   ]
  },
  {
   "cell_type": "code",
   "execution_count": 1,
   "id": "d0732e16",
   "metadata": {},
   "outputs": [],
   "source": [
    "import random"
   ]
  },
  {
   "cell_type": "code",
   "execution_count": 15,
   "id": "0e430ef8",
   "metadata": {},
   "outputs": [
    {
     "data": {
      "text/plain": [
       "[6,\n",
       " 5,\n",
       " 3,\n",
       " 2,\n",
       " 1,\n",
       " 6,\n",
       " 4,\n",
       " 1,\n",
       " 5,\n",
       " 1,\n",
       " 2,\n",
       " 6,\n",
       " 4,\n",
       " 6,\n",
       " 6,\n",
       " 1,\n",
       " 1,\n",
       " 2,\n",
       " 1,\n",
       " 4,\n",
       " 5,\n",
       " 4,\n",
       " 2,\n",
       " 1,\n",
       " 5,\n",
       " 6,\n",
       " 2,\n",
       " 5,\n",
       " 6,\n",
       " 6,\n",
       " 1,\n",
       " 2,\n",
       " 6,\n",
       " 5,\n",
       " 3,\n",
       " 2,\n",
       " 1,\n",
       " 2,\n",
       " 2,\n",
       " 2,\n",
       " 6,\n",
       " 5,\n",
       " 1,\n",
       " 6,\n",
       " 2,\n",
       " 3,\n",
       " 2,\n",
       " 3,\n",
       " 2,\n",
       " 5,\n",
       " 3,\n",
       " 1,\n",
       " 3,\n",
       " 2,\n",
       " 4,\n",
       " 5,\n",
       " 1,\n",
       " 3,\n",
       " 6,\n",
       " 2,\n",
       " 2,\n",
       " 3,\n",
       " 1,\n",
       " 2,\n",
       " 4,\n",
       " 3,\n",
       " 2,\n",
       " 1,\n",
       " 2,\n",
       " 6,\n",
       " 3,\n",
       " 1,\n",
       " 6,\n",
       " 1,\n",
       " 4,\n",
       " 1,\n",
       " 5,\n",
       " 1,\n",
       " 3,\n",
       " 6,\n",
       " 4,\n",
       " 5,\n",
       " 5,\n",
       " 3,\n",
       " 4,\n",
       " 4,\n",
       " 6,\n",
       " 5,\n",
       " 3,\n",
       " 6,\n",
       " 3,\n",
       " 5,\n",
       " 5,\n",
       " 6,\n",
       " 2,\n",
       " 5,\n",
       " 2,\n",
       " 1,\n",
       " 5,\n",
       " 4]"
      ]
     },
     "execution_count": 15,
     "metadata": {},
     "output_type": "execute_result"
    }
   ],
   "source": [
    "# 주사위 던지기 시행\n",
    "throwing_number = 100\n",
    "\n",
    "# 주사위 던지기 시행의 결과를 random_dice 에 저장\n",
    "random_dice = [random.randint(1,6) for i in range(throwing_number)]\n",
    "random_dice"
   ]
  },
  {
   "cell_type": "code",
   "execution_count": 19,
   "id": "4cc3fe5c",
   "metadata": {},
   "outputs": [
    {
     "data": {
      "text/plain": [
       "{1: 0, 2: 0, 3: 0, 4: 0, 5: 0, 6: 0}"
      ]
     },
     "execution_count": 19,
     "metadata": {},
     "output_type": "execute_result"
    }
   ],
   "source": [
    "random_var_dict = {i:0 for i in range(1,7)}\n",
    "random_var_dict"
   ]
  },
  {
   "cell_type": "code",
   "execution_count": 23,
   "id": "894d0897",
   "metadata": {},
   "outputs": [
    {
     "data": {
      "text/plain": [
       "{1: 0.19, 2: 0.21, 3: 0.14, 4: 0.11, 5: 0.17, 6: 0.18}"
      ]
     },
     "execution_count": 23,
     "metadata": {},
     "output_type": "execute_result"
    }
   ],
   "source": [
    "# 주사위의 랜덤변수에 대한 확률을 할당\n",
    "for i in range(6):\n",
    "    nums = random_dice.count(i+1)\n",
    "    prob = nums / throwing_number\n",
    "    random_var_dict[i+1] = prob\n",
    "    \n",
    "random_var_dict"
   ]
  },
  {
   "cell_type": "code",
   "execution_count": 24,
   "id": "25702515",
   "metadata": {},
   "outputs": [
    {
     "name": "stderr",
     "output_type": "stream",
     "text": [
      "No handles with labels found to put in legend.\n"
     ]
    },
    {
     "data": {
      "image/png": "[encoded data removed]",
      "text/plain": [
       "<Figure size 432x288 with 1 Axes>"
      ]
     },
     "metadata": {
      "needs_background": "light"
     },
     "output_type": "display_data"
    }
   ],
   "source": [
    "import matplotlib.pyplot as plt\n",
    "\n",
    "x = random_var_dict.keys()\n",
    "p = random_var_dict.values()\n",
    "plt.plot(x, p)\n",
    "plt.legend()\n",
    "plt.show()"
   ]
  },
  {
   "cell_type": "markdown",
   "id": "f1d558e7",
   "metadata": {},
   "source": [
    "#### 기대값"
   ]
  },
  {
   "cell_type": "code",
   "execution_count": 43,
   "id": "bee3724e",
   "metadata": {},
   "outputs": [
    {
     "name": "stdout",
     "output_type": "stream",
     "text": [
      "3.4000000000000004\n"
     ]
    }
   ],
   "source": [
    "exp = 0\n",
    "exp_square = 0\n",
    "for key, value in random_var_dict.items():\n",
    "    exp += key*value\n",
    "    \n",
    "    # 분산을 위해서 여기서 구해둠\n",
    "    exp_square += (key**2)*value\n",
    "    \n",
    "print(exp)\n",
    "\n",
    "# 데이터가 더 많아진다면 enumerate 를 써라!"
   ]
  },
  {
   "cell_type": "markdown",
   "id": "c3d25c77",
   "metadata": {},
   "source": [
    "#### 분산"
   ]
  },
  {
   "cell_type": "code",
   "execution_count": 44,
   "id": "c8a510f5",
   "metadata": {},
   "outputs": [
    {
     "name": "stdout",
     "output_type": "stream",
     "text": [
      "3.219999999999999\n"
     ]
    }
   ],
   "source": [
    "var = exp_square - exp**2\n",
    "print(var)"
   ]
  },
  {
   "cell_type": "code",
   "execution_count": null,
   "id": "76d66ce6",
   "metadata": {},
   "outputs": [],
   "source": []
  }
 ],
 "metadata": {
  "kernelspec": {
   "display_name": "Python 3",
   "language": "python",
   "name": "python3"
  },
  "language_info": {
   "codemirror_mode": {
    "name": "ipython",
    "version": 3
   },
   "file_extension": ".py",
   "mimetype": "text/x-python",
   "name": "python",
   "nbconvert_exporter": "python",
   "pygments_lexer": "ipython3",
   "version": "3.8.8"
  }
 },
 "nbformat": 4,
 "nbformat_minor": 5
}
