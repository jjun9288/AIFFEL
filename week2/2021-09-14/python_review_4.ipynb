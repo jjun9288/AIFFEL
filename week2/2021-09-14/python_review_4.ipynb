{
 "cells": [
  {
   "cell_type": "code",
   "execution_count": 1,
   "id": "24120602",
   "metadata": {},
   "outputs": [
    {
     "name": "stdout",
     "output_type": "stream",
     "text": [
      "[(0, 'a'), (0, 'b'), (0, 'c'), (0, 'd'), (1, 'a'), (1, 'b'), (1, 'c'), (1, 'd')]\n"
     ]
    }
   ],
   "source": [
    "my_list = ['a','b','c','d']\n",
    "result = []\n",
    "\n",
    "for i in range(2):\n",
    "    for j in my_list:\n",
    "        result.append((i,j))\n",
    "        \n",
    "print(result)"
   ]
  },
  {
   "cell_type": "code",
   "execution_count": 2,
   "id": "61649846",
   "metadata": {},
   "outputs": [
    {
     "name": "stdout",
     "output_type": "stream",
     "text": [
      "[(0, 'a'), (0, 'b'), (0, 'c'), (0, 'd'), (1, 'a'), (1, 'b'), (1, 'c'), (1, 'd')]\n"
     ]
    }
   ],
   "source": [
    "result = [(i, j) for i in range(2) for j in my_list]\n",
    "\n",
    "print(result)"
   ]
  },
  {
   "cell_type": "markdown",
   "id": "e8202735",
   "metadata": {},
   "source": [
    "- 훨씬 간결하다!"
   ]
  },
  {
   "cell_type": "markdown",
   "id": "f2b5589d",
   "metadata": {},
   "source": [
    "#### Generator\n",
    "\n",
    "- 머신러닝을 하면 많은 데이터를 다루는데, 이 많은 데이터를 효율적으로 처리해야 한다"
   ]
  },
  {
   "cell_type": "code",
   "execution_count": 3,
   "id": "46f998a9",
   "metadata": {},
   "outputs": [
    {
     "name": "stdout",
     "output_type": "stream",
     "text": [
      ">> 8 data loaded..\n",
      "0 a\n",
      "0 b\n",
      "0 c\n",
      "0 d\n",
      "1 a\n",
      "1 b\n",
      "1 c\n",
      "1 d\n"
     ]
    }
   ],
   "source": [
    "my_list = ['a','b','c','d']\n",
    "\n",
    "def get_list(my_list):\n",
    "    result = []\n",
    "    for i in range(2):\n",
    "        for j in my_list:\n",
    "            result.append((i,j))\n",
    "    print('>> {} data loaded..'.format(len(result)))\n",
    "    return result\n",
    "\n",
    "for x,y in get_list(my_list):\n",
    "    print(x,y)"
   ]
  },
  {
   "cell_type": "code",
   "execution_count": 4,
   "id": "e3cd960d",
   "metadata": {},
   "outputs": [
    {
     "name": "stdout",
     "output_type": "stream",
     "text": [
      "0 a\n",
      ">> 1 data loaded..\n",
      "0 b\n",
      ">> 1 data loaded..\n",
      "0 c\n",
      ">> 1 data loaded..\n",
      "0 d\n",
      ">> 1 data loaded..\n",
      "1 a\n",
      ">> 1 data loaded..\n",
      "1 b\n",
      ">> 1 data loaded..\n",
      "1 c\n",
      ">> 1 data loaded..\n",
      "1 d\n",
      ">> 1 data loaded..\n"
     ]
    }
   ],
   "source": [
    "my_list = ['a','b','c','d']\n",
    "\n",
    "def get_generator(my_list):\n",
    "    result = []\n",
    "    for i in range(2):\n",
    "        for j in my_list:\n",
    "            yield (i,j)\n",
    "            print('>> 1 data loaded..')\n",
    "            \n",
    "gen = get_generator(my_list)\n",
    "for x,y in gen:\n",
    "    print(x,y)"
   ]
  },
  {
   "cell_type": "markdown",
   "id": "ec689220",
   "metadata": {},
   "source": [
    "- 제너레이터가 없다면 우리는 그 많은 데이터의 리스트를 리턴 받아 전부 메모리에 올려놓고 처리를 시작해야 한다. 하지만 제너레이터는 처리해야 할 데이터를 1개씩 로드해서 사용할 수 있다."
   ]
  },
  {
   "cell_type": "markdown",
   "id": "964503d6",
   "metadata": {},
   "source": [
    "#### 예외 처리\n",
    "\n",
    "- 실제 데이터를 다룰 때, 미처 확인하지 못하여 division by zero 에러가 나오고는 한다."
   ]
  },
  {
   "cell_type": "code",
   "execution_count": 5,
   "id": "8a1590d2",
   "metadata": {},
   "outputs": [
    {
     "name": "stdout",
     "output_type": "stream",
     "text": [
      "error\n",
      "fixed :  10.0\n"
     ]
    }
   ],
   "source": [
    "a = 10\n",
    "b = 0\n",
    "\n",
    "try:\n",
    "    print(a/b)\n",
    "\n",
    "except:\n",
    "    print(\"error\")\n",
    "    b += 1\n",
    "    print(\"fixed : \", a/b)"
   ]
  },
  {
   "cell_type": "markdown",
   "id": "272cc3d5",
   "metadata": {},
   "source": [
    "#### 함수 안의 함수 (2개 이상의 return)\n",
    "\n",
    "- 함수 안에 함수를 사용할 수 있는가?"
   ]
  },
  {
   "cell_type": "code",
   "execution_count": 7,
   "id": "3cb12182",
   "metadata": {},
   "outputs": [
    {
     "name": "stdout",
     "output_type": "stream",
     "text": [
      "min, max :  [10, 70]\n"
     ]
    }
   ],
   "source": [
    "data = [30, 40, 10, 70]\n",
    "\n",
    "def min_max(x_list):\n",
    "    \n",
    "    def inner_min_function(x):\n",
    "        min_result = x[0]\n",
    "        for i in range(len(x)):\n",
    "            if min_result > x[i]:\n",
    "                min_result = x[i]\n",
    "        return min_result\n",
    "    \n",
    "    def inner_max_function(x):\n",
    "        max_result = x[0]\n",
    "        for i in range(len(x)):\n",
    "            if max_result < x[i]:\n",
    "                max_result = x[i]\n",
    "        return max_result\n",
    "    \n",
    "    x_min = inner_min_function(x_list)\n",
    "    x_max = inner_max_function(x_list)\n",
    "    \n",
    "    min_max_list = [x_min, x_max]\n",
    "    return min_max_list\n",
    "\n",
    "print(\"min, max : \", min_max(data))"
   ]
  },
  {
   "cell_type": "markdown",
   "id": "eabfbb78",
   "metadata": {},
   "source": [
    "#### Iterator, Generator\n",
    "- Generator : 이터레이터를 생성해주는 함수\n",
    "- Iterable : 리스트, 튜플, 딕셔너리 같은 여러 개의 원소들을 가지는 컨테이너 객체\n",
    "- Iterator : 이터러블에서 원소를 하나씩 꺼내오는 객체"
   ]
  },
  {
   "cell_type": "code",
   "execution_count": 8,
   "id": "15b30e35",
   "metadata": {},
   "outputs": [],
   "source": [
    "def square(num_list):\n",
    "    new_list = []\n",
    "    for item in num_list:\n",
    "        new_list.append(item**2)\n",
    "    return new_list"
   ]
  },
  {
   "cell_type": "code",
   "execution_count": 10,
   "id": "1dbd53fd",
   "metadata": {},
   "outputs": [
    {
     "name": "stdout",
     "output_type": "stream",
     "text": [
      "0\n",
      "1\n",
      "4\n",
      "9\n",
      "16\n",
      "25\n",
      "36\n",
      "49\n",
      "64\n",
      "81\n"
     ]
    }
   ],
   "source": [
    "num_list = [i for i in range(10)]\n",
    "new_list = square(num_list)\n",
    "for item in new_list:\n",
    "    print(item)"
   ]
  },
  {
   "cell_type": "markdown",
   "id": "3f350bdc",
   "metadata": {},
   "source": [
    "- 만약 num_list의 개수가 1억 개라고 하면, 위 코드를 실행하면 2억 개의 원소가 메모리에 저장된다."
   ]
  },
  {
   "cell_type": "code",
   "execution_count": 12,
   "id": "3b7b47d2",
   "metadata": {},
   "outputs": [
    {
     "name": "stdout",
     "output_type": "stream",
     "text": [
      "0\n",
      "1\n",
      "\n",
      "2\n",
      "3\n",
      "4\n",
      "5\n",
      "6\n",
      "7\n",
      "8\n",
      "9\n"
     ]
    }
   ],
   "source": [
    "# iter() : 이터러블 객체를 이터레이터로 만들어준다.\n",
    "num_iterator = iter(num_list)\n",
    "print(next(num_iterator))\n",
    "print(next(num_iterator))\n",
    "\n",
    "print()\n",
    "\n",
    "for item in num_iterator:\n",
    "    print(item)"
   ]
  },
  {
   "cell_type": "markdown",
   "id": "5078a98c",
   "metadata": {},
   "source": [
    "- 이터레이터는 내부 원소들을 하나씩 소모를 한다.\n",
    "- 메모리를 비우게 된다!"
   ]
  },
  {
   "cell_type": "code",
   "execution_count": 13,
   "id": "754438d8",
   "metadata": {},
   "outputs": [],
   "source": [
    "# 제너레이터 : 이터레이터를 생성해주는 함수\n",
    "\n",
    "def generate_square(num_list):\n",
    "    for item in num_list:\n",
    "        yield item * item"
   ]
  },
  {
   "cell_type": "markdown",
   "id": "4b3d581b",
   "metadata": {},
   "source": [
    "- 즉, iterator는 클래스에 __ iter __, __ next __, __ getitem __ 메서드를 구현해야 하지만,\n",
    "- generator는 yield 라는 키워드만 사용하면 끝이다."
   ]
  },
  {
   "cell_type": "code",
   "execution_count": 16,
   "id": "b0455682",
   "metadata": {},
   "outputs": [
    {
     "name": "stdout",
     "output_type": "stream",
     "text": [
      "0\n",
      "1\n",
      "\n",
      "4\n",
      "9\n",
      "16\n",
      "25\n",
      "36\n",
      "49\n",
      "64\n",
      "81\n"
     ]
    }
   ],
   "source": [
    "num_list = [i for i in range(10)]\n",
    "num_iterator = generate_square(num_list)\n",
    "print(next(num_iterator))\n",
    "print(next(num_iterator))\n",
    "\n",
    "print()\n",
    "\n",
    "for item in num_iterator:\n",
    "    print(item)"
   ]
  },
  {
   "cell_type": "code",
   "execution_count": null,
   "id": "f4aca754",
   "metadata": {},
   "outputs": [],
   "source": []
  }
 ],
 "metadata": {
  "kernelspec": {
   "display_name": "Python 3",
   "language": "python",
   "name": "python3"
  },
  "language_info": {
   "codemirror_mode": {
    "name": "ipython",
    "version": 3
   },
   "file_extension": ".py",
   "mimetype": "text/x-python",
   "name": "python",
   "nbconvert_exporter": "python",
   "pygments_lexer": "ipython3",
   "version": "3.8.8"
  }
 },
 "nbformat": 4,
 "nbformat_minor": 5
}
