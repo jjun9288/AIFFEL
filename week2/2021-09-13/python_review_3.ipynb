{
 "cells": [
  {
   "cell_type": "code",
   "execution_count": 2,
   "id": "86b4d74c",
   "metadata": {},
   "outputs": [
    {
     "name": "stdout",
     "output_type": "stream",
     "text": [
      "Requirement already satisfied: beautifulsoup4 in c:\\users\\jjun8\\anaconda3\\lib\\site-packages (4.9.3)\n",
      "Requirement already satisfied: soupsieve>1.2 in c:\\users\\jjun8\\anaconda3\\lib\\site-packages (from beautifulsoup4) (2.2.1)\n",
      "Note: you may need to restart the kernel to use updated packages.\n"
     ]
    }
   ],
   "source": [
    "pip install beautifulsoup4"
   ]
  },
  {
   "cell_type": "markdown",
   "id": "09bd994b",
   "metadata": {},
   "source": [
    "### 이스케이프 문자"
   ]
  },
  {
   "cell_type": "code",
   "execution_count": 1,
   "id": "e3c14f31",
   "metadata": {},
   "outputs": [
    {
     "ename": "SyntaxError",
     "evalue": "invalid syntax (<ipython-input-1-53986f6c84ee>, line 1)",
     "output_type": "error",
     "traceback": [
      "\u001b[1;36m  File \u001b[1;32m\"<ipython-input-1-53986f6c84ee>\"\u001b[1;36m, line \u001b[1;32m1\u001b[0m\n\u001b[1;33m    s = 'I don't like Python!'\u001b[0m\n\u001b[1;37m               ^\u001b[0m\n\u001b[1;31mSyntaxError\u001b[0m\u001b[1;31m:\u001b[0m invalid syntax\n"
     ]
    }
   ],
   "source": [
    "s = 'I don't like Python!'"
   ]
  },
  {
   "cell_type": "markdown",
   "id": "fc45f7b7",
   "metadata": {},
   "source": [
    "#### \\를 이용하면 출력이 가능하다\n",
    "\n",
    "- \\'  : 홀따옴표 '\n",
    "- \\\"  : 겹따옴표 \"\n",
    "- \\t  : 탭\n",
    "- \\n  : 줄바꿈\n",
    "- \\\\  : 백슬래시 \\\n"
   ]
  },
  {
   "cell_type": "code",
   "execution_count": 4,
   "id": "e561bc30",
   "metadata": {},
   "outputs": [],
   "source": [
    "s = 'I don\\'t like Python'"
   ]
  },
  {
   "cell_type": "markdown",
   "id": "16441eb3",
   "metadata": {},
   "source": [
    "### 원시문자열\n",
    "- r 을 붙여 이스케이프 문자가 적용 되지 않는 것"
   ]
  },
  {
   "cell_type": "code",
   "execution_count": 5,
   "id": "02e7ddba",
   "metadata": {},
   "outputs": [
    {
     "name": "stdout",
     "output_type": "stream",
     "text": [
      "I don\\'t like python\n"
     ]
    }
   ],
   "source": [
    "print(r'I don\\'t like python')"
   ]
  },
  {
   "cell_type": "markdown",
   "id": "7c95562c",
   "metadata": {},
   "source": [
    "### 정규 표현식\n",
    "\n",
    "- search() : 일치하는 패턴 찾기\n",
    "- match() : search 와 비슷하지만, 패턴이 처음부터 일치해야 한다.\n",
    "- findall() : 일치하는 모든 패턴 찾기\n",
    "- split() : 패턴으로 나누기\n",
    "- sub() : 일치하는 패턴으로 대체하기\n",
    "- group() : 실제 결과에 해당하는 문자열 반환\n",
    "\n",
    "#### 특수문자, 메타문자\n",
    "\n",
    "- [  ] : 문자\n",
    "- - : 범위\n",
    "- . : 하나의 문자\n",
    "- ? : 0회 또는 1회 반복\n",
    "- * : 0회 이상 반복\n",
    "- + : 1회 이상 반복\n",
    "- {m,n} : m ~ n\n",
    "- \\d : 숫자\n",
    "- \\D : 비숫자\n",
    "- \\w : 알파벳 문자\n",
    "- \\W : 비알파벳 문자\n",
    "- \\s : 공백 문자\n",
    "- \\S : 비공백 문자\n",
    "- \\b : 단어 경계\n",
    "- \\B : 비 단어 경계"
   ]
  },
  {
   "cell_type": "code",
   "execution_count": 6,
   "id": "dc0e2e94",
   "metadata": {},
   "outputs": [],
   "source": [
    "import re"
   ]
  },
  {
   "cell_type": "code",
   "execution_count": 8,
   "id": "78c2e661",
   "metadata": {},
   "outputs": [
    {
     "data": {
      "text/plain": [
       "['1993', '1995', '2019', '2000', '2002', '2013', '2015', '2017']"
      ]
     },
     "execution_count": 8,
     "metadata": {},
     "output_type": "execute_result"
    }
   ],
   "source": [
    "# 연도 찾기\n",
    "text = \"\"\"\n",
    "The first season of America Premiere League  was played in 1993. \n",
    "The second season was played in 1995 in South Africa. \n",
    "Last season was played in 2019 and won by Chennai Super Kings (CSK).\n",
    "CSK won the title in 2000 and 2002 as well.\n",
    "Mumbai Indians (MI) has also won the title 3 times in 2013, 2015 and 2017.\n",
    "\"\"\"\n",
    "pattern = re.compile(\"[1-2]\\d\\d\\d\")\n",
    "pattern.findall(text)"
   ]
  },
  {
   "cell_type": "code",
   "execution_count": 9,
   "id": "d7e102c3",
   "metadata": {},
   "outputs": [
    {
     "name": "stdout",
     "output_type": "stream",
     "text": [
      "010-111-1111\n",
      "------\n"
     ]
    }
   ],
   "source": [
    "#- 전화번호(숫자, 기호)\n",
    "phonenumber = re.compile(r'\\d\\d\\d-\\d\\d\\d-\\d\\d\\d\\d')\n",
    "phone = phonenumber.search('This is my phone number 010-111-1111')\n",
    "if phone:\n",
    "  print(phone.group())\n",
    "print('------')\n",
    "phone = phonenumber.match ('This is my phone number 010-111-1111')\n",
    "if phone:\n",
    "  print(phone.group())"
   ]
  },
  {
   "cell_type": "code",
   "execution_count": 10,
   "id": "f441c8d4",
   "metadata": {},
   "outputs": [
    {
     "data": {
      "text/plain": [
       "['doingharu@aiffel.com', 'tomorrow@aiffel.com']"
      ]
     },
     "execution_count": 10,
     "metadata": {},
     "output_type": "execute_result"
    }
   ],
   "source": [
    "#- 이메일(알파벳, 숫자, 기호)\n",
    "text = \"My e-mail adress is doingharu@aiffel.com, and tomorrow@aiffel.com\"\n",
    "pattern = re.compile(\"[0-9a-zA-Z]+@[0-9a-z]+\\.[0-9a-z]+\")\n",
    "pattern.findall(text)"
   ]
  },
  {
   "cell_type": "markdown",
   "id": "3dada34f",
   "metadata": {},
   "source": [
    "### 파일\n",
    "\n",
    "- f.read() : 파일을 읽는다.\n",
    "- f.readline() : 파일을 한 줄씩 읽는다.\n",
    "- f.readlines() : 파일 안의 모든 줄을 읽어 그 값을 리스트로 반환한다.\n",
    "- f.write(str) : 파일에 쓴다.\n",
    "- f.writelines(str) : 파일에 인자를 한 줄씩 쓴다.\n",
    "- f.close() : 파일을 닫는다\n",
    "- fl.seek(offset) : 새 파일의 위치를 찾는다"
   ]
  },
  {
   "cell_type": "code",
   "execution_count": null,
   "id": "a855a8c4",
   "metadata": {},
   "outputs": [],
   "source": []
  }
 ],
 "metadata": {
  "kernelspec": {
   "display_name": "Python 3",
   "language": "python",
   "name": "python3"
  },
  "language_info": {
   "codemirror_mode": {
    "name": "ipython",
    "version": 3
   },
   "file_extension": ".py",
   "mimetype": "text/x-python",
   "name": "python",
   "nbconvert_exporter": "python",
   "pygments_lexer": "ipython3",
   "version": "3.8.8"
  }
 },
 "nbformat": 4,
 "nbformat_minor": 5
}
