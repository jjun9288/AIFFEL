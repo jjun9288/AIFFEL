{
 "cells": [
  {
   "cell_type": "markdown",
   "id": "c64e713a",
   "metadata": {},
   "source": [
    "- 연산자 오버로딩 : 클래스의 인스턴스끼리 수치 연산자를 이용해 연산을 진행하고 싶을 때 사용하는 메소드 ( ex) __ add __)"
   ]
  },
  {
   "cell_type": "code",
   "execution_count": 7,
   "id": "75c7826c",
   "metadata": {},
   "outputs": [],
   "source": [
    "class Point2D:\n",
    "    \n",
    "    def __init__(self, x, y):\n",
    "        \n",
    "        self.__x = x\n",
    "        self.__y = y\n",
    "    \n",
    "    def set_coord(self,x,y):\n",
    "        \n",
    "        self.__x = x\n",
    "        self.__y = y\n",
    "    \n",
    "    def get_coord(self):\n",
    "        \n",
    "        return (self.__x, self.__y)\n",
    "    \n",
    "    def __eq__(self, other):\n",
    "        \n",
    "        return (self.__x == other.__x) and (self.__y == other.__y)\n",
    "    \n",
    "    def __str__(self):\n",
    "        \n",
    "        msg = (f\"현재 나의 좌표 : {self.__x}, {self.__y}\")\n",
    "        return msg\n",
    "    \n",
    "    def __add__(self, other):\n",
    "    \n",
    "        return((self.__x + other.__x), (self.__y + other.__y))\n",
    "    \n",
    "    def __sub__(self, other):\n",
    "   \n",
    "        return((self.__x - other.__x), (self.__y - other.__y))\n",
    "\n",
    "    def __mul__(self, other):\n",
    "        \n",
    "        return((self.__x * other.__x), (self.__y * other.__y))\n",
    "    "
   ]
  },
  {
   "cell_type": "code",
   "execution_count": 9,
   "id": "4d432225",
   "metadata": {},
   "outputs": [
    {
     "name": "stdout",
     "output_type": "stream",
     "text": [
      "현재 나의 좌표 : 1, -1\n",
      "현재 나의 좌표 : 5, 2\n",
      "현재 나의 좌표 : 2, 5\n",
      "(7, 7)\n",
      "(3, -3)\n",
      "(10, 10)\n",
      "False\n"
     ]
    }
   ],
   "source": [
    "pt1 = Point2D(1,-1)\n",
    "print(pt1)\n",
    "pt1.set_coord(5,2)\n",
    "print(pt1)\n",
    "pt2 = Point2D(2,5)\n",
    "print(pt2)\n",
    "print(pt1 + pt2)\n",
    "print(pt1 - pt2)\n",
    "print(pt1 * pt2)\n",
    "print(pt1 == pt2)"
   ]
  },
  {
   "cell_type": "markdown",
   "id": "6ece3410",
   "metadata": {},
   "source": [
    "### 이번에는 N차원의 벡터 클래스를 만들어보자"
   ]
  },
  {
   "cell_type": "code",
   "execution_count": 54,
   "id": "92504c56",
   "metadata": {},
   "outputs": [],
   "source": [
    "class Vector:\n",
    "    #생성자의 입력값은 여러 개의 값이 담긴 리스트\n",
    "    # dtype은 벡터 내부의 원소의 타입\n",
    "    \n",
    "    def __init__(self, num_list, dtype):\n",
    "        \n",
    "        self.dtype = dtype\n",
    "        self.vector = []\n",
    "        # 조건문, 반복문을 활용하여 멤버변수 할당\n",
    "        # 조건문에서는 입력 받은 dtype 과 리스트의 dtype 가 같은 지 검사하고\n",
    "        # 값이 다르면 에러 메시지 출력\n",
    "        # 반복문을 활용하여 self.vector 에 원소 하나씩 넣기\n",
    "        \n",
    "        for i, item in enumerate(num_list):\n",
    "            if type(item) != self.dtype:\n",
    "                print(f\"The item {i} is not the same type\")\n",
    "                raise ValueError\n",
    "            else:\n",
    "                self.vector.append(item)\n",
    "                \n",
    "    def push_back(self, item): \n",
    "        \n",
    "        if type(item) != self.dtype:\n",
    "            print(f\"The item {i} is not the same type\")\n",
    "            raise ValueError\n",
    "        else:\n",
    "            self.vector.append(item)\n",
    "    \n",
    "    def pop_back(self):\n",
    "        \n",
    "        return self.vector.pop(-1)\n",
    "    \n",
    "    def dot_product(self, other):\n",
    "        \n",
    "        cp = []\n",
    "        if len(self.vector) == len(other.vector):\n",
    "            for i in range(len(self.vector)):\n",
    "                if len(self.vector) == len(other.vector):\n",
    "                    cp.append(self.vector[i] * other.vector[i])\n",
    "                else:\n",
    "                    raise ValueError\n",
    "        return cp"
   ]
  },
  {
   "cell_type": "code",
   "execution_count": 55,
   "id": "7b87c4ae",
   "metadata": {},
   "outputs": [
    {
     "name": "stdout",
     "output_type": "stream",
     "text": [
      "[1, 2, 3, 4]\n"
     ]
    }
   ],
   "source": [
    "vec1 = Vector([1,2,3], int)\n",
    "vec1.vector\n",
    "vec1.dtype\n",
    "vec1.push_back(4)\n",
    "print(vec1.vector)"
   ]
  },
  {
   "cell_type": "code",
   "execution_count": 56,
   "id": "07860477",
   "metadata": {},
   "outputs": [
    {
     "name": "stdout",
     "output_type": "stream",
     "text": [
      "The item 2 is not the same type\n"
     ]
    },
    {
     "ename": "ValueError",
     "evalue": "",
     "output_type": "error",
     "traceback": [
      "\u001b[1;31m---------------------------------------------------------------------------\u001b[0m",
      "\u001b[1;31mValueError\u001b[0m                                Traceback (most recent call last)",
      "\u001b[1;32m<ipython-input-56-0cc19a3e5ebc>\u001b[0m in \u001b[0;36m<module>\u001b[1;34m\u001b[0m\n\u001b[1;32m----> 1\u001b[1;33m \u001b[0mvec2\u001b[0m \u001b[1;33m=\u001b[0m \u001b[0mVector\u001b[0m\u001b[1;33m(\u001b[0m\u001b[1;33m[\u001b[0m\u001b[1;36m1\u001b[0m\u001b[1;33m,\u001b[0m\u001b[1;36m2\u001b[0m\u001b[1;33m,\u001b[0m\u001b[1;34m'3'\u001b[0m\u001b[1;33m]\u001b[0m\u001b[1;33m,\u001b[0m \u001b[0mint\u001b[0m\u001b[1;33m)\u001b[0m\u001b[1;33m\u001b[0m\u001b[1;33m\u001b[0m\u001b[0m\n\u001b[0m\u001b[0;32m      2\u001b[0m \u001b[0mvec2\u001b[0m\u001b[1;33m.\u001b[0m\u001b[0mvector\u001b[0m\u001b[1;33m\u001b[0m\u001b[1;33m\u001b[0m\u001b[0m\n",
      "\u001b[1;32m<ipython-input-54-87d093b80d25>\u001b[0m in \u001b[0;36m__init__\u001b[1;34m(self, num_list, dtype)\u001b[0m\n\u001b[0;32m     15\u001b[0m             \u001b[1;32mif\u001b[0m \u001b[0mtype\u001b[0m\u001b[1;33m(\u001b[0m\u001b[0mitem\u001b[0m\u001b[1;33m)\u001b[0m \u001b[1;33m!=\u001b[0m \u001b[0mself\u001b[0m\u001b[1;33m.\u001b[0m\u001b[0mdtype\u001b[0m\u001b[1;33m:\u001b[0m\u001b[1;33m\u001b[0m\u001b[1;33m\u001b[0m\u001b[0m\n\u001b[0;32m     16\u001b[0m                 \u001b[0mprint\u001b[0m\u001b[1;33m(\u001b[0m\u001b[1;34mf\"The item {i} is not the same type\"\u001b[0m\u001b[1;33m)\u001b[0m\u001b[1;33m\u001b[0m\u001b[1;33m\u001b[0m\u001b[0m\n\u001b[1;32m---> 17\u001b[1;33m                 \u001b[1;32mraise\u001b[0m \u001b[0mValueError\u001b[0m\u001b[1;33m\u001b[0m\u001b[1;33m\u001b[0m\u001b[0m\n\u001b[0m\u001b[0;32m     18\u001b[0m             \u001b[1;32melse\u001b[0m\u001b[1;33m:\u001b[0m\u001b[1;33m\u001b[0m\u001b[1;33m\u001b[0m\u001b[0m\n\u001b[0;32m     19\u001b[0m                 \u001b[0mself\u001b[0m\u001b[1;33m.\u001b[0m\u001b[0mvector\u001b[0m\u001b[1;33m.\u001b[0m\u001b[0mappend\u001b[0m\u001b[1;33m(\u001b[0m\u001b[0mitem\u001b[0m\u001b[1;33m)\u001b[0m\u001b[1;33m\u001b[0m\u001b[1;33m\u001b[0m\u001b[0m\n",
      "\u001b[1;31mValueError\u001b[0m: "
     ]
    }
   ],
   "source": [
    "vec2 = Vector([1,2,'3'], int)\n",
    "vec2.vector"
   ]
  },
  {
   "cell_type": "code",
   "execution_count": 57,
   "id": "8e6e935b",
   "metadata": {},
   "outputs": [
    {
     "name": "stdout",
     "output_type": "stream",
     "text": [
      "[2, 6, 12, 20]\n"
     ]
    }
   ],
   "source": [
    "vec2 = Vector([2,3,4,5], int)\n",
    "print(vec1.dot_product(vec2))"
   ]
  },
  {
   "cell_type": "code",
   "execution_count": 58,
   "id": "1663590d",
   "metadata": {},
   "outputs": [
    {
     "name": "stdout",
     "output_type": "stream",
     "text": [
      "[]\n"
     ]
    }
   ],
   "source": [
    "vec3 = Vector([1,4,6], int)\n",
    "print(vec1.dot_product(vec3))"
   ]
  },
  {
   "cell_type": "code",
   "execution_count": null,
   "id": "f1b891e6",
   "metadata": {},
   "outputs": [],
   "source": []
  }
 ],
 "metadata": {
  "kernelspec": {
   "display_name": "Python 3",
   "language": "python",
   "name": "python3"
  },
  "language_info": {
   "codemirror_mode": {
    "name": "ipython",
    "version": 3
   },
   "file_extension": ".py",
   "mimetype": "text/x-python",
   "name": "python",
   "nbconvert_exporter": "python",
   "pygments_lexer": "ipython3",
   "version": "3.8.8"
  }
 },
 "nbformat": 4,
 "nbformat_minor": 5
}
