{
 "cells": [
  {
   "cell_type": "markdown",
   "id": "ecological-carry",
   "metadata": {},
   "source": [
    "# TRAIN"
   ]
  },
  {
   "cell_type": "code",
   "execution_count": 45,
   "id": "informed-bicycle",
   "metadata": {},
   "outputs": [],
   "source": [
    "from PIL import Image\n",
    "import os,glob"
   ]
  },
  {
   "cell_type": "code",
   "execution_count": 46,
   "id": "naval-tackle",
   "metadata": {},
   "outputs": [
    {
     "name": "stdout",
     "output_type": "stream",
     "text": [
      "516  images to be resized.\n",
      "516 images resized.\n",
      "가위 이미지 resize 완료\n",
      "------------------------------------------\n",
      "429  images to be resized.\n",
      "429 images resized.\n",
      "주먹 이미지 resize 완료\n",
      "------------------------------------------\n",
      "368  images to be resized.\n",
      "368 images resized.\n",
      "보 이미지 resize 완료\n",
      "------------------------------------------\n"
     ]
    }
   ],
   "source": [
    "# 현재 이미지 사이즈는 224 x 224 이므로 28 x 28 로 바꾸자\n",
    "import os\n",
    "\n",
    "def resize_images(img_path):\n",
    "    images = glob.glob(img_path + \"/*.jpg\")\n",
    "    \n",
    "    print(len(images),\" images to be resized.\")\n",
    "    \n",
    "    #파일마다 모두 28 x 28로 바꾸어 저장한다.\n",
    "    target_size = (28,28)\n",
    "    for img in images:\n",
    "        old_img = Image.open(img)\n",
    "        new_img = old_img.resize(target_size, Image.ANTIALIAS)\n",
    "        new_img.save(img, \"JPEG\")\n",
    "        \n",
    "    print(len(images), \"images resized.\")\n",
    "    \n",
    "image_dir_path = os.getenv(\"HOME\") + \"/aiffel/rock_scissor_paper/train_3/scissor\"\n",
    "resize_images(image_dir_path)\n",
    "print(\"가위 이미지 resize 완료\")\n",
    "print(\"------------------------------------------\")\n",
    "\n",
    "image_dir_path = os.getenv(\"HOME\") + \"/aiffel/rock_scissor_paper/train_3/rock\"\n",
    "resize_images(image_dir_path)\n",
    "print(\"주먹 이미지 resize 완료\")\n",
    "print(\"------------------------------------------\")\n",
    "\n",
    "image_dir_path = os.getenv(\"HOME\") + \"/aiffel/rock_scissor_paper/train_3/paper\"\n",
    "resize_images(image_dir_path)\n",
    "print(\"보 이미지 resize 완료\")\n",
    "print(\"------------------------------------------\")"
   ]
  },
  {
   "cell_type": "code",
   "execution_count": 47,
   "id": "baking-bikini",
   "metadata": {},
   "outputs": [
    {
     "name": "stdout",
     "output_type": "stream",
     "text": [
      "학습데이터 (x_train)의 이미지 갯수는 1313 입니다.\n",
      "x_train shape : (1313, 28, 28, 3)\n",
      "y_train shape : (1313,)\n"
     ]
    }
   ],
   "source": [
    "import numpy as np\n",
    "\n",
    "def load_data(img_path, number_of_data = 1313):     #151은 이미지 갯수. \n",
    "    #가위 : 0, 바위 : 1, 보 : 2\n",
    "    img_size = 28\n",
    "    color = 3\n",
    "    #이미지 데이터와 라벨(가위:0,바위:1,보:2)데이터를 담을 행렬 생성\n",
    "    imgs = np.zeros(number_of_data * img_size * img_size * color, dtype = np.int32).reshape(number_of_data,img_size,img_size,color)\n",
    "    labels = np.zeros(number_of_data, dtype = np.int32)\n",
    "    \n",
    "    idx = 0\n",
    "    for file in glob.iglob(img_path + '/scissor/*.jpg'):\n",
    "        img = np.array(Image.open(file), dtype = np.int32)\n",
    "        imgs[idx,:,:,:] = img    #데이터 영역에 이미지 행렬을 복사\n",
    "        labels[idx] = 0    #가위 : 0\n",
    "        idx += 1\n",
    "        \n",
    "    for file in glob.iglob(img_path + '/rock/*.jpg'):\n",
    "        img = np.array(Image.open(file), dtype = np.int32)\n",
    "        imgs[idx,:,:,:] = img    #데이터 영역에 이미지 행렬을 복사\n",
    "        labels[idx] = 1    #바위 : 1\n",
    "        idx += 1\n",
    "        \n",
    "    for file in glob.iglob(img_path + '/paper/*.jpg'):\n",
    "        img = np.array(Image.open(file), dtype = np.int32)\n",
    "        imgs[idx,:,:,:] = img    #데이터 영역에 이미지 행렬을 복사\n",
    "        labels[idx] = 2    #보 : 2\n",
    "        idx += 1\n",
    "        \n",
    "    print(\"학습데이터 (x_train)의 이미지 갯수는\", idx, \"입니다.\")\n",
    "    return imgs, labels\n",
    "    \n",
    "image_dir_path = os.getenv(\"HOME\") + \"/aiffel/rock_scissor_paper/train_3\"\n",
    "(x_train, y_train) = load_data(image_dir_path)\n",
    "x_train_norm = x_train/255.0\n",
    "\n",
    "print(\"x_train shape : {}\".format(x_train.shape))\n",
    "print(\"y_train shape : {}\".format(y_train.shape))"
   ]
  },
  {
   "cell_type": "code",
   "execution_count": 48,
   "id": "specialized-appliance",
   "metadata": {},
   "outputs": [
    {
     "name": "stdout",
     "output_type": "stream",
     "text": [
      "라벨 :  0\n"
     ]
    },
    {
     "data": {
      "image/png": "[encoded data removed]",
      "text/plain": [
       "<Figure size 432x288 with 1 Axes>"
      ]
     },
     "metadata": {
      "needs_background": "light"
     },
     "output_type": "display_data"
    }
   ],
   "source": [
    "import matplotlib.pyplot as plt\n",
    "plt.imshow(x_train[0])\n",
    "print('라벨 : ',y_train[0])"
   ]
  },
  {
   "cell_type": "code",
   "execution_count": 49,
   "id": "incident-settlement",
   "metadata": {},
   "outputs": [],
   "source": [
    "import tensorflow as tf\n",
    "from tensorflow import keras\n",
    "import numpy as np"
   ]
  },
  {
   "cell_type": "code",
   "execution_count": 50,
   "id": "seventh-third",
   "metadata": {},
   "outputs": [
    {
     "name": "stdout",
     "output_type": "stream",
     "text": [
      "Epoch 1/15\n",
      "42/42 [==============================] - 2s 26ms/step - loss: 1.1097 - accuracy: 0.4002\n",
      "Epoch 2/15\n",
      "42/42 [==============================] - 1s 27ms/step - loss: 0.9687 - accuracy: 0.5144\n",
      "Epoch 3/15\n",
      "42/42 [==============================] - 1s 23ms/step - loss: 0.6862 - accuracy: 0.6962\n",
      "Epoch 4/15\n",
      "42/42 [==============================] - 1s 23ms/step - loss: 0.3193 - accuracy: 0.8681\n",
      "Epoch 5/15\n",
      "42/42 [==============================] - 1s 23ms/step - loss: 0.1456 - accuracy: 0.9509\n",
      "Epoch 6/15\n",
      "42/42 [==============================] - 1s 23ms/step - loss: 0.1033 - accuracy: 0.9636\n",
      "Epoch 7/15\n",
      "42/42 [==============================] - 1s 23ms/step - loss: 0.0499 - accuracy: 0.9830\n",
      "Epoch 8/15\n",
      "42/42 [==============================] - 1s 23ms/step - loss: 0.0666 - accuracy: 0.9680\n",
      "Epoch 9/15\n",
      "42/42 [==============================] - 1s 23ms/step - loss: 0.0330 - accuracy: 0.9853\n",
      "Epoch 10/15\n",
      "42/42 [==============================] - 1s 22ms/step - loss: 0.0248 - accuracy: 0.9913\n",
      "Epoch 11/15\n",
      "42/42 [==============================] - 1s 22ms/step - loss: 0.0437 - accuracy: 0.9844\n",
      "Epoch 12/15\n",
      "42/42 [==============================] - 1s 22ms/step - loss: 0.0278 - accuracy: 0.9879\n",
      "Epoch 13/15\n",
      "42/42 [==============================] - 1s 23ms/step - loss: 0.0158 - accuracy: 0.9936\n",
      "Epoch 14/15\n",
      "42/42 [==============================] - 1s 23ms/step - loss: 0.0319 - accuracy: 0.9911\n",
      "Epoch 15/15\n",
      "42/42 [==============================] - 1s 23ms/step - loss: 0.1075 - accuracy: 0.9488\n",
      "42/42 - 0s - loss: 0.0265 - accuracy: 0.9931\n",
      "train_loss : 0.026514429599046707\n",
      "train_accuracy : 0.9931454658508301\n"
     ]
    }
   ],
   "source": [
    "model = keras.models.Sequential()\n",
    "model.add(keras.layers.Conv2D(256,(3,3), activation='relu', input_shape=(28,28,3)))\n",
    "model.add(keras.layers.MaxPool2D(2,2))\n",
    "model.add(keras.layers.Conv2D(512,(3,3), activation='relu'))\n",
    "model.add(keras.layers.MaxPool2D(2,2))\n",
    "model.add(keras.layers.Conv2D(512,(3,3), activation='relu'))\n",
    "model.add(keras.layers.MaxPool2D(2,2))\n",
    "model.add(keras.layers.Dropout(0.2))\n",
    "model.add(keras.layers.Flatten())\n",
    "model.add(keras.layers.Dense(512, activation = 'relu'))\n",
    "model.add(keras.layers.Dense(3, activation = 'softmax'))\n",
    "\n",
    "model.compile(optimizer = 'adam',\n",
    "             loss = 'sparse_categorical_crossentropy',\n",
    "             metrics = ['accuracy'])\n",
    "# 모델 훈련\n",
    "model.fit(x_train_norm, y_train, epochs = 15)\n",
    "\n",
    "train_loss, train_accuracy = model.evaluate(x_train_norm, y_train, verbose = 2)\n",
    "print('train_loss : {}'.format(train_loss))\n",
    "print('train_accuracy : {}'.format(train_accuracy))"
   ]
  },
  {
   "cell_type": "code",
   "execution_count": 51,
   "id": "likely-decimal",
   "metadata": {},
   "outputs": [
    {
     "data": {
      "text/plain": [
       "'\\nimport random\\n\\npredicted_result = model.predict(x_train)    #model 이 추론할 확률값\\npredicted_labels = np.argmax(predicted_result, axis = 1)\\n\\nwrong = []\\nfor i, _ in enumerate(predicted_labels):\\n    if predicted_labels[i] != y_train[i]:\\n        wrong.append(i)\\n\\nsamples = random.choices(population = wrong, k=3)\\n\\nfor n in samples:\\n    print(\"라벨 : \" + str(y_train[n]) + \", 예측결과 : \" + str(predicted_labels[n]))\\n    plt.imshow(x_train[n], cmap = plt.cm.binary)\\n    plt.show()\\n'"
      ]
     },
     "execution_count": 51,
     "metadata": {},
     "output_type": "execute_result"
    }
   ],
   "source": [
    "# 다른 값 예측한 경우에 대하여\n",
    "'''\n",
    "import random\n",
    "\n",
    "predicted_result = model.predict(x_train)    #model 이 추론할 확률값\n",
    "predicted_labels = np.argmax(predicted_result, axis = 1)\n",
    "\n",
    "wrong = []\n",
    "for i, _ in enumerate(predicted_labels):\n",
    "    if predicted_labels[i] != y_train[i]:\n",
    "        wrong.append(i)\n",
    "\n",
    "samples = random.choices(population = wrong, k=3)\n",
    "\n",
    "for n in samples:\n",
    "    print(\"라벨 : \" + str(y_train[n]) + \", 예측결과 : \" + str(predicted_labels[n]))\n",
    "    plt.imshow(x_train[n], cmap = plt.cm.binary)\n",
    "    plt.show()\n",
    "'''"
   ]
  },
  {
   "cell_type": "markdown",
   "id": "ultimate-cement",
   "metadata": {},
   "source": [
    "# TEST"
   ]
  },
  {
   "cell_type": "code",
   "execution_count": 52,
   "id": "legal-judge",
   "metadata": {},
   "outputs": [
    {
     "name": "stdout",
     "output_type": "stream",
     "text": [
      "100  images to be resized.\n",
      "100 images resized.\n",
      "가위 이미지 resize 완료\n",
      "------------------------------------------\n",
      "100  images to be resized.\n",
      "100 images resized.\n",
      "주먹 이미지 resize 완료\n",
      "------------------------------------------\n",
      "100  images to be resized.\n",
      "100 images resized.\n",
      "보 이미지 resize 완료\n",
      "------------------------------------------\n"
     ]
    }
   ],
   "source": [
    "image_dir_path = os.getenv(\"HOME\") + \"/aiffel/rock_scissor_paper/test/scissor\"\n",
    "resize_images(image_dir_path)\n",
    "print(\"가위 이미지 resize 완료\")\n",
    "print(\"------------------------------------------\")\n",
    "\n",
    "image_dir_path = os.getenv(\"HOME\") + \"/aiffel/rock_scissor_paper/test/rock\"\n",
    "resize_images(image_dir_path)\n",
    "print(\"주먹 이미지 resize 완료\")\n",
    "print(\"------------------------------------------\")\n",
    "\n",
    "image_dir_path = os.getenv(\"HOME\") + \"/aiffel/rock_scissor_paper/test/paper\"\n",
    "resize_images(image_dir_path)\n",
    "print(\"보 이미지 resize 완료\")\n",
    "print(\"------------------------------------------\")"
   ]
  },
  {
   "cell_type": "code",
   "execution_count": 53,
   "id": "revolutionary-pennsylvania",
   "metadata": {},
   "outputs": [
    {
     "name": "stdout",
     "output_type": "stream",
     "text": [
      "학습데이터 (x_train)의 이미지 갯수는 300 입니다.\n",
      "x_train shape : (300, 28, 28, 3)\n",
      "y_train shape : (300,)\n"
     ]
    }
   ],
   "source": [
    "def load_data(img_path, number_of_data = 300):      \n",
    "    #가위 : 0, 바위 : 1, 보 : 2\n",
    "    img_size = 28\n",
    "    color = 3\n",
    "    #이미지 데이터와 라벨(가위:0,바위:1,보:2)데이터를 담을 행렬 생성\n",
    "    imgs = np.zeros(number_of_data * img_size * img_size * color, dtype = np.int32).reshape(number_of_data,img_size,img_size,color)\n",
    "    labels = np.zeros(number_of_data, dtype = np.int32)\n",
    "    \n",
    "    idx = 0\n",
    "    for file in glob.iglob(img_path + '/scissor/*.jpg'):\n",
    "        img = np.array(Image.open(file), dtype = np.int32)\n",
    "        imgs[idx,:,:,:] = img    #데이터 영역에 이미지 행렬을 복사\n",
    "        labels[idx] = 0    #가위 : 0\n",
    "        idx += 1\n",
    "        \n",
    "    for file in glob.iglob(img_path + '/rock/*.jpg'):\n",
    "        img = np.array(Image.open(file), dtype = np.int32)\n",
    "        imgs[idx,:,:,:] = img    #데이터 영역에 이미지 행렬을 복사\n",
    "        labels[idx] = 1    #바위 : 1\n",
    "        idx += 1\n",
    "        \n",
    "    for file in glob.iglob(img_path + '/paper/*.jpg'):\n",
    "        img = np.array(Image.open(file), dtype = np.int32)\n",
    "        imgs[idx,:,:,:] = img    #데이터 영역에 이미지 행렬을 복사\n",
    "        labels[idx] = 2    #보 : 2\n",
    "        idx += 1\n",
    "        \n",
    "    print(\"학습데이터 (x_train)의 이미지 갯수는\", idx, \"입니다.\")\n",
    "    return imgs, labels\n",
    "    \n",
    "image_dir_path = os.getenv(\"HOME\") + \"/aiffel/rock_scissor_paper/test\"\n",
    "(x_test, y_test) = load_data(image_dir_path)\n",
    "x_test_norm = x_test/255.0\n",
    "\n",
    "print(\"x_train shape : {}\".format(x_test.shape))\n",
    "print(\"y_train shape : {}\".format(y_test.shape))"
   ]
  },
  {
   "cell_type": "code",
   "execution_count": 54,
   "id": "municipal-livestock",
   "metadata": {},
   "outputs": [
    {
     "name": "stdout",
     "output_type": "stream",
     "text": [
      "라벨 :  0\n"
     ]
    },
    {
     "data": {
      "image/png": "[encoded data removed]",
      "text/plain": [
       "<Figure size 432x288 with 1 Axes>"
      ]
     },
     "metadata": {
      "needs_background": "light"
     },
     "output_type": "display_data"
    }
   ],
   "source": [
    "plt.imshow(x_test[0])\n",
    "print('라벨 : ',y_test[0])"
   ]
  },
  {
   "cell_type": "code",
   "execution_count": 55,
   "id": "flush-reflection",
   "metadata": {},
   "outputs": [
    {
     "name": "stdout",
     "output_type": "stream",
     "text": [
      "10/10 - 0s - loss: 1.2505 - accuracy: 0.6033\n",
      "test_loss : 1.2505178451538086\n",
      "test_accuracy : 0.6033333539962769\n"
     ]
    }
   ],
   "source": [
    "test_loss, test_accuracy = model.evaluate(x_test_norm, y_test, verbose = 2)\n",
    "print('test_loss : {}'.format(test_loss))\n",
    "print('test_accuracy : {}'.format(test_accuracy))"
   ]
  },
  {
   "cell_type": "code",
   "execution_count": null,
   "id": "processed-plastic",
   "metadata": {},
   "outputs": [],
   "source": []
  },
  {
   "cell_type": "code",
   "execution_count": null,
   "id": "hydraulic-sculpture",
   "metadata": {},
   "outputs": [],
   "source": []
  }
 ],
 "metadata": {
  "kernelspec": {
   "display_name": "Python 3",
   "language": "python",
   "name": "python3"
  },
  "language_info": {
   "codemirror_mode": {
    "name": "ipython",
    "version": 3
   },
   "file_extension": ".py",
   "mimetype": "text/x-python",
   "name": "python",
   "nbconvert_exporter": "python",
   "pygments_lexer": "ipython3",
   "version": "3.7.9"
  }
 },
 "nbformat": 4,
 "nbformat_minor": 5
}
