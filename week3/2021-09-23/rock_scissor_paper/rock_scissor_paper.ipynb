{
 "cells": [
  {
   "cell_type": "markdown",
   "id": "hairy-interest",
   "metadata": {},
   "source": [
    "# TRAIN"
   ]
  },
  {
   "cell_type": "code",
   "execution_count": 1,
   "id": "manufactured-employee",
   "metadata": {},
   "outputs": [],
   "source": [
    "from PIL import Image\n",
    "import os,glob"
   ]
  },
  {
   "cell_type": "code",
   "execution_count": 35,
   "id": "lesbian-gardening",
   "metadata": {},
   "outputs": [
    {
     "name": "stdout",
     "output_type": "stream",
     "text": [
      "100  images to be resized.\n",
      "100 images resized.\n",
      "가위 이미지 resize 완료\n",
      "------------------------------------------\n",
      "100  images to be resized.\n",
      "100 images resized.\n",
      "주먹 이미지 resize 완료\n",
      "------------------------------------------\n",
      "100  images to be resized.\n",
      "100 images resized.\n",
      "보 이미지 resize 완료\n",
      "------------------------------------------\n"
     ]
    }
   ],
   "source": [
    "# 현재 이미지 사이즈는 224 x 224 이므로 28 x 28 로 바꾸자\n",
    "import os\n",
    "\n",
    "def resize_images(img_path):\n",
    "    images = glob.glob(img_path + \"/*.jpg\")\n",
    "    \n",
    "    print(len(images),\" images to be resized.\")\n",
    "    \n",
    "    #파일마다 모두 28 x 28로 바꾸어 저장한다.\n",
    "    target_size = (28,28)\n",
    "    for img in images:\n",
    "        old_img = Image.open(img)\n",
    "        new_img = old_img.resize(target_size, Image.ANTIALIAS)\n",
    "        new_img.save(img, \"JPEG\")\n",
    "        \n",
    "    print(len(images), \"images resized.\")\n",
    "    \n",
    "image_dir_path = os.getenv(\"HOME\") + \"/aiffel/rock_scissor_paper/train_2/scissor\"\n",
    "resize_images(image_dir_path)\n",
    "print(\"가위 이미지 resize 완료\")\n",
    "print(\"------------------------------------------\")\n",
    "\n",
    "image_dir_path = os.getenv(\"HOME\") + \"/aiffel/rock_scissor_paper/train_2/rock\"\n",
    "resize_images(image_dir_path)\n",
    "print(\"주먹 이미지 resize 완료\")\n",
    "print(\"------------------------------------------\")\n",
    "\n",
    "image_dir_path = os.getenv(\"HOME\") + \"/aiffel/rock_scissor_paper/train_2/paper\"\n",
    "resize_images(image_dir_path)\n",
    "print(\"보 이미지 resize 완료\")\n",
    "print(\"------------------------------------------\")"
   ]
  },
  {
   "cell_type": "code",
   "execution_count": 37,
   "id": "tracked-voltage",
   "metadata": {},
   "outputs": [
    {
     "name": "stdout",
     "output_type": "stream",
     "text": [
      "학습데이터 (x_train)의 이미지 갯수는 300 입니다.\n",
      "x_train shape : (300, 28, 28, 3)\n",
      "y_train shape : (300,)\n"
     ]
    }
   ],
   "source": [
    "import numpy as np\n",
    "\n",
    "def load_data(img_path, number_of_data = 300):     #151은 이미지 갯수. \n",
    "    #가위 : 0, 바위 : 1, 보 : 2\n",
    "    img_size = 28\n",
    "    color = 3\n",
    "    #이미지 데이터와 라벨(가위:0,바위:1,보:2)데이터를 담을 행렬 생성\n",
    "    imgs = np.zeros(number_of_data * img_size * img_size * color, dtype = np.int32).reshape(number_of_data,img_size,img_size,color)\n",
    "    labels = np.zeros(number_of_data, dtype = np.int32)\n",
    "    \n",
    "    idx = 0\n",
    "    for file in glob.iglob(img_path + '/scissor/*.jpg'):\n",
    "        img = np.array(Image.open(file), dtype = np.int32)\n",
    "        imgs[idx,:,:,:] = img    #데이터 영역에 이미지 행렬을 복사\n",
    "        labels[idx] = 0    #가위 : 0\n",
    "        idx += 1\n",
    "        \n",
    "    for file in glob.iglob(img_path + '/rock/*.jpg'):\n",
    "        img = np.array(Image.open(file), dtype = np.int32)\n",
    "        imgs[idx,:,:,:] = img    #데이터 영역에 이미지 행렬을 복사\n",
    "        labels[idx] = 1    #바위 : 1\n",
    "        idx += 1\n",
    "        \n",
    "    for file in glob.iglob(img_path + '/paper/*.jpg'):\n",
    "        img = np.array(Image.open(file), dtype = np.int32)\n",
    "        imgs[idx,:,:,:] = img    #데이터 영역에 이미지 행렬을 복사\n",
    "        labels[idx] = 2    #보 : 2\n",
    "        idx += 1\n",
    "        \n",
    "    print(\"학습데이터 (x_train)의 이미지 갯수는\", idx, \"입니다.\")\n",
    "    return imgs, labels\n",
    "    \n",
    "image_dir_path = os.getenv(\"HOME\") + \"/aiffel/rock_scissor_paper/train_2\"\n",
    "(x_train, y_train) = load_data(image_dir_path)\n",
    "x_train_norm = x_train/255.0\n",
    "\n",
    "print(\"x_train shape : {}\".format(x_train.shape))\n",
    "print(\"y_train shape : {}\".format(y_train.shape))"
   ]
  },
  {
   "cell_type": "code",
   "execution_count": 38,
   "id": "accomplished-blend",
   "metadata": {},
   "outputs": [
    {
     "name": "stdout",
     "output_type": "stream",
     "text": [
      "라벨 :  0\n"
     ]
    },
    {
     "data": {
      "image/png": "[encoded data removed]",
      "text/plain": [
       "<Figure size 432x288 with 1 Axes>"
      ]
     },
     "metadata": {
      "needs_background": "light"
     },
     "output_type": "display_data"
    }
   ],
   "source": [
    "import matplotlib.pyplot as plt\n",
    "plt.imshow(x_train[0])\n",
    "print('라벨 : ',y_train[0])"
   ]
  },
  {
   "cell_type": "code",
   "execution_count": 39,
   "id": "surprising-justice",
   "metadata": {},
   "outputs": [],
   "source": [
    "import tensorflow as tf\n",
    "from tensorflow import keras\n",
    "import numpy as np"
   ]
  },
  {
   "cell_type": "code",
   "execution_count": 40,
   "id": "unsigned-linux",
   "metadata": {},
   "outputs": [
    {
     "name": "stdout",
     "output_type": "stream",
     "text": [
      "Epoch 1/10\n",
      "10/10 [==============================] - 0s 3ms/step - loss: 37.9589 - accuracy: 0.1705\n",
      "Epoch 2/10\n",
      "10/10 [==============================] - 0s 3ms/step - loss: 3.6445 - accuracy: 0.3076\n",
      "Epoch 3/10\n",
      "10/10 [==============================] - 0s 3ms/step - loss: 0.9980 - accuracy: 0.6658\n",
      "Epoch 4/10\n",
      "10/10 [==============================] - 0s 3ms/step - loss: 0.4595 - accuracy: 0.8381\n",
      "Epoch 5/10\n",
      "10/10 [==============================] - 0s 3ms/step - loss: 0.2782 - accuracy: 0.8656\n",
      "Epoch 6/10\n",
      "10/10 [==============================] - 0s 3ms/step - loss: 0.0798 - accuracy: 0.9720\n",
      "Epoch 7/10\n",
      "10/10 [==============================] - 0s 3ms/step - loss: 0.0505 - accuracy: 0.9839\n",
      "Epoch 8/10\n",
      "10/10 [==============================] - 0s 4ms/step - loss: 0.0147 - accuracy: 0.9983\n",
      "Epoch 9/10\n",
      "10/10 [==============================] - 0s 3ms/step - loss: 0.0123 - accuracy: 1.0000\n",
      "Epoch 10/10\n",
      "10/10 [==============================] - 0s 3ms/step - loss: 0.0060 - accuracy: 1.0000\n",
      "10/10 - 0s - loss: 0.0067 - accuracy: 1.0000\n",
      "train_loss : 0.006745575927197933\n",
      "train_accuracy : 1.0\n"
     ]
    }
   ],
   "source": [
    "#hyperparameters\n",
    "n_channel_1 = 16\n",
    "n_channel_2 = 32\n",
    "n_dense = 32\n",
    "epoch = 10\n",
    "\n",
    "model = keras.models.Sequential()\n",
    "model.add(keras.layers.Conv2D(n_channel_1,(3,3), activation = 'relu', input_shape = (28,28,3)))\n",
    "model.add(keras.layers.MaxPool2D(2,2))\n",
    "model.add(keras.layers.Conv2D(n_channel_2, (3,3), activation = 'relu'))\n",
    "model.add(keras.layers.MaxPooling2D((2,2)))\n",
    "model.add(keras.layers.Flatten())\n",
    "model.add(keras.layers.Dense(n_dense, activation = 'relu'))\n",
    "model.add(keras.layers.Dense(10, activation = 'softmax'))\n",
    "\n",
    "model.compile(optimizer = 'adam',\n",
    "             loss = 'sparse_categorical_crossentropy',\n",
    "             metrics = ['accuracy'])\n",
    "\n",
    "model.fit(x_train, y_train, epochs = epoch)\n",
    "\n",
    "train_loss, train_accuracy = model.evaluate(x_train, y_train, verbose = 2)\n",
    "print('train_loss : {}'.format(train_loss))\n",
    "print('train_accuracy : {}'.format(train_accuracy))"
   ]
  },
  {
   "cell_type": "code",
   "execution_count": 29,
   "id": "prostate-sense",
   "metadata": {},
   "outputs": [
    {
     "name": "stdout",
     "output_type": "stream",
     "text": [
      "라벨 : 0, 예측결과 : 2\n"
     ]
    },
    {
     "data": {
      "image/png": "[encoded data removed]",
      "text/plain": [
       "<Figure size 432x288 with 1 Axes>"
      ]
     },
     "metadata": {
      "needs_background": "light"
     },
     "output_type": "display_data"
    },
    {
     "name": "stdout",
     "output_type": "stream",
     "text": [
      "라벨 : 0, 예측결과 : 2\n"
     ]
    },
    {
     "data": {
      "image/png": "[encoded data removed]",
      "text/plain": [
       "<Figure size 432x288 with 1 Axes>"
      ]
     },
     "metadata": {
      "needs_background": "light"
     },
     "output_type": "display_data"
    },
    {
     "name": "stdout",
     "output_type": "stream",
     "text": [
      "라벨 : 0, 예측결과 : 2\n"
     ]
    },
    {
     "data": {
      "image/png": "[encoded data removed]",
      "text/plain": [
       "<Figure size 432x288 with 1 Axes>"
      ]
     },
     "metadata": {
      "needs_background": "light"
     },
     "output_type": "display_data"
    }
   ],
   "source": [
    "# 다른 값 예측한 경우에 대하여\n",
    "import random\n",
    "\n",
    "predicted_result = model.predict(x_train)    #model 이 추론할 확률값\n",
    "predicted_labels = np.argmax(predicted_result, axis = 1)\n",
    "\n",
    "wrong = []\n",
    "for i, _ in enumerate(predicted_labels):\n",
    "    if predicted_labels[i] != y_train[i]:\n",
    "        wrong.append(i)\n",
    "\n",
    "samples = random.choices(population = wrong, k=3)\n",
    "\n",
    "for n in samples:\n",
    "    print(\"라벨 : \" + str(y_train[n]) + \", 예측결과 : \" + str(predicted_labels[n]))\n",
    "    plt.imshow(x_train[n], cmap = plt.cm.binary)\n",
    "    plt.show()"
   ]
  },
  {
   "cell_type": "markdown",
   "id": "separated-cookbook",
   "metadata": {},
   "source": [
    "# TEST"
   ]
  },
  {
   "cell_type": "code",
   "execution_count": 41,
   "id": "jewish-refund",
   "metadata": {},
   "outputs": [
    {
     "name": "stdout",
     "output_type": "stream",
     "text": [
      "100  images to be resized.\n",
      "100 images resized.\n",
      "가위 이미지 resize 완료\n",
      "------------------------------------------\n",
      "100  images to be resized.\n",
      "100 images resized.\n",
      "주먹 이미지 resize 완료\n",
      "------------------------------------------\n",
      "100  images to be resized.\n",
      "100 images resized.\n",
      "보 이미지 resize 완료\n",
      "------------------------------------------\n"
     ]
    }
   ],
   "source": [
    "image_dir_path = os.getenv(\"HOME\") + \"/aiffel/rock_scissor_paper/test/scissor\"\n",
    "resize_images(image_dir_path)\n",
    "print(\"가위 이미지 resize 완료\")\n",
    "print(\"------------------------------------------\")\n",
    "\n",
    "image_dir_path = os.getenv(\"HOME\") + \"/aiffel/rock_scissor_paper/test/rock\"\n",
    "resize_images(image_dir_path)\n",
    "print(\"주먹 이미지 resize 완료\")\n",
    "print(\"------------------------------------------\")\n",
    "\n",
    "image_dir_path = os.getenv(\"HOME\") + \"/aiffel/rock_scissor_paper/test/paper\"\n",
    "resize_images(image_dir_path)\n",
    "print(\"보 이미지 resize 완료\")\n",
    "print(\"------------------------------------------\")"
   ]
  },
  {
   "cell_type": "code",
   "execution_count": 42,
   "id": "growing-friendly",
   "metadata": {},
   "outputs": [
    {
     "name": "stdout",
     "output_type": "stream",
     "text": [
      "학습데이터 (x_train)의 이미지 갯수는 300 입니다.\n",
      "x_train shape : (300, 28, 28, 3)\n",
      "y_train shape : (300,)\n"
     ]
    }
   ],
   "source": [
    "def load_data(img_path, number_of_data = 300):     #151은 이미지 갯수. \n",
    "    #가위 : 0, 바위 : 1, 보 : 2\n",
    "    img_size = 28\n",
    "    color = 3\n",
    "    #이미지 데이터와 라벨(가위:0,바위:1,보:2)데이터를 담을 행렬 생성\n",
    "    imgs = np.zeros(number_of_data * img_size * img_size * color, dtype = np.int32).reshape(number_of_data,img_size,img_size,color)\n",
    "    labels = np.zeros(number_of_data, dtype = np.int32)\n",
    "    \n",
    "    idx = 0\n",
    "    for file in glob.iglob(img_path + '/scissor/*.jpg'):\n",
    "        img = np.array(Image.open(file), dtype = np.int32)\n",
    "        imgs[idx,:,:,:] = img    #데이터 영역에 이미지 행렬을 복사\n",
    "        labels[idx] = 0    #가위 : 0\n",
    "        idx += 1\n",
    "        \n",
    "    for file in glob.iglob(img_path + '/rock/*.jpg'):\n",
    "        img = np.array(Image.open(file), dtype = np.int32)\n",
    "        imgs[idx,:,:,:] = img    #데이터 영역에 이미지 행렬을 복사\n",
    "        labels[idx] = 1    #바위 : 1\n",
    "        idx += 1\n",
    "        \n",
    "    for file in glob.iglob(img_path + '/paper/*.jpg'):\n",
    "        img = np.array(Image.open(file), dtype = np.int32)\n",
    "        imgs[idx,:,:,:] = img    #데이터 영역에 이미지 행렬을 복사\n",
    "        labels[idx] = 2    #보 : 2\n",
    "        idx += 1\n",
    "        \n",
    "    print(\"학습데이터 (x_train)의 이미지 갯수는\", idx, \"입니다.\")\n",
    "    return imgs, labels\n",
    "    \n",
    "image_dir_path = os.getenv(\"HOME\") + \"/aiffel/rock_scissor_paper/test\"\n",
    "(x_test, y_test) = load_data(image_dir_path)\n",
    "x_test_norm = x_test/255.0\n",
    "\n",
    "print(\"x_train shape : {}\".format(x_test.shape))\n",
    "print(\"y_train shape : {}\".format(y_test.shape))"
   ]
  },
  {
   "cell_type": "code",
   "execution_count": 43,
   "id": "referenced-sequence",
   "metadata": {},
   "outputs": [
    {
     "name": "stdout",
     "output_type": "stream",
     "text": [
      "Epoch 1/10\n",
      "10/10 [==============================] - 0s 3ms/step - loss: 3.9869 - accuracy: 0.3867\n",
      "Epoch 2/10\n",
      "10/10 [==============================] - 0s 3ms/step - loss: 1.9312 - accuracy: 0.5333\n",
      "Epoch 3/10\n",
      "10/10 [==============================] - 0s 3ms/step - loss: 1.5716 - accuracy: 0.5200\n",
      "Epoch 4/10\n",
      "10/10 [==============================] - 0s 3ms/step - loss: 1.0050 - accuracy: 0.6800\n",
      "Epoch 5/10\n",
      "10/10 [==============================] - 0s 3ms/step - loss: 0.6595 - accuracy: 0.7867\n",
      "Epoch 6/10\n",
      "10/10 [==============================] - 0s 3ms/step - loss: 0.4521 - accuracy: 0.8333\n",
      "Epoch 7/10\n",
      "10/10 [==============================] - 0s 3ms/step - loss: 0.3136 - accuracy: 0.8700\n",
      "Epoch 8/10\n",
      "10/10 [==============================] - 0s 3ms/step - loss: 0.2471 - accuracy: 0.8767\n",
      "Epoch 9/10\n",
      "10/10 [==============================] - 0s 3ms/step - loss: 0.2058 - accuracy: 0.9133\n",
      "Epoch 10/10\n",
      "10/10 [==============================] - 0s 3ms/step - loss: 0.1636 - accuracy: 0.9367\n"
     ]
    },
    {
     "data": {
      "text/plain": [
       "<tensorflow.python.keras.callbacks.History at 0x7fcc0ca1d090>"
      ]
     },
     "execution_count": 43,
     "metadata": {},
     "output_type": "execute_result"
    }
   ],
   "source": [
    "model.fit(x_test, y_test, epochs = epoch)"
   ]
  },
  {
   "cell_type": "code",
   "execution_count": 44,
   "id": "known-mandate",
   "metadata": {},
   "outputs": [
    {
     "name": "stdout",
     "output_type": "stream",
     "text": [
      "10/10 - 0s - loss: 0.1258 - accuracy: 0.9633\n",
      "test_loss : 0.12576009333133698\n",
      "test_accuracy : 0.9633333086967468\n"
     ]
    }
   ],
   "source": [
    "test_loss, test_accuracy = model.evaluate(x_test, y_test, verbose = 2)\n",
    "print('test_loss : {}'.format(test_loss))\n",
    "print('test_accuracy : {}'.format(test_accuracy))"
   ]
  },
  {
   "cell_type": "code",
   "execution_count": null,
   "id": "stone-paintball",
   "metadata": {},
   "outputs": [],
   "source": []
  }
 ],
 "metadata": {
  "kernelspec": {
   "display_name": "Python 3",
   "language": "python",
   "name": "python3"
  },
  "language_info": {
   "codemirror_mode": {
    "name": "ipython",
    "version": 3
   },
   "file_extension": ".py",
   "mimetype": "text/x-python",
   "name": "python",
   "nbconvert_exporter": "python",
   "pygments_lexer": "ipython3",
   "version": "3.7.9"
  }
 },
 "nbformat": 4,
 "nbformat_minor": 5
}
